{
 "cells": [
  {
   "cell_type": "markdown",
   "metadata": {},
   "source": [
    "#    V.PRAVARSHA -221710304064 - CSE B4"
   ]
  },
  {
   "cell_type": "markdown",
   "metadata": {},
   "source": [
    "## Problem Statement  "
   ]
  },
  {
   "cell_type": "markdown",
   "metadata": {},
   "source": [
    "The problem that we are going to solve here is that given a set of features that describe whether a person is suffering from heart disease or not, our machine learning model must predicts whether the person is suffering from heart disease or not.The goal of this project is to build a model that can predict the probability of heart disease occurrence, based on a combination of features that describes the disease. In order to achieve the goal, we used data sets that was collected by Cleveland Clinic Foundation in Switzerland."
   ]
  },
  {
   "cell_type": "markdown",
   "metadata": {},
   "source": [
    "## Software and Libraries "
   ]
  },
  {
   "cell_type": "markdown",
   "metadata": {},
   "source": [
    "1. Python language was used in this project, with many of its libraries listed below:\n",
    "2. Pandas: data analysis library Numpy: scientific computing library Sklearn: machine learning library Itertools: library contains functions for creating iterators to use for efficient looping Matplotlib: 2D plotting library Seaborn: statistical data visualization"
   ]
  },
  {
   "cell_type": "markdown",
   "metadata": {},
   "source": [
    "## we will analyse the problem by using the 3 algorithms:\n",
    "    1. Logistic Regression\n",
    "    2. Gausian Naive Bayes\n",
    "    3. K Neighbors Classifier"
   ]
  },
  {
   "cell_type": "markdown",
   "metadata": {},
   "source": [
    "# Data Collection"
   ]
  },
  {
   "cell_type": "markdown",
   "metadata": {},
   "source": [
    "To train our machine learning model with heart disease prediction data, we will be using prediction of heart diseases dataset https://www.kaggle.com/johnsmith88/heart-disease-dataset"
   ]
  },
  {
   "cell_type": "markdown",
   "metadata": {},
   "source": [
    "## Description about the Data"
   ]
  },
  {
   "cell_type": "markdown",
   "metadata": {},
   "source": [
    "This data set dates from 1988 and consists of four databases: Cleveland, Hungary, Switzerland, and Long Beach V. It contains 76 attributes, including the predicted attribute, but all published experiments refer to using a subset of 14 of them. The \"target\" field refers to the presence of heart disease in the patient. It is integer valued 0 = no disease and 1 = disease."
   ]
  },
  {
   "cell_type": "markdown",
   "metadata": {},
   "source": [
    "# Attribute Information"
   ]
  },
  {
   "cell_type": "markdown",
   "metadata": {},
   "source": [
    "Attribute Information:\n",
    "\n",
    "age : age is the age of candidate\n",
    "\n",
    "sex : Sex has numeric values. 0 denotes male and 1 denotes female.\n",
    "\n",
    "chest pain type (4 values):Chest Pain pain has values between 0-3. The types of angina that are described in the research paper. The higher the number, the lesser are the odds of heart attack.\n",
    "\n",
    "resting blood pressure :Resting blood pressure is normal pressure with no exercise.\n",
    "\n",
    "serum cholestoral in mg/dl : Cholesterol means the blockage for blood supply in the blood vessels.\n",
    "\n",
    "fasting blood sugar > 120 mg/dl:is blood sugar taken after a long gap between a meal and the test. Typically, it's taken before any meal in the morning.if the fasting blood sugar is below 120 mg/dl it is 0 and 1 if it is above.\n",
    "\n",
    "resting electrocardiographic results (values 0,1,2):results means ECG values taken while person is on rest which means no exercise and normal functioning of heart is happening.\n",
    "\n",
    "maximum heart rate achieved : The Maximum Heart Rate achieved.\n",
    "\n",
    "exercise induced angina : Exercise induced angina is chest pain while exercising or doing any physical activity.\n",
    "\n",
    "oldpeak = ST depression induced by exercise relative to rest\n",
    "the slope of the peak exercise ST segment.\n",
    "ST Depression is the difference between value of ECG at rest and after exercise.\n",
    "\n",
    "ST Slope is the tangent to the depression value.\n",
    "1. Upsloping = 0\n",
    "2. flat = 1\n",
    "3. Downsloping =2 \n",
    "\n",
    "number of major vessels (0-3) colored by flourosopy : The number of major blood vessels supplying blood to heart blocked.\n",
    "\n",
    "thal: types of thalassemia\n",
    "thal: 0 = normal; 1 = fixed defect; 2 = reversable defect\n",
    "\n",
    "Heart diseases prediction where 1 denotes the person is suffering from Heart diseases and 0 means he is not suffering from heart diseases."
   ]
  },
  {
   "cell_type": "markdown",
   "metadata": {},
   "source": [
    "## Import Libraries"
   ]
  },
  {
   "cell_type": "markdown",
   "metadata": {},
   "source": [
    "Let's first import all the necessary libraries. I'll use numpy and pandas to start with. For visualization, I will use pyplot subpackage of matplotlib, For implementing Machine Learning models and processing of data,I will use the sklearn library."
   ]
  },
  {
   "cell_type": "code",
   "execution_count": 36,
   "metadata": {},
   "outputs": [],
   "source": [
    "# Importing the libraries\n",
    "import pandas as pd\n",
    "import numpy as np\n",
    "import matplotlib.pyplot as plt\n",
    "import seaborn as sns\n",
    "import warnings\n",
    "warnings.filterwarnings('ignore')"
   ]
  },
  {
   "cell_type": "markdown",
   "metadata": {},
   "source": [
    "### Read the Data \n",
    "Now some libraries which i need are imported, I can import the dataset and take a look at it. The dataset is stored in the file heart.csv. I'll use the pandas read_csv method to read the dataset."
   ]
  },
  {
   "cell_type": "code",
   "execution_count": 37,
   "metadata": {},
   "outputs": [
    {
     "data": {
      "text/html": [
       "<div>\n",
       "<style scoped>\n",
       "    .dataframe tbody tr th:only-of-type {\n",
       "        vertical-align: middle;\n",
       "    }\n",
       "\n",
       "    .dataframe tbody tr th {\n",
       "        vertical-align: top;\n",
       "    }\n",
       "\n",
       "    .dataframe thead th {\n",
       "        text-align: right;\n",
       "    }\n",
       "</style>\n",
       "<table border=\"1\" class=\"dataframe\">\n",
       "  <thead>\n",
       "    <tr style=\"text-align: right;\">\n",
       "      <th></th>\n",
       "      <th>age</th>\n",
       "      <th>sex</th>\n",
       "      <th>cp</th>\n",
       "      <th>trestbps</th>\n",
       "      <th>chol</th>\n",
       "      <th>fbs</th>\n",
       "      <th>restecg</th>\n",
       "      <th>thalach</th>\n",
       "      <th>exang</th>\n",
       "      <th>oldpeak</th>\n",
       "      <th>slope</th>\n",
       "      <th>ca</th>\n",
       "      <th>thal</th>\n",
       "      <th>target</th>\n",
       "    </tr>\n",
       "  </thead>\n",
       "  <tbody>\n",
       "    <tr>\n",
       "      <th>0</th>\n",
       "      <td>52</td>\n",
       "      <td>1</td>\n",
       "      <td>0</td>\n",
       "      <td>125</td>\n",
       "      <td>212</td>\n",
       "      <td>0</td>\n",
       "      <td>1</td>\n",
       "      <td>168</td>\n",
       "      <td>0</td>\n",
       "      <td>1.0</td>\n",
       "      <td>2</td>\n",
       "      <td>2</td>\n",
       "      <td>3</td>\n",
       "      <td>0</td>\n",
       "    </tr>\n",
       "    <tr>\n",
       "      <th>1</th>\n",
       "      <td>53</td>\n",
       "      <td>1</td>\n",
       "      <td>0</td>\n",
       "      <td>140</td>\n",
       "      <td>203</td>\n",
       "      <td>1</td>\n",
       "      <td>0</td>\n",
       "      <td>155</td>\n",
       "      <td>1</td>\n",
       "      <td>3.1</td>\n",
       "      <td>0</td>\n",
       "      <td>0</td>\n",
       "      <td>3</td>\n",
       "      <td>0</td>\n",
       "    </tr>\n",
       "    <tr>\n",
       "      <th>2</th>\n",
       "      <td>70</td>\n",
       "      <td>1</td>\n",
       "      <td>0</td>\n",
       "      <td>145</td>\n",
       "      <td>174</td>\n",
       "      <td>0</td>\n",
       "      <td>1</td>\n",
       "      <td>125</td>\n",
       "      <td>1</td>\n",
       "      <td>2.6</td>\n",
       "      <td>0</td>\n",
       "      <td>0</td>\n",
       "      <td>3</td>\n",
       "      <td>0</td>\n",
       "    </tr>\n",
       "    <tr>\n",
       "      <th>3</th>\n",
       "      <td>61</td>\n",
       "      <td>1</td>\n",
       "      <td>0</td>\n",
       "      <td>148</td>\n",
       "      <td>203</td>\n",
       "      <td>0</td>\n",
       "      <td>1</td>\n",
       "      <td>161</td>\n",
       "      <td>0</td>\n",
       "      <td>0.0</td>\n",
       "      <td>2</td>\n",
       "      <td>1</td>\n",
       "      <td>3</td>\n",
       "      <td>0</td>\n",
       "    </tr>\n",
       "    <tr>\n",
       "      <th>4</th>\n",
       "      <td>62</td>\n",
       "      <td>0</td>\n",
       "      <td>0</td>\n",
       "      <td>138</td>\n",
       "      <td>294</td>\n",
       "      <td>1</td>\n",
       "      <td>1</td>\n",
       "      <td>106</td>\n",
       "      <td>0</td>\n",
       "      <td>1.9</td>\n",
       "      <td>1</td>\n",
       "      <td>3</td>\n",
       "      <td>2</td>\n",
       "      <td>0</td>\n",
       "    </tr>\n",
       "    <tr>\n",
       "      <th>...</th>\n",
       "      <td>...</td>\n",
       "      <td>...</td>\n",
       "      <td>...</td>\n",
       "      <td>...</td>\n",
       "      <td>...</td>\n",
       "      <td>...</td>\n",
       "      <td>...</td>\n",
       "      <td>...</td>\n",
       "      <td>...</td>\n",
       "      <td>...</td>\n",
       "      <td>...</td>\n",
       "      <td>...</td>\n",
       "      <td>...</td>\n",
       "      <td>...</td>\n",
       "    </tr>\n",
       "    <tr>\n",
       "      <th>1020</th>\n",
       "      <td>59</td>\n",
       "      <td>1</td>\n",
       "      <td>1</td>\n",
       "      <td>140</td>\n",
       "      <td>221</td>\n",
       "      <td>0</td>\n",
       "      <td>1</td>\n",
       "      <td>164</td>\n",
       "      <td>1</td>\n",
       "      <td>0.0</td>\n",
       "      <td>2</td>\n",
       "      <td>0</td>\n",
       "      <td>2</td>\n",
       "      <td>1</td>\n",
       "    </tr>\n",
       "    <tr>\n",
       "      <th>1021</th>\n",
       "      <td>60</td>\n",
       "      <td>1</td>\n",
       "      <td>0</td>\n",
       "      <td>125</td>\n",
       "      <td>258</td>\n",
       "      <td>0</td>\n",
       "      <td>0</td>\n",
       "      <td>141</td>\n",
       "      <td>1</td>\n",
       "      <td>2.8</td>\n",
       "      <td>1</td>\n",
       "      <td>1</td>\n",
       "      <td>3</td>\n",
       "      <td>0</td>\n",
       "    </tr>\n",
       "    <tr>\n",
       "      <th>1022</th>\n",
       "      <td>47</td>\n",
       "      <td>1</td>\n",
       "      <td>0</td>\n",
       "      <td>110</td>\n",
       "      <td>275</td>\n",
       "      <td>0</td>\n",
       "      <td>0</td>\n",
       "      <td>118</td>\n",
       "      <td>1</td>\n",
       "      <td>1.0</td>\n",
       "      <td>1</td>\n",
       "      <td>1</td>\n",
       "      <td>2</td>\n",
       "      <td>0</td>\n",
       "    </tr>\n",
       "    <tr>\n",
       "      <th>1023</th>\n",
       "      <td>50</td>\n",
       "      <td>0</td>\n",
       "      <td>0</td>\n",
       "      <td>110</td>\n",
       "      <td>254</td>\n",
       "      <td>0</td>\n",
       "      <td>0</td>\n",
       "      <td>159</td>\n",
       "      <td>0</td>\n",
       "      <td>0.0</td>\n",
       "      <td>2</td>\n",
       "      <td>0</td>\n",
       "      <td>2</td>\n",
       "      <td>1</td>\n",
       "    </tr>\n",
       "    <tr>\n",
       "      <th>1024</th>\n",
       "      <td>54</td>\n",
       "      <td>1</td>\n",
       "      <td>0</td>\n",
       "      <td>120</td>\n",
       "      <td>188</td>\n",
       "      <td>0</td>\n",
       "      <td>1</td>\n",
       "      <td>113</td>\n",
       "      <td>0</td>\n",
       "      <td>1.4</td>\n",
       "      <td>1</td>\n",
       "      <td>1</td>\n",
       "      <td>3</td>\n",
       "      <td>0</td>\n",
       "    </tr>\n",
       "  </tbody>\n",
       "</table>\n",
       "<p>1025 rows × 14 columns</p>\n",
       "</div>"
      ],
      "text/plain": [
       "      age  sex  cp  trestbps  chol  fbs  restecg  thalach  exang  oldpeak  \\\n",
       "0      52    1   0       125   212    0        1      168      0      1.0   \n",
       "1      53    1   0       140   203    1        0      155      1      3.1   \n",
       "2      70    1   0       145   174    0        1      125      1      2.6   \n",
       "3      61    1   0       148   203    0        1      161      0      0.0   \n",
       "4      62    0   0       138   294    1        1      106      0      1.9   \n",
       "...   ...  ...  ..       ...   ...  ...      ...      ...    ...      ...   \n",
       "1020   59    1   1       140   221    0        1      164      1      0.0   \n",
       "1021   60    1   0       125   258    0        0      141      1      2.8   \n",
       "1022   47    1   0       110   275    0        0      118      1      1.0   \n",
       "1023   50    0   0       110   254    0        0      159      0      0.0   \n",
       "1024   54    1   0       120   188    0        1      113      0      1.4   \n",
       "\n",
       "      slope  ca  thal  target  \n",
       "0         2   2     3       0  \n",
       "1         0   0     3       0  \n",
       "2         0   0     3       0  \n",
       "3         2   1     3       0  \n",
       "4         1   3     2       0  \n",
       "...     ...  ..   ...     ...  \n",
       "1020      2   0     2       1  \n",
       "1021      1   1     3       0  \n",
       "1022      1   1     2       0  \n",
       "1023      2   0     2       1  \n",
       "1024      1   1     3       0  \n",
       "\n",
       "[1025 rows x 14 columns]"
      ]
     },
     "execution_count": 37,
     "metadata": {},
     "output_type": "execute_result"
    }
   ],
   "source": [
    "data = pd.read_csv(\"heart.csv\")\n",
    "data"
   ]
  },
  {
   "cell_type": "markdown",
   "metadata": {},
   "source": [
    "The shape property is usually used to get the current shape of an array, but may also be used to reshape the array in-place by assigning a tuple of array dimensions to it."
   ]
  },
  {
   "cell_type": "code",
   "execution_count": 38,
   "metadata": {},
   "outputs": [
    {
     "data": {
      "text/plain": [
       "(1025, 14)"
      ]
     },
     "execution_count": 38,
     "metadata": {},
     "output_type": "execute_result"
    }
   ],
   "source": [
    "data.shape"
   ]
  },
  {
   "cell_type": "code",
   "execution_count": 39,
   "metadata": {},
   "outputs": [
    {
     "name": "stdout",
     "output_type": "stream",
     "text": [
      "<class 'pandas.core.frame.DataFrame'>\n",
      "RangeIndex: 1025 entries, 0 to 1024\n",
      "Data columns (total 14 columns):\n",
      " #   Column    Non-Null Count  Dtype  \n",
      "---  ------    --------------  -----  \n",
      " 0   age       1025 non-null   int64  \n",
      " 1   sex       1025 non-null   int64  \n",
      " 2   cp        1025 non-null   int64  \n",
      " 3   trestbps  1025 non-null   int64  \n",
      " 4   chol      1025 non-null   int64  \n",
      " 5   fbs       1025 non-null   int64  \n",
      " 6   restecg   1025 non-null   int64  \n",
      " 7   thalach   1025 non-null   int64  \n",
      " 8   exang     1025 non-null   int64  \n",
      " 9   oldpeak   1025 non-null   float64\n",
      " 10  slope     1025 non-null   int64  \n",
      " 11  ca        1025 non-null   int64  \n",
      " 12  thal      1025 non-null   int64  \n",
      " 13  target    1025 non-null   int64  \n",
      "dtypes: float64(1), int64(13)\n",
      "memory usage: 112.2 KB\n"
     ]
    }
   ],
   "source": [
    "data.info()"
   ]
  },
  {
   "cell_type": "markdown",
   "metadata": {},
   "source": [
    "# Exploratory Data Analysis: "
   ]
  },
  {
   "cell_type": "markdown",
   "metadata": {},
   "source": [
    "### Exploratory Data Analysis (EDA) \n",
    "EDA is a phenomenon under data analysis used for gaining a better understanding of data aspects like: – main features of data. – variables and relationships that hold between them. – identifying which variables are important for our problem.\n",
    "It is an approach to analyzing data sets to summarize their main characteristics, often with visual methods. "
   ]
  },
  {
   "cell_type": "markdown",
   "metadata": {},
   "source": [
    "### 1. Stastistical Analysis"
   ]
  },
  {
   "cell_type": "code",
   "execution_count": 40,
   "metadata": {},
   "outputs": [
    {
     "data": {
      "text/plain": [
       "dtype('int64')"
      ]
     },
     "execution_count": 40,
     "metadata": {},
     "output_type": "execute_result"
    }
   ],
   "source": [
    "#checking the data type of any column\n",
    "data.age.dtype"
   ]
  },
  {
   "cell_type": "code",
   "execution_count": 41,
   "metadata": {},
   "outputs": [
    {
     "data": {
      "text/plain": [
       "numpy.int64"
      ]
     },
     "execution_count": 41,
     "metadata": {},
     "output_type": "execute_result"
    }
   ],
   "source": [
    "type(data.age[0])"
   ]
  },
  {
   "cell_type": "code",
   "execution_count": 42,
   "metadata": {
    "scrolled": true
   },
   "outputs": [
    {
     "data": {
      "text/plain": [
       "restecg     1\n",
       "ca          1\n",
       "cp          1\n",
       "sex         1\n",
       "fbs         1\n",
       "age         1\n",
       "oldpeak     1\n",
       "target      1\n",
       "thal        1\n",
       "slope       1\n",
       "chol        1\n",
       "trestbps    1\n",
       "thalach     1\n",
       "exang       1\n",
       "dtype: int64"
      ]
     },
     "execution_count": 42,
     "metadata": {},
     "output_type": "execute_result"
    }
   ],
   "source": [
    "data.columns.value_counts()"
   ]
  },
  {
   "cell_type": "code",
   "execution_count": 43,
   "metadata": {},
   "outputs": [
    {
     "data": {
      "text/html": [
       "<div>\n",
       "<style scoped>\n",
       "    .dataframe tbody tr th:only-of-type {\n",
       "        vertical-align: middle;\n",
       "    }\n",
       "\n",
       "    .dataframe tbody tr th {\n",
       "        vertical-align: top;\n",
       "    }\n",
       "\n",
       "    .dataframe thead th {\n",
       "        text-align: right;\n",
       "    }\n",
       "</style>\n",
       "<table border=\"1\" class=\"dataframe\">\n",
       "  <thead>\n",
       "    <tr style=\"text-align: right;\">\n",
       "      <th></th>\n",
       "      <th>age</th>\n",
       "      <th>sex</th>\n",
       "      <th>cp</th>\n",
       "      <th>trestbps</th>\n",
       "      <th>chol</th>\n",
       "      <th>fbs</th>\n",
       "      <th>restecg</th>\n",
       "      <th>thalach</th>\n",
       "      <th>exang</th>\n",
       "      <th>oldpeak</th>\n",
       "      <th>slope</th>\n",
       "      <th>ca</th>\n",
       "      <th>thal</th>\n",
       "      <th>target</th>\n",
       "    </tr>\n",
       "  </thead>\n",
       "  <tbody>\n",
       "    <tr>\n",
       "      <th>15</th>\n",
       "      <td>34</td>\n",
       "      <td>0</td>\n",
       "      <td>1</td>\n",
       "      <td>118</td>\n",
       "      <td>210</td>\n",
       "      <td>0</td>\n",
       "      <td>1</td>\n",
       "      <td>192</td>\n",
       "      <td>0</td>\n",
       "      <td>0.7</td>\n",
       "      <td>2</td>\n",
       "      <td>0</td>\n",
       "      <td>2</td>\n",
       "      <td>1</td>\n",
       "    </tr>\n",
       "    <tr>\n",
       "      <th>31</th>\n",
       "      <td>50</td>\n",
       "      <td>0</td>\n",
       "      <td>1</td>\n",
       "      <td>120</td>\n",
       "      <td>244</td>\n",
       "      <td>0</td>\n",
       "      <td>1</td>\n",
       "      <td>162</td>\n",
       "      <td>0</td>\n",
       "      <td>1.1</td>\n",
       "      <td>2</td>\n",
       "      <td>0</td>\n",
       "      <td>2</td>\n",
       "      <td>1</td>\n",
       "    </tr>\n",
       "    <tr>\n",
       "      <th>43</th>\n",
       "      <td>46</td>\n",
       "      <td>1</td>\n",
       "      <td>0</td>\n",
       "      <td>120</td>\n",
       "      <td>249</td>\n",
       "      <td>0</td>\n",
       "      <td>0</td>\n",
       "      <td>144</td>\n",
       "      <td>0</td>\n",
       "      <td>0.8</td>\n",
       "      <td>2</td>\n",
       "      <td>0</td>\n",
       "      <td>3</td>\n",
       "      <td>0</td>\n",
       "    </tr>\n",
       "    <tr>\n",
       "      <th>55</th>\n",
       "      <td>55</td>\n",
       "      <td>1</td>\n",
       "      <td>0</td>\n",
       "      <td>140</td>\n",
       "      <td>217</td>\n",
       "      <td>0</td>\n",
       "      <td>1</td>\n",
       "      <td>111</td>\n",
       "      <td>1</td>\n",
       "      <td>5.6</td>\n",
       "      <td>0</td>\n",
       "      <td>0</td>\n",
       "      <td>3</td>\n",
       "      <td>0</td>\n",
       "    </tr>\n",
       "    <tr>\n",
       "      <th>61</th>\n",
       "      <td>66</td>\n",
       "      <td>0</td>\n",
       "      <td>2</td>\n",
       "      <td>146</td>\n",
       "      <td>278</td>\n",
       "      <td>0</td>\n",
       "      <td>0</td>\n",
       "      <td>152</td>\n",
       "      <td>0</td>\n",
       "      <td>0.0</td>\n",
       "      <td>1</td>\n",
       "      <td>1</td>\n",
       "      <td>2</td>\n",
       "      <td>1</td>\n",
       "    </tr>\n",
       "    <tr>\n",
       "      <th>...</th>\n",
       "      <td>...</td>\n",
       "      <td>...</td>\n",
       "      <td>...</td>\n",
       "      <td>...</td>\n",
       "      <td>...</td>\n",
       "      <td>...</td>\n",
       "      <td>...</td>\n",
       "      <td>...</td>\n",
       "      <td>...</td>\n",
       "      <td>...</td>\n",
       "      <td>...</td>\n",
       "      <td>...</td>\n",
       "      <td>...</td>\n",
       "      <td>...</td>\n",
       "    </tr>\n",
       "    <tr>\n",
       "      <th>1020</th>\n",
       "      <td>59</td>\n",
       "      <td>1</td>\n",
       "      <td>1</td>\n",
       "      <td>140</td>\n",
       "      <td>221</td>\n",
       "      <td>0</td>\n",
       "      <td>1</td>\n",
       "      <td>164</td>\n",
       "      <td>1</td>\n",
       "      <td>0.0</td>\n",
       "      <td>2</td>\n",
       "      <td>0</td>\n",
       "      <td>2</td>\n",
       "      <td>1</td>\n",
       "    </tr>\n",
       "    <tr>\n",
       "      <th>1021</th>\n",
       "      <td>60</td>\n",
       "      <td>1</td>\n",
       "      <td>0</td>\n",
       "      <td>125</td>\n",
       "      <td>258</td>\n",
       "      <td>0</td>\n",
       "      <td>0</td>\n",
       "      <td>141</td>\n",
       "      <td>1</td>\n",
       "      <td>2.8</td>\n",
       "      <td>1</td>\n",
       "      <td>1</td>\n",
       "      <td>3</td>\n",
       "      <td>0</td>\n",
       "    </tr>\n",
       "    <tr>\n",
       "      <th>1022</th>\n",
       "      <td>47</td>\n",
       "      <td>1</td>\n",
       "      <td>0</td>\n",
       "      <td>110</td>\n",
       "      <td>275</td>\n",
       "      <td>0</td>\n",
       "      <td>0</td>\n",
       "      <td>118</td>\n",
       "      <td>1</td>\n",
       "      <td>1.0</td>\n",
       "      <td>1</td>\n",
       "      <td>1</td>\n",
       "      <td>2</td>\n",
       "      <td>0</td>\n",
       "    </tr>\n",
       "    <tr>\n",
       "      <th>1023</th>\n",
       "      <td>50</td>\n",
       "      <td>0</td>\n",
       "      <td>0</td>\n",
       "      <td>110</td>\n",
       "      <td>254</td>\n",
       "      <td>0</td>\n",
       "      <td>0</td>\n",
       "      <td>159</td>\n",
       "      <td>0</td>\n",
       "      <td>0.0</td>\n",
       "      <td>2</td>\n",
       "      <td>0</td>\n",
       "      <td>2</td>\n",
       "      <td>1</td>\n",
       "    </tr>\n",
       "    <tr>\n",
       "      <th>1024</th>\n",
       "      <td>54</td>\n",
       "      <td>1</td>\n",
       "      <td>0</td>\n",
       "      <td>120</td>\n",
       "      <td>188</td>\n",
       "      <td>0</td>\n",
       "      <td>1</td>\n",
       "      <td>113</td>\n",
       "      <td>0</td>\n",
       "      <td>1.4</td>\n",
       "      <td>1</td>\n",
       "      <td>1</td>\n",
       "      <td>3</td>\n",
       "      <td>0</td>\n",
       "    </tr>\n",
       "  </tbody>\n",
       "</table>\n",
       "<p>723 rows × 14 columns</p>\n",
       "</div>"
      ],
      "text/plain": [
       "      age  sex  cp  trestbps  chol  fbs  restecg  thalach  exang  oldpeak  \\\n",
       "15     34    0   1       118   210    0        1      192      0      0.7   \n",
       "31     50    0   1       120   244    0        1      162      0      1.1   \n",
       "43     46    1   0       120   249    0        0      144      0      0.8   \n",
       "55     55    1   0       140   217    0        1      111      1      5.6   \n",
       "61     66    0   2       146   278    0        0      152      0      0.0   \n",
       "...   ...  ...  ..       ...   ...  ...      ...      ...    ...      ...   \n",
       "1020   59    1   1       140   221    0        1      164      1      0.0   \n",
       "1021   60    1   0       125   258    0        0      141      1      2.8   \n",
       "1022   47    1   0       110   275    0        0      118      1      1.0   \n",
       "1023   50    0   0       110   254    0        0      159      0      0.0   \n",
       "1024   54    1   0       120   188    0        1      113      0      1.4   \n",
       "\n",
       "      slope  ca  thal  target  \n",
       "15        2   0     2       1  \n",
       "31        2   0     2       1  \n",
       "43        2   0     3       0  \n",
       "55        0   0     3       0  \n",
       "61        1   1     2       1  \n",
       "...     ...  ..   ...     ...  \n",
       "1020      2   0     2       1  \n",
       "1021      1   1     3       0  \n",
       "1022      1   1     2       0  \n",
       "1023      2   0     2       1  \n",
       "1024      1   1     3       0  \n",
       "\n",
       "[723 rows x 14 columns]"
      ]
     },
     "execution_count": 43,
     "metadata": {},
     "output_type": "execute_result"
    }
   ],
   "source": [
    "#checking for duplicate values\n",
    "data[data.duplicated()]"
   ]
  },
  {
   "cell_type": "markdown",
   "metadata": {},
   "source": [
    "The dataset is now loaded into the variable data.  Before I  start processing and visualizing data, I'll just take a glimpse of the data using the desribe() and info() methods"
   ]
  },
  {
   "cell_type": "code",
   "execution_count": 44,
   "metadata": {},
   "outputs": [
    {
     "name": "stdout",
     "output_type": "stream",
     "text": [
      "0       1\n",
      "1       1\n",
      "2       1\n",
      "3       1\n",
      "4       0\n",
      "       ..\n",
      "1020    1\n",
      "1021    1\n",
      "1022    1\n",
      "1023    0\n",
      "1024    1\n",
      "Name: sex, Length: 1025, dtype: int64\n"
     ]
    }
   ],
   "source": [
    "print(data['sex'])"
   ]
  },
  {
   "cell_type": "code",
   "execution_count": 45,
   "metadata": {},
   "outputs": [
    {
     "data": {
      "text/plain": [
       "age         0\n",
       "sex         0\n",
       "cp          0\n",
       "trestbps    0\n",
       "chol        0\n",
       "fbs         0\n",
       "restecg     0\n",
       "thalach     0\n",
       "exang       0\n",
       "oldpeak     0\n",
       "slope       0\n",
       "ca          0\n",
       "thal        0\n",
       "target      0\n",
       "dtype: int64"
      ]
     },
     "execution_count": 45,
     "metadata": {},
     "output_type": "execute_result"
    }
   ],
   "source": [
    "data.isnull().sum()"
   ]
  },
  {
   "cell_type": "markdown",
   "metadata": {},
   "source": [
    "Looks like the dataset has a total of 1025 rows and there are no missing values. There are a total of 13 features along with one target value which we wish to find."
   ]
  },
  {
   "cell_type": "code",
   "execution_count": 46,
   "metadata": {},
   "outputs": [
    {
     "data": {
      "text/html": [
       "<div>\n",
       "<style scoped>\n",
       "    .dataframe tbody tr th:only-of-type {\n",
       "        vertical-align: middle;\n",
       "    }\n",
       "\n",
       "    .dataframe tbody tr th {\n",
       "        vertical-align: top;\n",
       "    }\n",
       "\n",
       "    .dataframe thead th {\n",
       "        text-align: right;\n",
       "    }\n",
       "</style>\n",
       "<table border=\"1\" class=\"dataframe\">\n",
       "  <thead>\n",
       "    <tr style=\"text-align: right;\">\n",
       "      <th></th>\n",
       "      <th>age</th>\n",
       "      <th>sex</th>\n",
       "      <th>cp</th>\n",
       "      <th>trestbps</th>\n",
       "      <th>chol</th>\n",
       "      <th>fbs</th>\n",
       "      <th>restecg</th>\n",
       "      <th>thalach</th>\n",
       "      <th>exang</th>\n",
       "      <th>oldpeak</th>\n",
       "      <th>slope</th>\n",
       "      <th>ca</th>\n",
       "      <th>thal</th>\n",
       "      <th>target</th>\n",
       "    </tr>\n",
       "  </thead>\n",
       "  <tbody>\n",
       "    <tr>\n",
       "      <th>count</th>\n",
       "      <td>1025.000000</td>\n",
       "      <td>1025.000000</td>\n",
       "      <td>1025.000000</td>\n",
       "      <td>1025.000000</td>\n",
       "      <td>1025.00000</td>\n",
       "      <td>1025.000000</td>\n",
       "      <td>1025.000000</td>\n",
       "      <td>1025.000000</td>\n",
       "      <td>1025.000000</td>\n",
       "      <td>1025.000000</td>\n",
       "      <td>1025.000000</td>\n",
       "      <td>1025.000000</td>\n",
       "      <td>1025.000000</td>\n",
       "      <td>1025.000000</td>\n",
       "    </tr>\n",
       "    <tr>\n",
       "      <th>mean</th>\n",
       "      <td>54.434146</td>\n",
       "      <td>0.695610</td>\n",
       "      <td>0.942439</td>\n",
       "      <td>131.611707</td>\n",
       "      <td>246.00000</td>\n",
       "      <td>0.149268</td>\n",
       "      <td>0.529756</td>\n",
       "      <td>149.114146</td>\n",
       "      <td>0.336585</td>\n",
       "      <td>1.071512</td>\n",
       "      <td>1.385366</td>\n",
       "      <td>0.754146</td>\n",
       "      <td>2.323902</td>\n",
       "      <td>0.513171</td>\n",
       "    </tr>\n",
       "    <tr>\n",
       "      <th>std</th>\n",
       "      <td>9.072290</td>\n",
       "      <td>0.460373</td>\n",
       "      <td>1.029641</td>\n",
       "      <td>17.516718</td>\n",
       "      <td>51.59251</td>\n",
       "      <td>0.356527</td>\n",
       "      <td>0.527878</td>\n",
       "      <td>23.005724</td>\n",
       "      <td>0.472772</td>\n",
       "      <td>1.175053</td>\n",
       "      <td>0.617755</td>\n",
       "      <td>1.030798</td>\n",
       "      <td>0.620660</td>\n",
       "      <td>0.500070</td>\n",
       "    </tr>\n",
       "    <tr>\n",
       "      <th>min</th>\n",
       "      <td>29.000000</td>\n",
       "      <td>0.000000</td>\n",
       "      <td>0.000000</td>\n",
       "      <td>94.000000</td>\n",
       "      <td>126.00000</td>\n",
       "      <td>0.000000</td>\n",
       "      <td>0.000000</td>\n",
       "      <td>71.000000</td>\n",
       "      <td>0.000000</td>\n",
       "      <td>0.000000</td>\n",
       "      <td>0.000000</td>\n",
       "      <td>0.000000</td>\n",
       "      <td>0.000000</td>\n",
       "      <td>0.000000</td>\n",
       "    </tr>\n",
       "    <tr>\n",
       "      <th>25%</th>\n",
       "      <td>48.000000</td>\n",
       "      <td>0.000000</td>\n",
       "      <td>0.000000</td>\n",
       "      <td>120.000000</td>\n",
       "      <td>211.00000</td>\n",
       "      <td>0.000000</td>\n",
       "      <td>0.000000</td>\n",
       "      <td>132.000000</td>\n",
       "      <td>0.000000</td>\n",
       "      <td>0.000000</td>\n",
       "      <td>1.000000</td>\n",
       "      <td>0.000000</td>\n",
       "      <td>2.000000</td>\n",
       "      <td>0.000000</td>\n",
       "    </tr>\n",
       "    <tr>\n",
       "      <th>50%</th>\n",
       "      <td>56.000000</td>\n",
       "      <td>1.000000</td>\n",
       "      <td>1.000000</td>\n",
       "      <td>130.000000</td>\n",
       "      <td>240.00000</td>\n",
       "      <td>0.000000</td>\n",
       "      <td>1.000000</td>\n",
       "      <td>152.000000</td>\n",
       "      <td>0.000000</td>\n",
       "      <td>0.800000</td>\n",
       "      <td>1.000000</td>\n",
       "      <td>0.000000</td>\n",
       "      <td>2.000000</td>\n",
       "      <td>1.000000</td>\n",
       "    </tr>\n",
       "    <tr>\n",
       "      <th>75%</th>\n",
       "      <td>61.000000</td>\n",
       "      <td>1.000000</td>\n",
       "      <td>2.000000</td>\n",
       "      <td>140.000000</td>\n",
       "      <td>275.00000</td>\n",
       "      <td>0.000000</td>\n",
       "      <td>1.000000</td>\n",
       "      <td>166.000000</td>\n",
       "      <td>1.000000</td>\n",
       "      <td>1.800000</td>\n",
       "      <td>2.000000</td>\n",
       "      <td>1.000000</td>\n",
       "      <td>3.000000</td>\n",
       "      <td>1.000000</td>\n",
       "    </tr>\n",
       "    <tr>\n",
       "      <th>max</th>\n",
       "      <td>77.000000</td>\n",
       "      <td>1.000000</td>\n",
       "      <td>3.000000</td>\n",
       "      <td>200.000000</td>\n",
       "      <td>564.00000</td>\n",
       "      <td>1.000000</td>\n",
       "      <td>2.000000</td>\n",
       "      <td>202.000000</td>\n",
       "      <td>1.000000</td>\n",
       "      <td>6.200000</td>\n",
       "      <td>2.000000</td>\n",
       "      <td>4.000000</td>\n",
       "      <td>3.000000</td>\n",
       "      <td>1.000000</td>\n",
       "    </tr>\n",
       "  </tbody>\n",
       "</table>\n",
       "</div>"
      ],
      "text/plain": [
       "               age          sex           cp     trestbps        chol  \\\n",
       "count  1025.000000  1025.000000  1025.000000  1025.000000  1025.00000   \n",
       "mean     54.434146     0.695610     0.942439   131.611707   246.00000   \n",
       "std       9.072290     0.460373     1.029641    17.516718    51.59251   \n",
       "min      29.000000     0.000000     0.000000    94.000000   126.00000   \n",
       "25%      48.000000     0.000000     0.000000   120.000000   211.00000   \n",
       "50%      56.000000     1.000000     1.000000   130.000000   240.00000   \n",
       "75%      61.000000     1.000000     2.000000   140.000000   275.00000   \n",
       "max      77.000000     1.000000     3.000000   200.000000   564.00000   \n",
       "\n",
       "               fbs      restecg      thalach        exang      oldpeak  \\\n",
       "count  1025.000000  1025.000000  1025.000000  1025.000000  1025.000000   \n",
       "mean      0.149268     0.529756   149.114146     0.336585     1.071512   \n",
       "std       0.356527     0.527878    23.005724     0.472772     1.175053   \n",
       "min       0.000000     0.000000    71.000000     0.000000     0.000000   \n",
       "25%       0.000000     0.000000   132.000000     0.000000     0.000000   \n",
       "50%       0.000000     1.000000   152.000000     0.000000     0.800000   \n",
       "75%       0.000000     1.000000   166.000000     1.000000     1.800000   \n",
       "max       1.000000     2.000000   202.000000     1.000000     6.200000   \n",
       "\n",
       "             slope           ca         thal       target  \n",
       "count  1025.000000  1025.000000  1025.000000  1025.000000  \n",
       "mean      1.385366     0.754146     2.323902     0.513171  \n",
       "std       0.617755     1.030798     0.620660     0.500070  \n",
       "min       0.000000     0.000000     0.000000     0.000000  \n",
       "25%       1.000000     0.000000     2.000000     0.000000  \n",
       "50%       1.000000     0.000000     2.000000     1.000000  \n",
       "75%       2.000000     1.000000     3.000000     1.000000  \n",
       "max       2.000000     4.000000     3.000000     1.000000  "
      ]
     },
     "execution_count": 46,
     "metadata": {},
     "output_type": "execute_result"
    }
   ],
   "source": [
    "data.describe()"
   ]
  },
  {
   "cell_type": "markdown",
   "metadata": {},
   "source": [
    "The scale of each feature is different from each other and varied as well. While the maximum for age reaches 77, the maximum of serum cholestoral is 564."
   ]
  },
  {
   "cell_type": "code",
   "execution_count": 47,
   "metadata": {},
   "outputs": [
    {
     "data": {
      "text/plain": [
       "1    526\n",
       "0    499\n",
       "Name: target, dtype: int64"
      ]
     },
     "execution_count": 47,
     "metadata": {},
     "output_type": "execute_result"
    }
   ],
   "source": [
    "data.target.value_counts()"
   ]
  },
  {
   "cell_type": "markdown",
   "metadata": {},
   "source": [
    "## Analysis of Data using GroupBy() and Cmap"
   ]
  },
  {
   "cell_type": "code",
   "execution_count": 48,
   "metadata": {},
   "outputs": [
    {
     "data": {
      "text/html": [
       "<style  type=\"text/css\" >\n",
       "    #T_ec0a43f4_d3c0_11ea_9157_38f9d384f426row0_col0 {\n",
       "            background-color:  #3f007d;\n",
       "            color:  #f1f1f1;\n",
       "        }    #T_ec0a43f4_d3c0_11ea_9157_38f9d384f426row0_col1 {\n",
       "            background-color:  #7b72b4;\n",
       "            color:  #000000;\n",
       "        }    #T_ec0a43f4_d3c0_11ea_9157_38f9d384f426row0_col2 {\n",
       "            background-color:  #3f007d;\n",
       "            color:  #f1f1f1;\n",
       "        }    #T_ec0a43f4_d3c0_11ea_9157_38f9d384f426row1_col0 {\n",
       "            background-color:  #3f007d;\n",
       "            color:  #f1f1f1;\n",
       "        }    #T_ec0a43f4_d3c0_11ea_9157_38f9d384f426row1_col1 {\n",
       "            background-color:  #827fbb;\n",
       "            color:  #000000;\n",
       "        }    #T_ec0a43f4_d3c0_11ea_9157_38f9d384f426row1_col2 {\n",
       "            background-color:  #4a1587;\n",
       "            color:  #f1f1f1;\n",
       "        }    #T_ec0a43f4_d3c0_11ea_9157_38f9d384f426row2_col0 {\n",
       "            background-color:  #3f007d;\n",
       "            color:  #f1f1f1;\n",
       "        }    #T_ec0a43f4_d3c0_11ea_9157_38f9d384f426row2_col1 {\n",
       "            background-color:  #7465ad;\n",
       "            color:  #000000;\n",
       "        }    #T_ec0a43f4_d3c0_11ea_9157_38f9d384f426row2_col2 {\n",
       "            background-color:  #552a90;\n",
       "            color:  #f1f1f1;\n",
       "        }    #T_ec0a43f4_d3c0_11ea_9157_38f9d384f426row3_col0 {\n",
       "            background-color:  #3f007d;\n",
       "            color:  #f1f1f1;\n",
       "        }    #T_ec0a43f4_d3c0_11ea_9157_38f9d384f426row3_col1 {\n",
       "            background-color:  #b0afd4;\n",
       "            color:  #000000;\n",
       "        }    #T_ec0a43f4_d3c0_11ea_9157_38f9d384f426row3_col2 {\n",
       "            background-color:  #674ba0;\n",
       "            color:  #f1f1f1;\n",
       "        }    #T_ec0a43f4_d3c0_11ea_9157_38f9d384f426row4_col0 {\n",
       "            background-color:  #3f007d;\n",
       "            color:  #f1f1f1;\n",
       "        }    #T_ec0a43f4_d3c0_11ea_9157_38f9d384f426row4_col1 {\n",
       "            background-color:  #9e9ac8;\n",
       "            color:  #000000;\n",
       "        }    #T_ec0a43f4_d3c0_11ea_9157_38f9d384f426row4_col2 {\n",
       "            background-color:  #7262ac;\n",
       "            color:  #000000;\n",
       "        }    #T_ec0a43f4_d3c0_11ea_9157_38f9d384f426row5_col0 {\n",
       "            background-color:  #3f007d;\n",
       "            color:  #f1f1f1;\n",
       "        }    #T_ec0a43f4_d3c0_11ea_9157_38f9d384f426row5_col1 {\n",
       "            background-color:  #f0eef6;\n",
       "            color:  #000000;\n",
       "        }    #T_ec0a43f4_d3c0_11ea_9157_38f9d384f426row5_col2 {\n",
       "            background-color:  #aeadd3;\n",
       "            color:  #000000;\n",
       "        }    #T_ec0a43f4_d3c0_11ea_9157_38f9d384f426row6_col0 {\n",
       "            background-color:  #3f007d;\n",
       "            color:  #f1f1f1;\n",
       "        }    #T_ec0a43f4_d3c0_11ea_9157_38f9d384f426row6_col1 {\n",
       "            background-color:  #8c88bf;\n",
       "            color:  #000000;\n",
       "        }    #T_ec0a43f4_d3c0_11ea_9157_38f9d384f426row6_col2 {\n",
       "            background-color:  #b6b6d8;\n",
       "            color:  #000000;\n",
       "        }    #T_ec0a43f4_d3c0_11ea_9157_38f9d384f426row7_col0 {\n",
       "            background-color:  #3f007d;\n",
       "            color:  #f1f1f1;\n",
       "        }    #T_ec0a43f4_d3c0_11ea_9157_38f9d384f426row7_col1 {\n",
       "            background-color:  #babadb;\n",
       "            color:  #000000;\n",
       "        }    #T_ec0a43f4_d3c0_11ea_9157_38f9d384f426row7_col2 {\n",
       "            background-color:  #c6c7e1;\n",
       "            color:  #000000;\n",
       "        }    #T_ec0a43f4_d3c0_11ea_9157_38f9d384f426row8_col0 {\n",
       "            background-color:  #3f007d;\n",
       "            color:  #f1f1f1;\n",
       "        }    #T_ec0a43f4_d3c0_11ea_9157_38f9d384f426row8_col1 {\n",
       "            background-color:  #52238d;\n",
       "            color:  #f1f1f1;\n",
       "        }    #T_ec0a43f4_d3c0_11ea_9157_38f9d384f426row8_col2 {\n",
       "            background-color:  #d6d6e9;\n",
       "            color:  #000000;\n",
       "        }    #T_ec0a43f4_d3c0_11ea_9157_38f9d384f426row9_col0 {\n",
       "            background-color:  #3f007d;\n",
       "            color:  #f1f1f1;\n",
       "        }    #T_ec0a43f4_d3c0_11ea_9157_38f9d384f426row9_col1 {\n",
       "            background-color:  #6d57a6;\n",
       "            color:  #f1f1f1;\n",
       "        }    #T_ec0a43f4_d3c0_11ea_9157_38f9d384f426row9_col2 {\n",
       "            background-color:  #ddddec;\n",
       "            color:  #000000;\n",
       "        }    #T_ec0a43f4_d3c0_11ea_9157_38f9d384f426row10_col0 {\n",
       "            background-color:  #fcfbfd;\n",
       "            color:  #000000;\n",
       "        }    #T_ec0a43f4_d3c0_11ea_9157_38f9d384f426row10_col1 {\n",
       "            background-color:  #603e9a;\n",
       "            color:  #f1f1f1;\n",
       "        }    #T_ec0a43f4_d3c0_11ea_9157_38f9d384f426row10_col2 {\n",
       "            background-color:  #ddddec;\n",
       "            color:  #000000;\n",
       "        }    #T_ec0a43f4_d3c0_11ea_9157_38f9d384f426row11_col0 {\n",
       "            background-color:  #3f007d;\n",
       "            color:  #f1f1f1;\n",
       "        }    #T_ec0a43f4_d3c0_11ea_9157_38f9d384f426row11_col1 {\n",
       "            background-color:  #674ba0;\n",
       "            color:  #f1f1f1;\n",
       "        }    #T_ec0a43f4_d3c0_11ea_9157_38f9d384f426row11_col2 {\n",
       "            background-color:  #e2e2ef;\n",
       "            color:  #000000;\n",
       "        }    #T_ec0a43f4_d3c0_11ea_9157_38f9d384f426row12_col0 {\n",
       "            background-color:  #3f007d;\n",
       "            color:  #f1f1f1;\n",
       "        }    #T_ec0a43f4_d3c0_11ea_9157_38f9d384f426row12_col1 {\n",
       "            background-color:  #3f007d;\n",
       "            color:  #f1f1f1;\n",
       "        }    #T_ec0a43f4_d3c0_11ea_9157_38f9d384f426row12_col2 {\n",
       "            background-color:  #e8e7f2;\n",
       "            color:  #000000;\n",
       "        }    #T_ec0a43f4_d3c0_11ea_9157_38f9d384f426row13_col0 {\n",
       "            background-color:  #fcfbfd;\n",
       "            color:  #000000;\n",
       "        }    #T_ec0a43f4_d3c0_11ea_9157_38f9d384f426row13_col1 {\n",
       "            background-color:  #7b72b4;\n",
       "            color:  #000000;\n",
       "        }    #T_ec0a43f4_d3c0_11ea_9157_38f9d384f426row13_col2 {\n",
       "            background-color:  #eeecf4;\n",
       "            color:  #000000;\n",
       "        }    #T_ec0a43f4_d3c0_11ea_9157_38f9d384f426row14_col0 {\n",
       "            background-color:  #3f007d;\n",
       "            color:  #f1f1f1;\n",
       "        }    #T_ec0a43f4_d3c0_11ea_9157_38f9d384f426row14_col1 {\n",
       "            background-color:  #d6d6e9;\n",
       "            color:  #000000;\n",
       "        }    #T_ec0a43f4_d3c0_11ea_9157_38f9d384f426row14_col2 {\n",
       "            background-color:  #f2f0f7;\n",
       "            color:  #000000;\n",
       "        }    #T_ec0a43f4_d3c0_11ea_9157_38f9d384f426row15_col0 {\n",
       "            background-color:  #3f007d;\n",
       "            color:  #f1f1f1;\n",
       "        }    #T_ec0a43f4_d3c0_11ea_9157_38f9d384f426row15_col1 {\n",
       "            background-color:  #f8f7fb;\n",
       "            color:  #000000;\n",
       "        }    #T_ec0a43f4_d3c0_11ea_9157_38f9d384f426row15_col2 {\n",
       "            background-color:  #f2f0f7;\n",
       "            color:  #000000;\n",
       "        }    #T_ec0a43f4_d3c0_11ea_9157_38f9d384f426row16_col0 {\n",
       "            background-color:  #3f007d;\n",
       "            color:  #f1f1f1;\n",
       "        }    #T_ec0a43f4_d3c0_11ea_9157_38f9d384f426row16_col1 {\n",
       "            background-color:  #fcfbfd;\n",
       "            color:  #000000;\n",
       "        }    #T_ec0a43f4_d3c0_11ea_9157_38f9d384f426row16_col2 {\n",
       "            background-color:  #f2f0f7;\n",
       "            color:  #000000;\n",
       "        }    #T_ec0a43f4_d3c0_11ea_9157_38f9d384f426row17_col0 {\n",
       "            background-color:  #3f007d;\n",
       "            color:  #f1f1f1;\n",
       "        }    #T_ec0a43f4_d3c0_11ea_9157_38f9d384f426row17_col1 {\n",
       "            background-color:  #f4f3f8;\n",
       "            color:  #000000;\n",
       "        }    #T_ec0a43f4_d3c0_11ea_9157_38f9d384f426row17_col2 {\n",
       "            background-color:  #f5f4f9;\n",
       "            color:  #000000;\n",
       "        }    #T_ec0a43f4_d3c0_11ea_9157_38f9d384f426row18_col0 {\n",
       "            background-color:  #3f007d;\n",
       "            color:  #f1f1f1;\n",
       "        }    #T_ec0a43f4_d3c0_11ea_9157_38f9d384f426row18_col1 {\n",
       "            background-color:  #ddddec;\n",
       "            color:  #000000;\n",
       "        }    #T_ec0a43f4_d3c0_11ea_9157_38f9d384f426row18_col2 {\n",
       "            background-color:  #f9f7fb;\n",
       "            color:  #000000;\n",
       "        }    #T_ec0a43f4_d3c0_11ea_9157_38f9d384f426row19_col0 {\n",
       "            background-color:  #3f007d;\n",
       "            color:  #f1f1f1;\n",
       "        }    #T_ec0a43f4_d3c0_11ea_9157_38f9d384f426row19_col1 {\n",
       "            background-color:  #a7a4ce;\n",
       "            color:  #000000;\n",
       "        }    #T_ec0a43f4_d3c0_11ea_9157_38f9d384f426row19_col2 {\n",
       "            background-color:  #fcfbfd;\n",
       "            color:  #000000;\n",
       "        }</style><table id=\"T_ec0a43f4_d3c0_11ea_9157_38f9d384f426\" ><thead>    <tr>        <th class=\"blank level0\" ></th>        <th class=\"col_heading level0 col0\" >sex</th>        <th class=\"col_heading level0 col1\" >age</th>        <th class=\"col_heading level0 col2\" >target</th>    </tr></thead><tbody>\n",
       "                <tr>\n",
       "                        <th id=\"T_ec0a43f4_d3c0_11ea_9157_38f9d384f426level0_row0\" class=\"row_heading level0 row0\" >59</th>\n",
       "                        <td id=\"T_ec0a43f4_d3c0_11ea_9157_38f9d384f426row0_col0\" class=\"data row0 col0\" >1</td>\n",
       "                        <td id=\"T_ec0a43f4_d3c0_11ea_9157_38f9d384f426row0_col1\" class=\"data row0 col1\" >58</td>\n",
       "                        <td id=\"T_ec0a43f4_d3c0_11ea_9157_38f9d384f426row0_col2\" class=\"data row0 col2\" >47</td>\n",
       "            </tr>\n",
       "            <tr>\n",
       "                        <th id=\"T_ec0a43f4_d3c0_11ea_9157_38f9d384f426level0_row1\" class=\"row_heading level0 row1\" >58</th>\n",
       "                        <td id=\"T_ec0a43f4_d3c0_11ea_9157_38f9d384f426row1_col0\" class=\"data row1 col0\" >1</td>\n",
       "                        <td id=\"T_ec0a43f4_d3c0_11ea_9157_38f9d384f426row1_col1\" class=\"data row1 col1\" >57</td>\n",
       "                        <td id=\"T_ec0a43f4_d3c0_11ea_9157_38f9d384f426row1_col2\" class=\"data row1 col2\" >45</td>\n",
       "            </tr>\n",
       "            <tr>\n",
       "                        <th id=\"T_ec0a43f4_d3c0_11ea_9157_38f9d384f426level0_row2\" class=\"row_heading level0 row2\" >60</th>\n",
       "                        <td id=\"T_ec0a43f4_d3c0_11ea_9157_38f9d384f426row2_col0\" class=\"data row2 col0\" >1</td>\n",
       "                        <td id=\"T_ec0a43f4_d3c0_11ea_9157_38f9d384f426row2_col1\" class=\"data row2 col1\" >59</td>\n",
       "                        <td id=\"T_ec0a43f4_d3c0_11ea_9157_38f9d384f426row2_col2\" class=\"data row2 col2\" >43</td>\n",
       "            </tr>\n",
       "            <tr>\n",
       "                        <th id=\"T_ec0a43f4_d3c0_11ea_9157_38f9d384f426level0_row3\" class=\"row_heading level0 row3\" >53</th>\n",
       "                        <td id=\"T_ec0a43f4_d3c0_11ea_9157_38f9d384f426row3_col0\" class=\"data row3 col0\" >1</td>\n",
       "                        <td id=\"T_ec0a43f4_d3c0_11ea_9157_38f9d384f426row3_col1\" class=\"data row3 col1\" >52</td>\n",
       "                        <td id=\"T_ec0a43f4_d3c0_11ea_9157_38f9d384f426row3_col2\" class=\"data row3 col2\" >40</td>\n",
       "            </tr>\n",
       "            <tr>\n",
       "                        <th id=\"T_ec0a43f4_d3c0_11ea_9157_38f9d384f426level0_row4\" class=\"row_heading level0 row4\" >55</th>\n",
       "                        <td id=\"T_ec0a43f4_d3c0_11ea_9157_38f9d384f426row4_col0\" class=\"data row4 col0\" >1</td>\n",
       "                        <td id=\"T_ec0a43f4_d3c0_11ea_9157_38f9d384f426row4_col1\" class=\"data row4 col1\" >54</td>\n",
       "                        <td id=\"T_ec0a43f4_d3c0_11ea_9157_38f9d384f426row4_col2\" class=\"data row4 col2\" >38</td>\n",
       "            </tr>\n",
       "            <tr>\n",
       "                        <th id=\"T_ec0a43f4_d3c0_11ea_9157_38f9d384f426level0_row5\" class=\"row_heading level0 row5\" >45</th>\n",
       "                        <td id=\"T_ec0a43f4_d3c0_11ea_9157_38f9d384f426row5_col0\" class=\"data row5 col0\" >1</td>\n",
       "                        <td id=\"T_ec0a43f4_d3c0_11ea_9157_38f9d384f426row5_col1\" class=\"data row5 col1\" >44</td>\n",
       "                        <td id=\"T_ec0a43f4_d3c0_11ea_9157_38f9d384f426row5_col2\" class=\"data row5 col2\" >30</td>\n",
       "            </tr>\n",
       "            <tr>\n",
       "                        <th id=\"T_ec0a43f4_d3c0_11ea_9157_38f9d384f426level0_row6\" class=\"row_heading level0 row6\" >57</th>\n",
       "                        <td id=\"T_ec0a43f4_d3c0_11ea_9157_38f9d384f426row6_col0\" class=\"data row6 col0\" >1</td>\n",
       "                        <td id=\"T_ec0a43f4_d3c0_11ea_9157_38f9d384f426row6_col1\" class=\"data row6 col1\" >56</td>\n",
       "                        <td id=\"T_ec0a43f4_d3c0_11ea_9157_38f9d384f426row6_col2\" class=\"data row6 col2\" >29</td>\n",
       "            </tr>\n",
       "            <tr>\n",
       "                        <th id=\"T_ec0a43f4_d3c0_11ea_9157_38f9d384f426level0_row7\" class=\"row_heading level0 row7\" >52</th>\n",
       "                        <td id=\"T_ec0a43f4_d3c0_11ea_9157_38f9d384f426row7_col0\" class=\"data row7 col0\" >1</td>\n",
       "                        <td id=\"T_ec0a43f4_d3c0_11ea_9157_38f9d384f426row7_col1\" class=\"data row7 col1\" >51</td>\n",
       "                        <td id=\"T_ec0a43f4_d3c0_11ea_9157_38f9d384f426row7_col2\" class=\"data row7 col2\" >27</td>\n",
       "            </tr>\n",
       "            <tr>\n",
       "                        <th id=\"T_ec0a43f4_d3c0_11ea_9157_38f9d384f426level0_row8\" class=\"row_heading level0 row8\" >65</th>\n",
       "                        <td id=\"T_ec0a43f4_d3c0_11ea_9157_38f9d384f426row8_col0\" class=\"data row8 col0\" >1</td>\n",
       "                        <td id=\"T_ec0a43f4_d3c0_11ea_9157_38f9d384f426row8_col1\" class=\"data row8 col1\" >64</td>\n",
       "                        <td id=\"T_ec0a43f4_d3c0_11ea_9157_38f9d384f426row8_col2\" class=\"data row8 col2\" >25</td>\n",
       "            </tr>\n",
       "            <tr>\n",
       "                        <th id=\"T_ec0a43f4_d3c0_11ea_9157_38f9d384f426level0_row9\" class=\"row_heading level0 row9\" >61</th>\n",
       "                        <td id=\"T_ec0a43f4_d3c0_11ea_9157_38f9d384f426row9_col0\" class=\"data row9 col0\" >1</td>\n",
       "                        <td id=\"T_ec0a43f4_d3c0_11ea_9157_38f9d384f426row9_col1\" class=\"data row9 col1\" >60</td>\n",
       "                        <td id=\"T_ec0a43f4_d3c0_11ea_9157_38f9d384f426row9_col2\" class=\"data row9 col2\" >24</td>\n",
       "            </tr>\n",
       "            <tr>\n",
       "                        <th id=\"T_ec0a43f4_d3c0_11ea_9157_38f9d384f426level0_row10\" class=\"row_heading level0 row10\" >24</th>\n",
       "                        <td id=\"T_ec0a43f4_d3c0_11ea_9157_38f9d384f426row10_col0\" class=\"data row10 col0\" >0</td>\n",
       "                        <td id=\"T_ec0a43f4_d3c0_11ea_9157_38f9d384f426row10_col1\" class=\"data row10 col1\" >62</td>\n",
       "                        <td id=\"T_ec0a43f4_d3c0_11ea_9157_38f9d384f426row10_col2\" class=\"data row10 col2\" >24</td>\n",
       "            </tr>\n",
       "            <tr>\n",
       "                        <th id=\"T_ec0a43f4_d3c0_11ea_9157_38f9d384f426level0_row11\" class=\"row_heading level0 row11\" >62</th>\n",
       "                        <td id=\"T_ec0a43f4_d3c0_11ea_9157_38f9d384f426row11_col0\" class=\"data row11 col0\" >1</td>\n",
       "                        <td id=\"T_ec0a43f4_d3c0_11ea_9157_38f9d384f426row11_col1\" class=\"data row11 col1\" >61</td>\n",
       "                        <td id=\"T_ec0a43f4_d3c0_11ea_9157_38f9d384f426row11_col2\" class=\"data row11 col2\" >23</td>\n",
       "            </tr>\n",
       "            <tr>\n",
       "                        <th id=\"T_ec0a43f4_d3c0_11ea_9157_38f9d384f426level0_row12\" class=\"row_heading level0 row12\" >68</th>\n",
       "                        <td id=\"T_ec0a43f4_d3c0_11ea_9157_38f9d384f426row12_col0\" class=\"data row12 col0\" >1</td>\n",
       "                        <td id=\"T_ec0a43f4_d3c0_11ea_9157_38f9d384f426row12_col1\" class=\"data row12 col1\" >67</td>\n",
       "                        <td id=\"T_ec0a43f4_d3c0_11ea_9157_38f9d384f426row12_col2\" class=\"data row12 col2\" >22</td>\n",
       "            </tr>\n",
       "            <tr>\n",
       "                        <th id=\"T_ec0a43f4_d3c0_11ea_9157_38f9d384f426level0_row13\" class=\"row_heading level0 row13\" >20</th>\n",
       "                        <td id=\"T_ec0a43f4_d3c0_11ea_9157_38f9d384f426row13_col0\" class=\"data row13 col0\" >0</td>\n",
       "                        <td id=\"T_ec0a43f4_d3c0_11ea_9157_38f9d384f426row13_col1\" class=\"data row13 col1\" >58</td>\n",
       "                        <td id=\"T_ec0a43f4_d3c0_11ea_9157_38f9d384f426row13_col2\" class=\"data row13 col2\" >21</td>\n",
       "            </tr>\n",
       "            <tr>\n",
       "                        <th id=\"T_ec0a43f4_d3c0_11ea_9157_38f9d384f426level0_row14\" class=\"row_heading level0 row14\" >49</th>\n",
       "                        <td id=\"T_ec0a43f4_d3c0_11ea_9157_38f9d384f426row14_col0\" class=\"data row14 col0\" >1</td>\n",
       "                        <td id=\"T_ec0a43f4_d3c0_11ea_9157_38f9d384f426row14_col1\" class=\"data row14 col1\" >48</td>\n",
       "                        <td id=\"T_ec0a43f4_d3c0_11ea_9157_38f9d384f426row14_col2\" class=\"data row14 col2\" >20</td>\n",
       "            </tr>\n",
       "            <tr>\n",
       "                        <th id=\"T_ec0a43f4_d3c0_11ea_9157_38f9d384f426level0_row15\" class=\"row_heading level0 row15\" >43</th>\n",
       "                        <td id=\"T_ec0a43f4_d3c0_11ea_9157_38f9d384f426row15_col0\" class=\"data row15 col0\" >1</td>\n",
       "                        <td id=\"T_ec0a43f4_d3c0_11ea_9157_38f9d384f426row15_col1\" class=\"data row15 col1\" >42</td>\n",
       "                        <td id=\"T_ec0a43f4_d3c0_11ea_9157_38f9d384f426row15_col2\" class=\"data row15 col2\" >20</td>\n",
       "            </tr>\n",
       "            <tr>\n",
       "                        <th id=\"T_ec0a43f4_d3c0_11ea_9157_38f9d384f426level0_row16\" class=\"row_heading level0 row16\" >42</th>\n",
       "                        <td id=\"T_ec0a43f4_d3c0_11ea_9157_38f9d384f426row16_col0\" class=\"data row16 col0\" >1</td>\n",
       "                        <td id=\"T_ec0a43f4_d3c0_11ea_9157_38f9d384f426row16_col1\" class=\"data row16 col1\" >41</td>\n",
       "                        <td id=\"T_ec0a43f4_d3c0_11ea_9157_38f9d384f426row16_col2\" class=\"data row16 col2\" >20</td>\n",
       "            </tr>\n",
       "            <tr>\n",
       "                        <th id=\"T_ec0a43f4_d3c0_11ea_9157_38f9d384f426level0_row17\" class=\"row_heading level0 row17\" >44</th>\n",
       "                        <td id=\"T_ec0a43f4_d3c0_11ea_9157_38f9d384f426row17_col0\" class=\"data row17 col0\" >1</td>\n",
       "                        <td id=\"T_ec0a43f4_d3c0_11ea_9157_38f9d384f426row17_col1\" class=\"data row17 col1\" >43</td>\n",
       "                        <td id=\"T_ec0a43f4_d3c0_11ea_9157_38f9d384f426row17_col2\" class=\"data row17 col2\" >19</td>\n",
       "            </tr>\n",
       "            <tr>\n",
       "                        <th id=\"T_ec0a43f4_d3c0_11ea_9157_38f9d384f426level0_row18\" class=\"row_heading level0 row18\" >48</th>\n",
       "                        <td id=\"T_ec0a43f4_d3c0_11ea_9157_38f9d384f426row18_col0\" class=\"data row18 col0\" >1</td>\n",
       "                        <td id=\"T_ec0a43f4_d3c0_11ea_9157_38f9d384f426row18_col1\" class=\"data row18 col1\" >47</td>\n",
       "                        <td id=\"T_ec0a43f4_d3c0_11ea_9157_38f9d384f426row18_col2\" class=\"data row18 col2\" >18</td>\n",
       "            </tr>\n",
       "            <tr>\n",
       "                        <th id=\"T_ec0a43f4_d3c0_11ea_9157_38f9d384f426level0_row19\" class=\"row_heading level0 row19\" >54</th>\n",
       "                        <td id=\"T_ec0a43f4_d3c0_11ea_9157_38f9d384f426row19_col0\" class=\"data row19 col0\" >1</td>\n",
       "                        <td id=\"T_ec0a43f4_d3c0_11ea_9157_38f9d384f426row19_col1\" class=\"data row19 col1\" >53</td>\n",
       "                        <td id=\"T_ec0a43f4_d3c0_11ea_9157_38f9d384f426row19_col2\" class=\"data row19 col2\" >17</td>\n",
       "            </tr>\n",
       "    </tbody></table>"
      ],
      "text/plain": [
       "<pandas.io.formats.style.Styler at 0x1a1a9bd950>"
      ]
     },
     "execution_count": 48,
     "metadata": {},
     "output_type": "execute_result"
    }
   ],
   "source": [
    "s= data.groupby(['sex','age'])['target'].count().reset_index().sort_values(by='target',ascending=False)\n",
    "s.head(20).style.background_gradient(cmap='Purples')"
   ]
  },
  {
   "cell_type": "markdown",
   "metadata": {},
   "source": [
    "This shows the total number of heart diseases that have occured for a particular age in case of males and females. In the top 20 count of heart diseases, Females have witnessed more heart attacks for their ages."
   ]
  },
  {
   "cell_type": "code",
   "execution_count": 49,
   "metadata": {},
   "outputs": [
    {
     "data": {
      "text/html": [
       "<style  type=\"text/css\" >\n",
       "    #T_ec10280a_d3c0_11ea_9157_38f9d384f426row0_col0 {\n",
       "            background-color:  #08306b;\n",
       "            color:  #f1f1f1;\n",
       "        }    #T_ec10280a_d3c0_11ea_9157_38f9d384f426row0_col1 {\n",
       "            background-color:  #f7fbff;\n",
       "            color:  #000000;\n",
       "        }    #T_ec10280a_d3c0_11ea_9157_38f9d384f426row0_col2 {\n",
       "            background-color:  #08306b;\n",
       "            color:  #f1f1f1;\n",
       "        }    #T_ec10280a_d3c0_11ea_9157_38f9d384f426row1_col0 {\n",
       "            background-color:  #08306b;\n",
       "            color:  #f1f1f1;\n",
       "        }    #T_ec10280a_d3c0_11ea_9157_38f9d384f426row1_col1 {\n",
       "            background-color:  #3787c0;\n",
       "            color:  #000000;\n",
       "        }    #T_ec10280a_d3c0_11ea_9157_38f9d384f426row1_col2 {\n",
       "            background-color:  #7ab6d9;\n",
       "            color:  #000000;\n",
       "        }    #T_ec10280a_d3c0_11ea_9157_38f9d384f426row2_col0 {\n",
       "            background-color:  #f7fbff;\n",
       "            color:  #000000;\n",
       "        }    #T_ec10280a_d3c0_11ea_9157_38f9d384f426row2_col1 {\n",
       "            background-color:  #f7fbff;\n",
       "            color:  #000000;\n",
       "        }    #T_ec10280a_d3c0_11ea_9157_38f9d384f426row2_col2 {\n",
       "            background-color:  #a9cfe5;\n",
       "            color:  #000000;\n",
       "        }    #T_ec10280a_d3c0_11ea_9157_38f9d384f426row3_col0 {\n",
       "            background-color:  #08306b;\n",
       "            color:  #f1f1f1;\n",
       "        }    #T_ec10280a_d3c0_11ea_9157_38f9d384f426row3_col1 {\n",
       "            background-color:  #abd0e6;\n",
       "            color:  #000000;\n",
       "        }    #T_ec10280a_d3c0_11ea_9157_38f9d384f426row3_col2 {\n",
       "            background-color:  #bed8ec;\n",
       "            color:  #000000;\n",
       "        }    #T_ec10280a_d3c0_11ea_9157_38f9d384f426row4_col0 {\n",
       "            background-color:  #f7fbff;\n",
       "            color:  #000000;\n",
       "        }    #T_ec10280a_d3c0_11ea_9157_38f9d384f426row4_col1 {\n",
       "            background-color:  #3787c0;\n",
       "            color:  #000000;\n",
       "        }    #T_ec10280a_d3c0_11ea_9157_38f9d384f426row4_col2 {\n",
       "            background-color:  #bed8ec;\n",
       "            color:  #000000;\n",
       "        }    #T_ec10280a_d3c0_11ea_9157_38f9d384f426row5_col0 {\n",
       "            background-color:  #08306b;\n",
       "            color:  #f1f1f1;\n",
       "        }    #T_ec10280a_d3c0_11ea_9157_38f9d384f426row5_col1 {\n",
       "            background-color:  #08306b;\n",
       "            color:  #f1f1f1;\n",
       "        }    #T_ec10280a_d3c0_11ea_9157_38f9d384f426row5_col2 {\n",
       "            background-color:  #dae8f6;\n",
       "            color:  #000000;\n",
       "        }    #T_ec10280a_d3c0_11ea_9157_38f9d384f426row6_col0 {\n",
       "            background-color:  #f7fbff;\n",
       "            color:  #000000;\n",
       "        }    #T_ec10280a_d3c0_11ea_9157_38f9d384f426row6_col1 {\n",
       "            background-color:  #abd0e6;\n",
       "            color:  #000000;\n",
       "        }    #T_ec10280a_d3c0_11ea_9157_38f9d384f426row6_col2 {\n",
       "            background-color:  #deebf7;\n",
       "            color:  #000000;\n",
       "        }    #T_ec10280a_d3c0_11ea_9157_38f9d384f426row7_col0 {\n",
       "            background-color:  #f7fbff;\n",
       "            color:  #000000;\n",
       "        }    #T_ec10280a_d3c0_11ea_9157_38f9d384f426row7_col1 {\n",
       "            background-color:  #08306b;\n",
       "            color:  #f1f1f1;\n",
       "        }    #T_ec10280a_d3c0_11ea_9157_38f9d384f426row7_col2 {\n",
       "            background-color:  #f7fbff;\n",
       "            color:  #000000;\n",
       "        }</style><table id=\"T_ec10280a_d3c0_11ea_9157_38f9d384f426\" ><thead>    <tr>        <th class=\"blank level0\" ></th>        <th class=\"col_heading level0 col0\" >sex</th>        <th class=\"col_heading level0 col1\" >cp</th>        <th class=\"col_heading level0 col2\" >target</th>    </tr></thead><tbody>\n",
       "                <tr>\n",
       "                        <th id=\"T_ec10280a_d3c0_11ea_9157_38f9d384f426level0_row0\" class=\"row_heading level0 row0\" >4</th>\n",
       "                        <td id=\"T_ec10280a_d3c0_11ea_9157_38f9d384f426row0_col0\" class=\"data row0 col0\" >1</td>\n",
       "                        <td id=\"T_ec10280a_d3c0_11ea_9157_38f9d384f426row0_col1\" class=\"data row0 col1\" >0</td>\n",
       "                        <td id=\"T_ec10280a_d3c0_11ea_9157_38f9d384f426row0_col2\" class=\"data row0 col2\" >364</td>\n",
       "            </tr>\n",
       "            <tr>\n",
       "                        <th id=\"T_ec10280a_d3c0_11ea_9157_38f9d384f426level0_row1\" class=\"row_heading level0 row1\" >6</th>\n",
       "                        <td id=\"T_ec10280a_d3c0_11ea_9157_38f9d384f426row1_col0\" class=\"data row1 col0\" >1</td>\n",
       "                        <td id=\"T_ec10280a_d3c0_11ea_9157_38f9d384f426row1_col1\" class=\"data row1 col1\" >2</td>\n",
       "                        <td id=\"T_ec10280a_d3c0_11ea_9157_38f9d384f426row1_col2\" class=\"data row1 col2\" >175</td>\n",
       "            </tr>\n",
       "            <tr>\n",
       "                        <th id=\"T_ec10280a_d3c0_11ea_9157_38f9d384f426level0_row2\" class=\"row_heading level0 row2\" >0</th>\n",
       "                        <td id=\"T_ec10280a_d3c0_11ea_9157_38f9d384f426row2_col0\" class=\"data row2 col0\" >0</td>\n",
       "                        <td id=\"T_ec10280a_d3c0_11ea_9157_38f9d384f426row2_col1\" class=\"data row2 col1\" >0</td>\n",
       "                        <td id=\"T_ec10280a_d3c0_11ea_9157_38f9d384f426row2_col2\" class=\"data row2 col2\" >133</td>\n",
       "            </tr>\n",
       "            <tr>\n",
       "                        <th id=\"T_ec10280a_d3c0_11ea_9157_38f9d384f426level0_row3\" class=\"row_heading level0 row3\" >5</th>\n",
       "                        <td id=\"T_ec10280a_d3c0_11ea_9157_38f9d384f426row3_col0\" class=\"data row3 col0\" >1</td>\n",
       "                        <td id=\"T_ec10280a_d3c0_11ea_9157_38f9d384f426row3_col1\" class=\"data row3 col1\" >1</td>\n",
       "                        <td id=\"T_ec10280a_d3c0_11ea_9157_38f9d384f426row3_col2\" class=\"data row3 col2\" >110</td>\n",
       "            </tr>\n",
       "            <tr>\n",
       "                        <th id=\"T_ec10280a_d3c0_11ea_9157_38f9d384f426level0_row4\" class=\"row_heading level0 row4\" >2</th>\n",
       "                        <td id=\"T_ec10280a_d3c0_11ea_9157_38f9d384f426row4_col0\" class=\"data row4 col0\" >0</td>\n",
       "                        <td id=\"T_ec10280a_d3c0_11ea_9157_38f9d384f426row4_col1\" class=\"data row4 col1\" >2</td>\n",
       "                        <td id=\"T_ec10280a_d3c0_11ea_9157_38f9d384f426row4_col2\" class=\"data row4 col2\" >109</td>\n",
       "            </tr>\n",
       "            <tr>\n",
       "                        <th id=\"T_ec10280a_d3c0_11ea_9157_38f9d384f426level0_row5\" class=\"row_heading level0 row5\" >7</th>\n",
       "                        <td id=\"T_ec10280a_d3c0_11ea_9157_38f9d384f426row5_col0\" class=\"data row5 col0\" >1</td>\n",
       "                        <td id=\"T_ec10280a_d3c0_11ea_9157_38f9d384f426row5_col1\" class=\"data row5 col1\" >3</td>\n",
       "                        <td id=\"T_ec10280a_d3c0_11ea_9157_38f9d384f426row5_col2\" class=\"data row5 col2\" >64</td>\n",
       "            </tr>\n",
       "            <tr>\n",
       "                        <th id=\"T_ec10280a_d3c0_11ea_9157_38f9d384f426level0_row6\" class=\"row_heading level0 row6\" >1</th>\n",
       "                        <td id=\"T_ec10280a_d3c0_11ea_9157_38f9d384f426row6_col0\" class=\"data row6 col0\" >0</td>\n",
       "                        <td id=\"T_ec10280a_d3c0_11ea_9157_38f9d384f426row6_col1\" class=\"data row6 col1\" >1</td>\n",
       "                        <td id=\"T_ec10280a_d3c0_11ea_9157_38f9d384f426row6_col2\" class=\"data row6 col2\" >57</td>\n",
       "            </tr>\n",
       "            <tr>\n",
       "                        <th id=\"T_ec10280a_d3c0_11ea_9157_38f9d384f426level0_row7\" class=\"row_heading level0 row7\" >3</th>\n",
       "                        <td id=\"T_ec10280a_d3c0_11ea_9157_38f9d384f426row7_col0\" class=\"data row7 col0\" >0</td>\n",
       "                        <td id=\"T_ec10280a_d3c0_11ea_9157_38f9d384f426row7_col1\" class=\"data row7 col1\" >3</td>\n",
       "                        <td id=\"T_ec10280a_d3c0_11ea_9157_38f9d384f426row7_col2\" class=\"data row7 col2\" >13</td>\n",
       "            </tr>\n",
       "    </tbody></table>"
      ],
      "text/plain": [
       "<pandas.io.formats.style.Styler at 0x1a20d77390>"
      ]
     },
     "execution_count": 49,
     "metadata": {},
     "output_type": "execute_result"
    }
   ],
   "source": [
    "s= data.groupby(['sex','cp'])['target'].count().reset_index().sort_values(by='target',ascending=False)\n",
    "s.head(10).style.background_gradient(cmap='Blues')"
   ]
  },
  {
   "cell_type": "markdown",
   "metadata": {},
   "source": [
    "The Females having chest pain type 0 suffered the most heart attacks and type 2 the second highest. This trend is same for males."
   ]
  },
  {
   "cell_type": "code",
   "execution_count": 50,
   "metadata": {},
   "outputs": [
    {
     "data": {
      "text/html": [
       "<style  type=\"text/css\" >\n",
       "    #T_ec158bf6_d3c0_11ea_9157_38f9d384f426row0_col0 {\n",
       "            background-color:  #08306b;\n",
       "            color:  #f1f1f1;\n",
       "        }    #T_ec158bf6_d3c0_11ea_9157_38f9d384f426row0_col1 {\n",
       "            background-color:  #c6dbef;\n",
       "            color:  #000000;\n",
       "        }    #T_ec158bf6_d3c0_11ea_9157_38f9d384f426row0_col2 {\n",
       "            background-color:  #08306b;\n",
       "            color:  #f1f1f1;\n",
       "        }    #T_ec158bf6_d3c0_11ea_9157_38f9d384f426row1_col0 {\n",
       "            background-color:  #08306b;\n",
       "            color:  #f1f1f1;\n",
       "        }    #T_ec158bf6_d3c0_11ea_9157_38f9d384f426row1_col1 {\n",
       "            background-color:  #6aaed6;\n",
       "            color:  #000000;\n",
       "        }    #T_ec158bf6_d3c0_11ea_9157_38f9d384f426row1_col2 {\n",
       "            background-color:  #1a68ae;\n",
       "            color:  #f1f1f1;\n",
       "        }    #T_ec158bf6_d3c0_11ea_9157_38f9d384f426row2_col0 {\n",
       "            background-color:  #08306b;\n",
       "            color:  #f1f1f1;\n",
       "        }    #T_ec158bf6_d3c0_11ea_9157_38f9d384f426row2_col1 {\n",
       "            background-color:  #2070b4;\n",
       "            color:  #f1f1f1;\n",
       "        }    #T_ec158bf6_d3c0_11ea_9157_38f9d384f426row2_col2 {\n",
       "            background-color:  #3383be;\n",
       "            color:  #000000;\n",
       "        }    #T_ec158bf6_d3c0_11ea_9157_38f9d384f426row3_col0 {\n",
       "            background-color:  #08306b;\n",
       "            color:  #f1f1f1;\n",
       "        }    #T_ec158bf6_d3c0_11ea_9157_38f9d384f426row3_col1 {\n",
       "            background-color:  #f7fbff;\n",
       "            color:  #000000;\n",
       "        }    #T_ec158bf6_d3c0_11ea_9157_38f9d384f426row3_col2 {\n",
       "            background-color:  #a3cce3;\n",
       "            color:  #000000;\n",
       "        }    #T_ec158bf6_d3c0_11ea_9157_38f9d384f426row4_col0 {\n",
       "            background-color:  #f7fbff;\n",
       "            color:  #000000;\n",
       "        }    #T_ec158bf6_d3c0_11ea_9157_38f9d384f426row4_col1 {\n",
       "            background-color:  #6aaed6;\n",
       "            color:  #000000;\n",
       "        }    #T_ec158bf6_d3c0_11ea_9157_38f9d384f426row4_col2 {\n",
       "            background-color:  #d8e7f5;\n",
       "            color:  #000000;\n",
       "        }    #T_ec158bf6_d3c0_11ea_9157_38f9d384f426row5_col0 {\n",
       "            background-color:  #08306b;\n",
       "            color:  #f1f1f1;\n",
       "        }    #T_ec158bf6_d3c0_11ea_9157_38f9d384f426row5_col1 {\n",
       "            background-color:  #9dcae1;\n",
       "            color:  #000000;\n",
       "        }    #T_ec158bf6_d3c0_11ea_9157_38f9d384f426row5_col2 {\n",
       "            background-color:  #ddeaf7;\n",
       "            color:  #000000;\n",
       "        }    #T_ec158bf6_d3c0_11ea_9157_38f9d384f426row6_col0 {\n",
       "            background-color:  #08306b;\n",
       "            color:  #f1f1f1;\n",
       "        }    #T_ec158bf6_d3c0_11ea_9157_38f9d384f426row6_col1 {\n",
       "            background-color:  #08306b;\n",
       "            color:  #f1f1f1;\n",
       "        }    #T_ec158bf6_d3c0_11ea_9157_38f9d384f426row6_col2 {\n",
       "            background-color:  #f2f7fd;\n",
       "            color:  #000000;\n",
       "        }    #T_ec158bf6_d3c0_11ea_9157_38f9d384f426row7_col0 {\n",
       "            background-color:  #f7fbff;\n",
       "            color:  #000000;\n",
       "        }    #T_ec158bf6_d3c0_11ea_9157_38f9d384f426row7_col1 {\n",
       "            background-color:  #2070b4;\n",
       "            color:  #f1f1f1;\n",
       "        }    #T_ec158bf6_d3c0_11ea_9157_38f9d384f426row7_col2 {\n",
       "            background-color:  #f2f7fd;\n",
       "            color:  #000000;\n",
       "        }    #T_ec158bf6_d3c0_11ea_9157_38f9d384f426row8_col0 {\n",
       "            background-color:  #f7fbff;\n",
       "            color:  #000000;\n",
       "        }    #T_ec158bf6_d3c0_11ea_9157_38f9d384f426row8_col1 {\n",
       "            background-color:  #c6dbef;\n",
       "            color:  #000000;\n",
       "        }    #T_ec158bf6_d3c0_11ea_9157_38f9d384f426row8_col2 {\n",
       "            background-color:  #f5f9fe;\n",
       "            color:  #000000;\n",
       "        }    #T_ec158bf6_d3c0_11ea_9157_38f9d384f426row9_col0 {\n",
       "            background-color:  #08306b;\n",
       "            color:  #f1f1f1;\n",
       "        }    #T_ec158bf6_d3c0_11ea_9157_38f9d384f426row9_col1 {\n",
       "            background-color:  #7fb9da;\n",
       "            color:  #000000;\n",
       "        }    #T_ec158bf6_d3c0_11ea_9157_38f9d384f426row9_col2 {\n",
       "            background-color:  #f7fbff;\n",
       "            color:  #000000;\n",
       "        }</style><table id=\"T_ec158bf6_d3c0_11ea_9157_38f9d384f426\" ><thead>    <tr>        <th class=\"blank level0\" ></th>        <th class=\"col_heading level0 col0\" >sex</th>        <th class=\"col_heading level0 col1\" >trestbps</th>        <th class=\"col_heading level0 col2\" >target</th>    </tr></thead><tbody>\n",
       "                <tr>\n",
       "                        <th id=\"T_ec158bf6_d3c0_11ea_9157_38f9d384f426level0_row0\" class=\"row_heading level0 row0\" >46</th>\n",
       "                        <td id=\"T_ec158bf6_d3c0_11ea_9157_38f9d384f426row0_col0\" class=\"data row0 col0\" >1</td>\n",
       "                        <td id=\"T_ec158bf6_d3c0_11ea_9157_38f9d384f426row0_col1\" class=\"data row0 col1\" >120</td>\n",
       "                        <td id=\"T_ec158bf6_d3c0_11ea_9157_38f9d384f426row0_col2\" class=\"data row0 col2\" >98</td>\n",
       "            </tr>\n",
       "            <tr>\n",
       "                        <th id=\"T_ec158bf6_d3c0_11ea_9157_38f9d384f426level0_row1\" class=\"row_heading level0 row1\" >54</th>\n",
       "                        <td id=\"T_ec158bf6_d3c0_11ea_9157_38f9d384f426row1_col0\" class=\"data row1 col0\" >1</td>\n",
       "                        <td id=\"T_ec158bf6_d3c0_11ea_9157_38f9d384f426row1_col1\" class=\"data row1 col1\" >130</td>\n",
       "                        <td id=\"T_ec158bf6_d3c0_11ea_9157_38f9d384f426row1_col2\" class=\"data row1 col2\" >83</td>\n",
       "            </tr>\n",
       "            <tr>\n",
       "                        <th id=\"T_ec158bf6_d3c0_11ea_9157_38f9d384f426level0_row2\" class=\"row_heading level0 row2\" >60</th>\n",
       "                        <td id=\"T_ec158bf6_d3c0_11ea_9157_38f9d384f426row2_col0\" class=\"data row2 col0\" >1</td>\n",
       "                        <td id=\"T_ec158bf6_d3c0_11ea_9157_38f9d384f426row2_col1\" class=\"data row2 col1\" >140</td>\n",
       "                        <td id=\"T_ec158bf6_d3c0_11ea_9157_38f9d384f426row2_col2\" class=\"data row2 col2\" >76</td>\n",
       "            </tr>\n",
       "            <tr>\n",
       "                        <th id=\"T_ec158bf6_d3c0_11ea_9157_38f9d384f426level0_row3\" class=\"row_heading level0 row3\" >40</th>\n",
       "                        <td id=\"T_ec158bf6_d3c0_11ea_9157_38f9d384f426row3_col0\" class=\"data row3 col0\" >1</td>\n",
       "                        <td id=\"T_ec158bf6_d3c0_11ea_9157_38f9d384f426row3_col1\" class=\"data row3 col1\" >110</td>\n",
       "                        <td id=\"T_ec158bf6_d3c0_11ea_9157_38f9d384f426row3_col2\" class=\"data row3 col2\" >54</td>\n",
       "            </tr>\n",
       "            <tr>\n",
       "                        <th id=\"T_ec158bf6_d3c0_11ea_9157_38f9d384f426level0_row4\" class=\"row_heading level0 row4\" >15</th>\n",
       "                        <td id=\"T_ec158bf6_d3c0_11ea_9157_38f9d384f426row4_col0\" class=\"data row4 col0\" >0</td>\n",
       "                        <td id=\"T_ec158bf6_d3c0_11ea_9157_38f9d384f426row4_col1\" class=\"data row4 col1\" >130</td>\n",
       "                        <td id=\"T_ec158bf6_d3c0_11ea_9157_38f9d384f426row4_col2\" class=\"data row4 col2\" >40</td>\n",
       "            </tr>\n",
       "            <tr>\n",
       "                        <th id=\"T_ec158bf6_d3c0_11ea_9157_38f9d384f426level0_row5\" class=\"row_heading level0 row5\" >50</th>\n",
       "                        <td id=\"T_ec158bf6_d3c0_11ea_9157_38f9d384f426row5_col0\" class=\"data row5 col0\" >1</td>\n",
       "                        <td id=\"T_ec158bf6_d3c0_11ea_9157_38f9d384f426row5_col1\" class=\"data row5 col1\" >125</td>\n",
       "                        <td id=\"T_ec158bf6_d3c0_11ea_9157_38f9d384f426row5_col2\" class=\"data row5 col2\" >38</td>\n",
       "            </tr>\n",
       "            <tr>\n",
       "                        <th id=\"T_ec158bf6_d3c0_11ea_9157_38f9d384f426level0_row6\" class=\"row_heading level0 row6\" >66</th>\n",
       "                        <td id=\"T_ec158bf6_d3c0_11ea_9157_38f9d384f426row6_col0\" class=\"data row6 col0\" >1</td>\n",
       "                        <td id=\"T_ec158bf6_d3c0_11ea_9157_38f9d384f426row6_col1\" class=\"data row6 col1\" >150</td>\n",
       "                        <td id=\"T_ec158bf6_d3c0_11ea_9157_38f9d384f426row6_col2\" class=\"data row6 col2\" >31</td>\n",
       "            </tr>\n",
       "            <tr>\n",
       "                        <th id=\"T_ec158bf6_d3c0_11ea_9157_38f9d384f426level0_row7\" class=\"row_heading level0 row7\" >21</th>\n",
       "                        <td id=\"T_ec158bf6_d3c0_11ea_9157_38f9d384f426row7_col0\" class=\"data row7 col0\" >0</td>\n",
       "                        <td id=\"T_ec158bf6_d3c0_11ea_9157_38f9d384f426row7_col1\" class=\"data row7 col1\" >140</td>\n",
       "                        <td id=\"T_ec158bf6_d3c0_11ea_9157_38f9d384f426row7_col2\" class=\"data row7 col2\" >31</td>\n",
       "            </tr>\n",
       "            <tr>\n",
       "                        <th id=\"T_ec158bf6_d3c0_11ea_9157_38f9d384f426level0_row8\" class=\"row_heading level0 row8\" >10</th>\n",
       "                        <td id=\"T_ec158bf6_d3c0_11ea_9157_38f9d384f426row8_col0\" class=\"data row8 col0\" >0</td>\n",
       "                        <td id=\"T_ec158bf6_d3c0_11ea_9157_38f9d384f426row8_col1\" class=\"data row8 col1\" >120</td>\n",
       "                        <td id=\"T_ec158bf6_d3c0_11ea_9157_38f9d384f426row8_col2\" class=\"data row8 col2\" >30</td>\n",
       "            </tr>\n",
       "            <tr>\n",
       "                        <th id=\"T_ec158bf6_d3c0_11ea_9157_38f9d384f426level0_row9\" class=\"row_heading level0 row9\" >52</th>\n",
       "                        <td id=\"T_ec158bf6_d3c0_11ea_9157_38f9d384f426row9_col0\" class=\"data row9 col0\" >1</td>\n",
       "                        <td id=\"T_ec158bf6_d3c0_11ea_9157_38f9d384f426row9_col1\" class=\"data row9 col1\" >128</td>\n",
       "                        <td id=\"T_ec158bf6_d3c0_11ea_9157_38f9d384f426row9_col2\" class=\"data row9 col2\" >29</td>\n",
       "            </tr>\n",
       "    </tbody></table>"
      ],
      "text/plain": [
       "<pandas.io.formats.style.Styler at 0x1a20d77bd0>"
      ]
     },
     "execution_count": 50,
     "metadata": {},
     "output_type": "execute_result"
    }
   ],
   "source": [
    "s= data.groupby(['sex','trestbps'])['target'].count().reset_index().sort_values(by='target',ascending=False)\n",
    "s.head(10).style.background_gradient(cmap='Blues')"
   ]
  },
  {
   "cell_type": "markdown",
   "metadata": {},
   "source": [
    "The resting blood pressure and the cases of heart attack for such pressure in case of males and females."
   ]
  },
  {
   "cell_type": "code",
   "execution_count": 51,
   "metadata": {},
   "outputs": [
    {
     "data": {
      "text/html": [
       "<style  type=\"text/css\" >\n",
       "    #T_ec1b39fc_d3c0_11ea_9157_38f9d384f426row0_col0 {\n",
       "            background-color:  #f7fbff;\n",
       "            color:  #000000;\n",
       "        }    #T_ec1b39fc_d3c0_11ea_9157_38f9d384f426row0_col1 {\n",
       "            background-color:  #f7fbff;\n",
       "            color:  #000000;\n",
       "        }    #T_ec1b39fc_d3c0_11ea_9157_38f9d384f426row0_col2 {\n",
       "            background-color:  #f7fbff;\n",
       "            color:  #000000;\n",
       "        }    #T_ec1b39fc_d3c0_11ea_9157_38f9d384f426row1_col0 {\n",
       "            background-color:  #08306b;\n",
       "            color:  #f1f1f1;\n",
       "        }    #T_ec1b39fc_d3c0_11ea_9157_38f9d384f426row1_col1 {\n",
       "            background-color:  #4d99ca;\n",
       "            color:  #000000;\n",
       "        }    #T_ec1b39fc_d3c0_11ea_9157_38f9d384f426row1_col2 {\n",
       "            background-color:  #f7fbff;\n",
       "            color:  #000000;\n",
       "        }    #T_ec1b39fc_d3c0_11ea_9157_38f9d384f426row2_col0 {\n",
       "            background-color:  #08306b;\n",
       "            color:  #f1f1f1;\n",
       "        }    #T_ec1b39fc_d3c0_11ea_9157_38f9d384f426row2_col1 {\n",
       "            background-color:  #4896c8;\n",
       "            color:  #000000;\n",
       "        }    #T_ec1b39fc_d3c0_11ea_9157_38f9d384f426row2_col2 {\n",
       "            background-color:  #f7fbff;\n",
       "            color:  #000000;\n",
       "        }    #T_ec1b39fc_d3c0_11ea_9157_38f9d384f426row3_col0 {\n",
       "            background-color:  #f7fbff;\n",
       "            color:  #000000;\n",
       "        }    #T_ec1b39fc_d3c0_11ea_9157_38f9d384f426row3_col1 {\n",
       "            background-color:  #08306b;\n",
       "            color:  #f1f1f1;\n",
       "        }    #T_ec1b39fc_d3c0_11ea_9157_38f9d384f426row3_col2 {\n",
       "            background-color:  #f7fbff;\n",
       "            color:  #000000;\n",
       "        }    #T_ec1b39fc_d3c0_11ea_9157_38f9d384f426row4_col0 {\n",
       "            background-color:  #08306b;\n",
       "            color:  #f1f1f1;\n",
       "        }    #T_ec1b39fc_d3c0_11ea_9157_38f9d384f426row4_col1 {\n",
       "            background-color:  #4493c7;\n",
       "            color:  #000000;\n",
       "        }    #T_ec1b39fc_d3c0_11ea_9157_38f9d384f426row4_col2 {\n",
       "            background-color:  #f7fbff;\n",
       "            color:  #000000;\n",
       "        }    #T_ec1b39fc_d3c0_11ea_9157_38f9d384f426row5_col0 {\n",
       "            background-color:  #08306b;\n",
       "            color:  #f1f1f1;\n",
       "        }    #T_ec1b39fc_d3c0_11ea_9157_38f9d384f426row5_col1 {\n",
       "            background-color:  #3f8fc5;\n",
       "            color:  #000000;\n",
       "        }    #T_ec1b39fc_d3c0_11ea_9157_38f9d384f426row5_col2 {\n",
       "            background-color:  #f7fbff;\n",
       "            color:  #000000;\n",
       "        }    #T_ec1b39fc_d3c0_11ea_9157_38f9d384f426row6_col0 {\n",
       "            background-color:  #f7fbff;\n",
       "            color:  #000000;\n",
       "        }    #T_ec1b39fc_d3c0_11ea_9157_38f9d384f426row6_col1 {\n",
       "            background-color:  #084488;\n",
       "            color:  #f1f1f1;\n",
       "        }    #T_ec1b39fc_d3c0_11ea_9157_38f9d384f426row6_col2 {\n",
       "            background-color:  #f7fbff;\n",
       "            color:  #000000;\n",
       "        }    #T_ec1b39fc_d3c0_11ea_9157_38f9d384f426row7_col0 {\n",
       "            background-color:  #08306b;\n",
       "            color:  #f1f1f1;\n",
       "        }    #T_ec1b39fc_d3c0_11ea_9157_38f9d384f426row7_col1 {\n",
       "            background-color:  #3d8dc4;\n",
       "            color:  #000000;\n",
       "        }    #T_ec1b39fc_d3c0_11ea_9157_38f9d384f426row7_col2 {\n",
       "            background-color:  #f7fbff;\n",
       "            color:  #000000;\n",
       "        }    #T_ec1b39fc_d3c0_11ea_9157_38f9d384f426row8_col0 {\n",
       "            background-color:  #f7fbff;\n",
       "            color:  #000000;\n",
       "        }    #T_ec1b39fc_d3c0_11ea_9157_38f9d384f426row8_col1 {\n",
       "            background-color:  #084d96;\n",
       "            color:  #f1f1f1;\n",
       "        }    #T_ec1b39fc_d3c0_11ea_9157_38f9d384f426row8_col2 {\n",
       "            background-color:  #f7fbff;\n",
       "            color:  #000000;\n",
       "        }    #T_ec1b39fc_d3c0_11ea_9157_38f9d384f426row9_col0 {\n",
       "            background-color:  #f7fbff;\n",
       "            color:  #000000;\n",
       "        }    #T_ec1b39fc_d3c0_11ea_9157_38f9d384f426row9_col1 {\n",
       "            background-color:  #0a539e;\n",
       "            color:  #f1f1f1;\n",
       "        }    #T_ec1b39fc_d3c0_11ea_9157_38f9d384f426row9_col2 {\n",
       "            background-color:  #f7fbff;\n",
       "            color:  #000000;\n",
       "        }</style><table id=\"T_ec1b39fc_d3c0_11ea_9157_38f9d384f426\" ><thead>    <tr>        <th class=\"blank level0\" ></th>        <th class=\"col_heading level0 col0\" >sex</th>        <th class=\"col_heading level0 col1\" >chol</th>        <th class=\"col_heading level0 col2\" >target</th>    </tr></thead><tbody>\n",
       "                <tr>\n",
       "                        <th id=\"T_ec1b39fc_d3c0_11ea_9157_38f9d384f426level0_row0\" class=\"row_heading level0 row0\" >0</th>\n",
       "                        <td id=\"T_ec1b39fc_d3c0_11ea_9157_38f9d384f426row0_col0\" class=\"data row0 col0\" >0</td>\n",
       "                        <td id=\"T_ec1b39fc_d3c0_11ea_9157_38f9d384f426row0_col1\" class=\"data row0 col1\" >141</td>\n",
       "                        <td id=\"T_ec1b39fc_d3c0_11ea_9157_38f9d384f426row0_col2\" class=\"data row0 col2\" >3</td>\n",
       "            </tr>\n",
       "            <tr>\n",
       "                        <th id=\"T_ec1b39fc_d3c0_11ea_9157_38f9d384f426level0_row1\" class=\"row_heading level0 row1\" >155</th>\n",
       "                        <td id=\"T_ec1b39fc_d3c0_11ea_9157_38f9d384f426row1_col0\" class=\"data row1 col0\" >1</td>\n",
       "                        <td id=\"T_ec1b39fc_d3c0_11ea_9157_38f9d384f426row1_col1\" class=\"data row1 col1\" >259</td>\n",
       "                        <td id=\"T_ec1b39fc_d3c0_11ea_9157_38f9d384f426row1_col2\" class=\"data row1 col2\" >3</td>\n",
       "            </tr>\n",
       "            <tr>\n",
       "                        <th id=\"T_ec1b39fc_d3c0_11ea_9157_38f9d384f426level0_row2\" class=\"row_heading level0 row2\" >158</th>\n",
       "                        <td id=\"T_ec1b39fc_d3c0_11ea_9157_38f9d384f426row2_col0\" class=\"data row2 col0\" >1</td>\n",
       "                        <td id=\"T_ec1b39fc_d3c0_11ea_9157_38f9d384f426row2_col1\" class=\"data row2 col1\" >262</td>\n",
       "                        <td id=\"T_ec1b39fc_d3c0_11ea_9157_38f9d384f426row2_col2\" class=\"data row2 col2\" >3</td>\n",
       "            </tr>\n",
       "            <tr>\n",
       "                        <th id=\"T_ec1b39fc_d3c0_11ea_9157_38f9d384f426level0_row3\" class=\"row_heading level0 row3\" >70</th>\n",
       "                        <td id=\"T_ec1b39fc_d3c0_11ea_9157_38f9d384f426row3_col0\" class=\"data row3 col0\" >0</td>\n",
       "                        <td id=\"T_ec1b39fc_d3c0_11ea_9157_38f9d384f426row3_col1\" class=\"data row3 col1\" >340</td>\n",
       "                        <td id=\"T_ec1b39fc_d3c0_11ea_9157_38f9d384f426row3_col2\" class=\"data row3 col2\" >3</td>\n",
       "            </tr>\n",
       "            <tr>\n",
       "                        <th id=\"T_ec1b39fc_d3c0_11ea_9157_38f9d384f426level0_row4\" class=\"row_heading level0 row4\" >160</th>\n",
       "                        <td id=\"T_ec1b39fc_d3c0_11ea_9157_38f9d384f426row4_col0\" class=\"data row4 col0\" >1</td>\n",
       "                        <td id=\"T_ec1b39fc_d3c0_11ea_9157_38f9d384f426row4_col1\" class=\"data row4 col1\" >264</td>\n",
       "                        <td id=\"T_ec1b39fc_d3c0_11ea_9157_38f9d384f426row4_col2\" class=\"data row4 col2\" >3</td>\n",
       "            </tr>\n",
       "            <tr>\n",
       "                        <th id=\"T_ec1b39fc_d3c0_11ea_9157_38f9d384f426level0_row5\" class=\"row_heading level0 row5\" >162</th>\n",
       "                        <td id=\"T_ec1b39fc_d3c0_11ea_9157_38f9d384f426row5_col0\" class=\"data row5 col0\" >1</td>\n",
       "                        <td id=\"T_ec1b39fc_d3c0_11ea_9157_38f9d384f426row5_col1\" class=\"data row5 col1\" >267</td>\n",
       "                        <td id=\"T_ec1b39fc_d3c0_11ea_9157_38f9d384f426row5_col2\" class=\"data row5 col2\" >3</td>\n",
       "            </tr>\n",
       "            <tr>\n",
       "                        <th id=\"T_ec1b39fc_d3c0_11ea_9157_38f9d384f426level0_row6\" class=\"row_heading level0 row6\" >67</th>\n",
       "                        <td id=\"T_ec1b39fc_d3c0_11ea_9157_38f9d384f426row6_col0\" class=\"data row6 col0\" >0</td>\n",
       "                        <td id=\"T_ec1b39fc_d3c0_11ea_9157_38f9d384f426row6_col1\" class=\"data row6 col1\" >325</td>\n",
       "                        <td id=\"T_ec1b39fc_d3c0_11ea_9157_38f9d384f426row6_col2\" class=\"data row6 col2\" >3</td>\n",
       "            </tr>\n",
       "            <tr>\n",
       "                        <th id=\"T_ec1b39fc_d3c0_11ea_9157_38f9d384f426level0_row7\" class=\"row_heading level0 row7\" >163</th>\n",
       "                        <td id=\"T_ec1b39fc_d3c0_11ea_9157_38f9d384f426row7_col0\" class=\"data row7 col0\" >1</td>\n",
       "                        <td id=\"T_ec1b39fc_d3c0_11ea_9157_38f9d384f426row7_col1\" class=\"data row7 col1\" >269</td>\n",
       "                        <td id=\"T_ec1b39fc_d3c0_11ea_9157_38f9d384f426row7_col2\" class=\"data row7 col2\" >3</td>\n",
       "            </tr>\n",
       "            <tr>\n",
       "                        <th id=\"T_ec1b39fc_d3c0_11ea_9157_38f9d384f426level0_row8\" class=\"row_heading level0 row8\" >65</th>\n",
       "                        <td id=\"T_ec1b39fc_d3c0_11ea_9157_38f9d384f426row8_col0\" class=\"data row8 col0\" >0</td>\n",
       "                        <td id=\"T_ec1b39fc_d3c0_11ea_9157_38f9d384f426row8_col1\" class=\"data row8 col1\" >318</td>\n",
       "                        <td id=\"T_ec1b39fc_d3c0_11ea_9157_38f9d384f426row8_col2\" class=\"data row8 col2\" >3</td>\n",
       "            </tr>\n",
       "            <tr>\n",
       "                        <th id=\"T_ec1b39fc_d3c0_11ea_9157_38f9d384f426level0_row9\" class=\"row_heading level0 row9\" >64</th>\n",
       "                        <td id=\"T_ec1b39fc_d3c0_11ea_9157_38f9d384f426row9_col0\" class=\"data row9 col0\" >0</td>\n",
       "                        <td id=\"T_ec1b39fc_d3c0_11ea_9157_38f9d384f426row9_col1\" class=\"data row9 col1\" >313</td>\n",
       "                        <td id=\"T_ec1b39fc_d3c0_11ea_9157_38f9d384f426row9_col2\" class=\"data row9 col2\" >3</td>\n",
       "            </tr>\n",
       "    </tbody></table>"
      ],
      "text/plain": [
       "<pandas.io.formats.style.Styler at 0x1a20d80450>"
      ]
     },
     "execution_count": 51,
     "metadata": {},
     "output_type": "execute_result"
    }
   ],
   "source": [
    "s= data.groupby(['sex','chol'])['target'].count().reset_index().sort_values(by='target',ascending=True)\n",
    "s.head(10).style.background_gradient(cmap='Blues')"
   ]
  },
  {
   "cell_type": "markdown",
   "metadata": {},
   "source": [
    "Generally males having high cholesterol had higher cases of heart attacks than females at the same Cholesterol."
   ]
  },
  {
   "cell_type": "code",
   "execution_count": 52,
   "metadata": {},
   "outputs": [
    {
     "data": {
      "text/html": [
       "<style  type=\"text/css\" >\n",
       "    #T_ec1fb39c_d3c0_11ea_9157_38f9d384f426row0_col0 {\n",
       "            background-color:  #08306b;\n",
       "            color:  #f1f1f1;\n",
       "        }    #T_ec1fb39c_d3c0_11ea_9157_38f9d384f426row0_col1 {\n",
       "            background-color:  #f7fbff;\n",
       "            color:  #000000;\n",
       "        }    #T_ec1fb39c_d3c0_11ea_9157_38f9d384f426row0_col2 {\n",
       "            background-color:  #08306b;\n",
       "            color:  #f1f1f1;\n",
       "        }    #T_ec1fb39c_d3c0_11ea_9157_38f9d384f426row1_col0 {\n",
       "            background-color:  #f7fbff;\n",
       "            color:  #000000;\n",
       "        }    #T_ec1fb39c_d3c0_11ea_9157_38f9d384f426row1_col1 {\n",
       "            background-color:  #f7fbff;\n",
       "            color:  #000000;\n",
       "        }    #T_ec1fb39c_d3c0_11ea_9157_38f9d384f426row1_col2 {\n",
       "            background-color:  #91c3de;\n",
       "            color:  #000000;\n",
       "        }    #T_ec1fb39c_d3c0_11ea_9157_38f9d384f426row2_col0 {\n",
       "            background-color:  #08306b;\n",
       "            color:  #f1f1f1;\n",
       "        }    #T_ec1fb39c_d3c0_11ea_9157_38f9d384f426row2_col1 {\n",
       "            background-color:  #08306b;\n",
       "            color:  #f1f1f1;\n",
       "        }    #T_ec1fb39c_d3c0_11ea_9157_38f9d384f426row2_col2 {\n",
       "            background-color:  #dfebf7;\n",
       "            color:  #000000;\n",
       "        }    #T_ec1fb39c_d3c0_11ea_9157_38f9d384f426row3_col0 {\n",
       "            background-color:  #f7fbff;\n",
       "            color:  #000000;\n",
       "        }    #T_ec1fb39c_d3c0_11ea_9157_38f9d384f426row3_col1 {\n",
       "            background-color:  #08306b;\n",
       "            color:  #f1f1f1;\n",
       "        }    #T_ec1fb39c_d3c0_11ea_9157_38f9d384f426row3_col2 {\n",
       "            background-color:  #f7fbff;\n",
       "            color:  #000000;\n",
       "        }</style><table id=\"T_ec1fb39c_d3c0_11ea_9157_38f9d384f426\" ><thead>    <tr>        <th class=\"blank level0\" ></th>        <th class=\"col_heading level0 col0\" >sex</th>        <th class=\"col_heading level0 col1\" >fbs</th>        <th class=\"col_heading level0 col2\" >target</th>    </tr></thead><tbody>\n",
       "                <tr>\n",
       "                        <th id=\"T_ec1fb39c_d3c0_11ea_9157_38f9d384f426level0_row0\" class=\"row_heading level0 row0\" >2</th>\n",
       "                        <td id=\"T_ec1fb39c_d3c0_11ea_9157_38f9d384f426row0_col0\" class=\"data row0 col0\" >1</td>\n",
       "                        <td id=\"T_ec1fb39c_d3c0_11ea_9157_38f9d384f426row0_col1\" class=\"data row0 col1\" >0</td>\n",
       "                        <td id=\"T_ec1fb39c_d3c0_11ea_9157_38f9d384f426row0_col2\" class=\"data row0 col2\" >602</td>\n",
       "            </tr>\n",
       "            <tr>\n",
       "                        <th id=\"T_ec1fb39c_d3c0_11ea_9157_38f9d384f426level0_row1\" class=\"row_heading level0 row1\" >0</th>\n",
       "                        <td id=\"T_ec1fb39c_d3c0_11ea_9157_38f9d384f426row1_col0\" class=\"data row1 col0\" >0</td>\n",
       "                        <td id=\"T_ec1fb39c_d3c0_11ea_9157_38f9d384f426row1_col1\" class=\"data row1 col1\" >0</td>\n",
       "                        <td id=\"T_ec1fb39c_d3c0_11ea_9157_38f9d384f426row1_col2\" class=\"data row1 col2\" >270</td>\n",
       "            </tr>\n",
       "            <tr>\n",
       "                        <th id=\"T_ec1fb39c_d3c0_11ea_9157_38f9d384f426level0_row2\" class=\"row_heading level0 row2\" >3</th>\n",
       "                        <td id=\"T_ec1fb39c_d3c0_11ea_9157_38f9d384f426row2_col0\" class=\"data row2 col0\" >1</td>\n",
       "                        <td id=\"T_ec1fb39c_d3c0_11ea_9157_38f9d384f426row2_col1\" class=\"data row2 col1\" >1</td>\n",
       "                        <td id=\"T_ec1fb39c_d3c0_11ea_9157_38f9d384f426row2_col2\" class=\"data row2 col2\" >111</td>\n",
       "            </tr>\n",
       "            <tr>\n",
       "                        <th id=\"T_ec1fb39c_d3c0_11ea_9157_38f9d384f426level0_row3\" class=\"row_heading level0 row3\" >1</th>\n",
       "                        <td id=\"T_ec1fb39c_d3c0_11ea_9157_38f9d384f426row3_col0\" class=\"data row3 col0\" >0</td>\n",
       "                        <td id=\"T_ec1fb39c_d3c0_11ea_9157_38f9d384f426row3_col1\" class=\"data row3 col1\" >1</td>\n",
       "                        <td id=\"T_ec1fb39c_d3c0_11ea_9157_38f9d384f426row3_col2\" class=\"data row3 col2\" >42</td>\n",
       "            </tr>\n",
       "    </tbody></table>"
      ],
      "text/plain": [
       "<pandas.io.formats.style.Styler at 0x1a20d904d0>"
      ]
     },
     "execution_count": 52,
     "metadata": {},
     "output_type": "execute_result"
    }
   ],
   "source": [
    "s= data.groupby(['sex','fbs'])['target'].count().reset_index().sort_values(by='target',ascending=False)\n",
    "s.head(10).style.background_gradient(cmap='Blues')"
   ]
  },
  {
   "cell_type": "markdown",
   "metadata": {},
   "source": [
    "This shows relation of Fasting blood sugar with heart attack in case of Male and Females."
   ]
  },
  {
   "cell_type": "code",
   "execution_count": 53,
   "metadata": {},
   "outputs": [
    {
     "data": {
      "text/html": [
       "<style  type=\"text/css\" >\n",
       "    #T_ec24cb48_d3c0_11ea_9157_38f9d384f426row0_col0 {\n",
       "            background-color:  #081d58;\n",
       "            color:  #f1f1f1;\n",
       "        }    #T_ec24cb48_d3c0_11ea_9157_38f9d384f426row0_col1 {\n",
       "            background-color:  #ffffd9;\n",
       "            color:  #000000;\n",
       "        }    #T_ec24cb48_d3c0_11ea_9157_38f9d384f426row0_col2 {\n",
       "            background-color:  #081d58;\n",
       "            color:  #f1f1f1;\n",
       "        }    #T_ec24cb48_d3c0_11ea_9157_38f9d384f426row1_col0 {\n",
       "            background-color:  #ffffd9;\n",
       "            color:  #000000;\n",
       "        }    #T_ec24cb48_d3c0_11ea_9157_38f9d384f426row1_col1 {\n",
       "            background-color:  #ffffd9;\n",
       "            color:  #000000;\n",
       "        }    #T_ec24cb48_d3c0_11ea_9157_38f9d384f426row1_col2 {\n",
       "            background-color:  #39adc3;\n",
       "            color:  #000000;\n",
       "        }    #T_ec24cb48_d3c0_11ea_9157_38f9d384f426row2_col0 {\n",
       "            background-color:  #081d58;\n",
       "            color:  #f1f1f1;\n",
       "        }    #T_ec24cb48_d3c0_11ea_9157_38f9d384f426row2_col1 {\n",
       "            background-color:  #c6e9b4;\n",
       "            color:  #000000;\n",
       "        }    #T_ec24cb48_d3c0_11ea_9157_38f9d384f426row2_col2 {\n",
       "            background-color:  #59bfc0;\n",
       "            color:  #000000;\n",
       "        }    #T_ec24cb48_d3c0_11ea_9157_38f9d384f426row3_col0 {\n",
       "            background-color:  #081d58;\n",
       "            color:  #f1f1f1;\n",
       "        }    #T_ec24cb48_d3c0_11ea_9157_38f9d384f426row3_col1 {\n",
       "            background-color:  #40b5c4;\n",
       "            color:  #000000;\n",
       "        }    #T_ec24cb48_d3c0_11ea_9157_38f9d384f426row3_col2 {\n",
       "            background-color:  #d4eeb3;\n",
       "            color:  #000000;\n",
       "        }    #T_ec24cb48_d3c0_11ea_9157_38f9d384f426row4_col0 {\n",
       "            background-color:  #081d58;\n",
       "            color:  #f1f1f1;\n",
       "        }    #T_ec24cb48_d3c0_11ea_9157_38f9d384f426row4_col1 {\n",
       "            background-color:  #225da8;\n",
       "            color:  #f1f1f1;\n",
       "        }    #T_ec24cb48_d3c0_11ea_9157_38f9d384f426row4_col2 {\n",
       "            background-color:  #eff9b5;\n",
       "            color:  #000000;\n",
       "        }    #T_ec24cb48_d3c0_11ea_9157_38f9d384f426row5_col0 {\n",
       "            background-color:  #ffffd9;\n",
       "            color:  #000000;\n",
       "        }    #T_ec24cb48_d3c0_11ea_9157_38f9d384f426row5_col1 {\n",
       "            background-color:  #c6e9b4;\n",
       "            color:  #000000;\n",
       "        }    #T_ec24cb48_d3c0_11ea_9157_38f9d384f426row5_col2 {\n",
       "            background-color:  #f1fabb;\n",
       "            color:  #000000;\n",
       "        }    #T_ec24cb48_d3c0_11ea_9157_38f9d384f426row6_col0 {\n",
       "            background-color:  #ffffd9;\n",
       "            color:  #000000;\n",
       "        }    #T_ec24cb48_d3c0_11ea_9157_38f9d384f426row6_col1 {\n",
       "            background-color:  #40b5c4;\n",
       "            color:  #000000;\n",
       "        }    #T_ec24cb48_d3c0_11ea_9157_38f9d384f426row6_col2 {\n",
       "            background-color:  #f3fabd;\n",
       "            color:  #000000;\n",
       "        }    #T_ec24cb48_d3c0_11ea_9157_38f9d384f426row7_col0 {\n",
       "            background-color:  #081d58;\n",
       "            color:  #f1f1f1;\n",
       "        }    #T_ec24cb48_d3c0_11ea_9157_38f9d384f426row7_col1 {\n",
       "            background-color:  #081d58;\n",
       "            color:  #f1f1f1;\n",
       "        }    #T_ec24cb48_d3c0_11ea_9157_38f9d384f426row7_col2 {\n",
       "            background-color:  #feffd6;\n",
       "            color:  #000000;\n",
       "        }    #T_ec24cb48_d3c0_11ea_9157_38f9d384f426row8_col0 {\n",
       "            background-color:  #ffffd9;\n",
       "            color:  #000000;\n",
       "        }    #T_ec24cb48_d3c0_11ea_9157_38f9d384f426row8_col1 {\n",
       "            background-color:  #225da8;\n",
       "            color:  #f1f1f1;\n",
       "        }    #T_ec24cb48_d3c0_11ea_9157_38f9d384f426row8_col2 {\n",
       "            background-color:  #ffffd9;\n",
       "            color:  #000000;\n",
       "        }</style><table id=\"T_ec24cb48_d3c0_11ea_9157_38f9d384f426\" ><thead>    <tr>        <th class=\"blank level0\" ></th>        <th class=\"col_heading level0 col0\" >sex</th>        <th class=\"col_heading level0 col1\" >ca</th>        <th class=\"col_heading level0 col2\" >target</th>    </tr></thead><tbody>\n",
       "                <tr>\n",
       "                        <th id=\"T_ec24cb48_d3c0_11ea_9157_38f9d384f426level0_row0\" class=\"row_heading level0 row0\" >4</th>\n",
       "                        <td id=\"T_ec24cb48_d3c0_11ea_9157_38f9d384f426row0_col0\" class=\"data row0 col0\" >1</td>\n",
       "                        <td id=\"T_ec24cb48_d3c0_11ea_9157_38f9d384f426row0_col1\" class=\"data row0 col1\" >0</td>\n",
       "                        <td id=\"T_ec24cb48_d3c0_11ea_9157_38f9d384f426row0_col2\" class=\"data row0 col2\" >374</td>\n",
       "            </tr>\n",
       "            <tr>\n",
       "                        <th id=\"T_ec24cb48_d3c0_11ea_9157_38f9d384f426level0_row1\" class=\"row_heading level0 row1\" >0</th>\n",
       "                        <td id=\"T_ec24cb48_d3c0_11ea_9157_38f9d384f426row1_col0\" class=\"data row1 col0\" >0</td>\n",
       "                        <td id=\"T_ec24cb48_d3c0_11ea_9157_38f9d384f426row1_col1\" class=\"data row1 col1\" >0</td>\n",
       "                        <td id=\"T_ec24cb48_d3c0_11ea_9157_38f9d384f426row1_col2\" class=\"data row1 col2\" >204</td>\n",
       "            </tr>\n",
       "            <tr>\n",
       "                        <th id=\"T_ec24cb48_d3c0_11ea_9157_38f9d384f426level0_row2\" class=\"row_heading level0 row2\" >5</th>\n",
       "                        <td id=\"T_ec24cb48_d3c0_11ea_9157_38f9d384f426row2_col0\" class=\"data row2 col0\" >1</td>\n",
       "                        <td id=\"T_ec24cb48_d3c0_11ea_9157_38f9d384f426row2_col1\" class=\"data row2 col1\" >1</td>\n",
       "                        <td id=\"T_ec24cb48_d3c0_11ea_9157_38f9d384f426row2_col2\" class=\"data row2 col2\" >177</td>\n",
       "            </tr>\n",
       "            <tr>\n",
       "                        <th id=\"T_ec24cb48_d3c0_11ea_9157_38f9d384f426level0_row3\" class=\"row_heading level0 row3\" >6</th>\n",
       "                        <td id=\"T_ec24cb48_d3c0_11ea_9157_38f9d384f426row3_col0\" class=\"data row3 col0\" >1</td>\n",
       "                        <td id=\"T_ec24cb48_d3c0_11ea_9157_38f9d384f426row3_col1\" class=\"data row3 col1\" >2</td>\n",
       "                        <td id=\"T_ec24cb48_d3c0_11ea_9157_38f9d384f426row3_col2\" class=\"data row3 col2\" >89</td>\n",
       "            </tr>\n",
       "            <tr>\n",
       "                        <th id=\"T_ec24cb48_d3c0_11ea_9157_38f9d384f426level0_row4\" class=\"row_heading level0 row4\" >7</th>\n",
       "                        <td id=\"T_ec24cb48_d3c0_11ea_9157_38f9d384f426row4_col0\" class=\"data row4 col0\" >1</td>\n",
       "                        <td id=\"T_ec24cb48_d3c0_11ea_9157_38f9d384f426row4_col1\" class=\"data row4 col1\" >3</td>\n",
       "                        <td id=\"T_ec24cb48_d3c0_11ea_9157_38f9d384f426row4_col2\" class=\"data row4 col2\" >55</td>\n",
       "            </tr>\n",
       "            <tr>\n",
       "                        <th id=\"T_ec24cb48_d3c0_11ea_9157_38f9d384f426level0_row5\" class=\"row_heading level0 row5\" >1</th>\n",
       "                        <td id=\"T_ec24cb48_d3c0_11ea_9157_38f9d384f426row5_col0\" class=\"data row5 col0\" >0</td>\n",
       "                        <td id=\"T_ec24cb48_d3c0_11ea_9157_38f9d384f426row5_col1\" class=\"data row5 col1\" >1</td>\n",
       "                        <td id=\"T_ec24cb48_d3c0_11ea_9157_38f9d384f426row5_col2\" class=\"data row5 col2\" >49</td>\n",
       "            </tr>\n",
       "            <tr>\n",
       "                        <th id=\"T_ec24cb48_d3c0_11ea_9157_38f9d384f426level0_row6\" class=\"row_heading level0 row6\" >2</th>\n",
       "                        <td id=\"T_ec24cb48_d3c0_11ea_9157_38f9d384f426row6_col0\" class=\"data row6 col0\" >0</td>\n",
       "                        <td id=\"T_ec24cb48_d3c0_11ea_9157_38f9d384f426row6_col1\" class=\"data row6 col1\" >2</td>\n",
       "                        <td id=\"T_ec24cb48_d3c0_11ea_9157_38f9d384f426row6_col2\" class=\"data row6 col2\" >45</td>\n",
       "            </tr>\n",
       "            <tr>\n",
       "                        <th id=\"T_ec24cb48_d3c0_11ea_9157_38f9d384f426level0_row7\" class=\"row_heading level0 row7\" >8</th>\n",
       "                        <td id=\"T_ec24cb48_d3c0_11ea_9157_38f9d384f426row7_col0\" class=\"data row7 col0\" >1</td>\n",
       "                        <td id=\"T_ec24cb48_d3c0_11ea_9157_38f9d384f426row7_col1\" class=\"data row7 col1\" >4</td>\n",
       "                        <td id=\"T_ec24cb48_d3c0_11ea_9157_38f9d384f426row7_col2\" class=\"data row7 col2\" >18</td>\n",
       "            </tr>\n",
       "            <tr>\n",
       "                        <th id=\"T_ec24cb48_d3c0_11ea_9157_38f9d384f426level0_row8\" class=\"row_heading level0 row8\" >3</th>\n",
       "                        <td id=\"T_ec24cb48_d3c0_11ea_9157_38f9d384f426row8_col0\" class=\"data row8 col0\" >0</td>\n",
       "                        <td id=\"T_ec24cb48_d3c0_11ea_9157_38f9d384f426row8_col1\" class=\"data row8 col1\" >3</td>\n",
       "                        <td id=\"T_ec24cb48_d3c0_11ea_9157_38f9d384f426row8_col2\" class=\"data row8 col2\" >14</td>\n",
       "            </tr>\n",
       "    </tbody></table>"
      ],
      "text/plain": [
       "<pandas.io.formats.style.Styler at 0x1a20d63cd0>"
      ]
     },
     "execution_count": 53,
     "metadata": {},
     "output_type": "execute_result"
    }
   ],
   "source": [
    "s= data.groupby(['sex','ca'])['target'].count().reset_index().sort_values(by='target',ascending=False)\n",
    "s.head(10).style.background_gradient(cmap='YlGnBu')"
   ]
  },
  {
   "cell_type": "markdown",
   "metadata": {},
   "source": [
    "The lower the number of vessels blocked, the higher were the heart disease cases. This means that 0 represents that all 4 major blood vessels were blocked and 4 represented all vessels were free for flow."
   ]
  },
  {
   "cell_type": "code",
   "execution_count": 54,
   "metadata": {},
   "outputs": [
    {
     "data": {
      "text/html": [
       "<style  type=\"text/css\" >\n",
       "    #T_ec299010_d3c0_11ea_9157_38f9d384f426row0_col0 {\n",
       "            background-color:  #3f007d;\n",
       "            color:  #f1f1f1;\n",
       "        }    #T_ec299010_d3c0_11ea_9157_38f9d384f426row0_col1 {\n",
       "            background-color:  #fcfbfd;\n",
       "            color:  #000000;\n",
       "        }    #T_ec299010_d3c0_11ea_9157_38f9d384f426row0_col2 {\n",
       "            background-color:  #3f007d;\n",
       "            color:  #f1f1f1;\n",
       "        }    #T_ec299010_d3c0_11ea_9157_38f9d384f426row1_col0 {\n",
       "            background-color:  #3f007d;\n",
       "            color:  #f1f1f1;\n",
       "        }    #T_ec299010_d3c0_11ea_9157_38f9d384f426row1_col1 {\n",
       "            background-color:  #3f007d;\n",
       "            color:  #f1f1f1;\n",
       "        }    #T_ec299010_d3c0_11ea_9157_38f9d384f426row1_col2 {\n",
       "            background-color:  #9591c4;\n",
       "            color:  #000000;\n",
       "        }    #T_ec299010_d3c0_11ea_9157_38f9d384f426row2_col0 {\n",
       "            background-color:  #fcfbfd;\n",
       "            color:  #000000;\n",
       "        }    #T_ec299010_d3c0_11ea_9157_38f9d384f426row2_col1 {\n",
       "            background-color:  #fcfbfd;\n",
       "            color:  #000000;\n",
       "        }    #T_ec299010_d3c0_11ea_9157_38f9d384f426row2_col2 {\n",
       "            background-color:  #aba9d0;\n",
       "            color:  #000000;\n",
       "        }    #T_ec299010_d3c0_11ea_9157_38f9d384f426row3_col0 {\n",
       "            background-color:  #fcfbfd;\n",
       "            color:  #000000;\n",
       "        }    #T_ec299010_d3c0_11ea_9157_38f9d384f426row3_col1 {\n",
       "            background-color:  #3f007d;\n",
       "            color:  #f1f1f1;\n",
       "        }    #T_ec299010_d3c0_11ea_9157_38f9d384f426row3_col2 {\n",
       "            background-color:  #fcfbfd;\n",
       "            color:  #000000;\n",
       "        }</style><table id=\"T_ec299010_d3c0_11ea_9157_38f9d384f426\" ><thead>    <tr>        <th class=\"blank level0\" ></th>        <th class=\"col_heading level0 col0\" >sex</th>        <th class=\"col_heading level0 col1\" >exang</th>        <th class=\"col_heading level0 col2\" >target</th>    </tr></thead><tbody>\n",
       "                <tr>\n",
       "                        <th id=\"T_ec299010_d3c0_11ea_9157_38f9d384f426level0_row0\" class=\"row_heading level0 row0\" >2</th>\n",
       "                        <td id=\"T_ec299010_d3c0_11ea_9157_38f9d384f426row0_col0\" class=\"data row0 col0\" >1</td>\n",
       "                        <td id=\"T_ec299010_d3c0_11ea_9157_38f9d384f426row0_col1\" class=\"data row0 col1\" >0</td>\n",
       "                        <td id=\"T_ec299010_d3c0_11ea_9157_38f9d384f426row0_col2\" class=\"data row0 col2\" >442</td>\n",
       "            </tr>\n",
       "            <tr>\n",
       "                        <th id=\"T_ec299010_d3c0_11ea_9157_38f9d384f426level0_row1\" class=\"row_heading level0 row1\" >3</th>\n",
       "                        <td id=\"T_ec299010_d3c0_11ea_9157_38f9d384f426row1_col0\" class=\"data row1 col0\" >1</td>\n",
       "                        <td id=\"T_ec299010_d3c0_11ea_9157_38f9d384f426row1_col1\" class=\"data row1 col1\" >1</td>\n",
       "                        <td id=\"T_ec299010_d3c0_11ea_9157_38f9d384f426row1_col2\" class=\"data row1 col2\" >271</td>\n",
       "            </tr>\n",
       "            <tr>\n",
       "                        <th id=\"T_ec299010_d3c0_11ea_9157_38f9d384f426level0_row2\" class=\"row_heading level0 row2\" >0</th>\n",
       "                        <td id=\"T_ec299010_d3c0_11ea_9157_38f9d384f426row2_col0\" class=\"data row2 col0\" >0</td>\n",
       "                        <td id=\"T_ec299010_d3c0_11ea_9157_38f9d384f426row2_col1\" class=\"data row2 col1\" >0</td>\n",
       "                        <td id=\"T_ec299010_d3c0_11ea_9157_38f9d384f426row2_col2\" class=\"data row2 col2\" >238</td>\n",
       "            </tr>\n",
       "            <tr>\n",
       "                        <th id=\"T_ec299010_d3c0_11ea_9157_38f9d384f426level0_row3\" class=\"row_heading level0 row3\" >1</th>\n",
       "                        <td id=\"T_ec299010_d3c0_11ea_9157_38f9d384f426row3_col0\" class=\"data row3 col0\" >0</td>\n",
       "                        <td id=\"T_ec299010_d3c0_11ea_9157_38f9d384f426row3_col1\" class=\"data row3 col1\" >1</td>\n",
       "                        <td id=\"T_ec299010_d3c0_11ea_9157_38f9d384f426row3_col2\" class=\"data row3 col2\" >74</td>\n",
       "            </tr>\n",
       "    </tbody></table>"
      ],
      "text/plain": [
       "<pandas.io.formats.style.Styler at 0x1a206a0e50>"
      ]
     },
     "execution_count": 54,
     "metadata": {},
     "output_type": "execute_result"
    }
   ],
   "source": [
    "s= data.groupby(['sex','exang'])['target'].count().reset_index().sort_values(by='target',ascending=False)\n",
    "s.head(10).style.background_gradient(cmap='Purples')"
   ]
  },
  {
   "cell_type": "markdown",
   "metadata": {},
   "source": [
    "Exercise induced chest pain was higher in males and more resulted in Heart attacks."
   ]
  },
  {
   "cell_type": "code",
   "execution_count": 55,
   "metadata": {},
   "outputs": [
    {
     "data": {
      "text/html": [
       "<style  type=\"text/css\" >\n",
       "    #T_ec2eaf46_d3c0_11ea_9157_38f9d384f426row0_col0 {\n",
       "            background-color:  #000000;\n",
       "            color:  #f1f1f1;\n",
       "        }    #T_ec2eaf46_d3c0_11ea_9157_38f9d384f426row0_col1 {\n",
       "            background-color:  #000000;\n",
       "            color:  #f1f1f1;\n",
       "        }    #T_ec2eaf46_d3c0_11ea_9157_38f9d384f426row0_col2 {\n",
       "            background-color:  #000000;\n",
       "            color:  #f1f1f1;\n",
       "        }    #T_ec2eaf46_d3c0_11ea_9157_38f9d384f426row1_col0 {\n",
       "            background-color:  #000000;\n",
       "            color:  #f1f1f1;\n",
       "        }    #T_ec2eaf46_d3c0_11ea_9157_38f9d384f426row1_col1 {\n",
       "            background-color:  #686868;\n",
       "            color:  #f1f1f1;\n",
       "        }    #T_ec2eaf46_d3c0_11ea_9157_38f9d384f426row1_col2 {\n",
       "            background-color:  #3a3a3a;\n",
       "            color:  #f1f1f1;\n",
       "        }    #T_ec2eaf46_d3c0_11ea_9157_38f9d384f426row2_col0 {\n",
       "            background-color:  #ffffff;\n",
       "            color:  #000000;\n",
       "        }    #T_ec2eaf46_d3c0_11ea_9157_38f9d384f426row2_col1 {\n",
       "            background-color:  #686868;\n",
       "            color:  #f1f1f1;\n",
       "        }    #T_ec2eaf46_d3c0_11ea_9157_38f9d384f426row2_col2 {\n",
       "            background-color:  #5e5e5e;\n",
       "            color:  #f1f1f1;\n",
       "        }    #T_ec2eaf46_d3c0_11ea_9157_38f9d384f426row3_col0 {\n",
       "            background-color:  #000000;\n",
       "            color:  #f1f1f1;\n",
       "        }    #T_ec2eaf46_d3c0_11ea_9157_38f9d384f426row3_col1 {\n",
       "            background-color:  #c6c6c6;\n",
       "            color:  #000000;\n",
       "        }    #T_ec2eaf46_d3c0_11ea_9157_38f9d384f426row3_col2 {\n",
       "            background-color:  #e9e9e9;\n",
       "            color:  #000000;\n",
       "        }    #T_ec2eaf46_d3c0_11ea_9157_38f9d384f426row4_col0 {\n",
       "            background-color:  #ffffff;\n",
       "            color:  #000000;\n",
       "        }    #T_ec2eaf46_d3c0_11ea_9157_38f9d384f426row4_col1 {\n",
       "            background-color:  #000000;\n",
       "            color:  #f1f1f1;\n",
       "        }    #T_ec2eaf46_d3c0_11ea_9157_38f9d384f426row4_col2 {\n",
       "            background-color:  #ededed;\n",
       "            color:  #000000;\n",
       "        }    #T_ec2eaf46_d3c0_11ea_9157_38f9d384f426row5_col0 {\n",
       "            background-color:  #ffffff;\n",
       "            color:  #000000;\n",
       "        }    #T_ec2eaf46_d3c0_11ea_9157_38f9d384f426row5_col1 {\n",
       "            background-color:  #c6c6c6;\n",
       "            color:  #000000;\n",
       "        }    #T_ec2eaf46_d3c0_11ea_9157_38f9d384f426row5_col2 {\n",
       "            background-color:  #ffffff;\n",
       "            color:  #000000;\n",
       "        }    #T_ec2eaf46_d3c0_11ea_9157_38f9d384f426row6_col0 {\n",
       "            background-color:  #000000;\n",
       "            color:  #f1f1f1;\n",
       "        }    #T_ec2eaf46_d3c0_11ea_9157_38f9d384f426row6_col1 {\n",
       "            background-color:  #ffffff;\n",
       "            color:  #000000;\n",
       "        }    #T_ec2eaf46_d3c0_11ea_9157_38f9d384f426row6_col2 {\n",
       "            background-color:  #ffffff;\n",
       "            color:  #000000;\n",
       "        }    #T_ec2eaf46_d3c0_11ea_9157_38f9d384f426row7_col0 {\n",
       "            background-color:  #ffffff;\n",
       "            color:  #000000;\n",
       "        }    #T_ec2eaf46_d3c0_11ea_9157_38f9d384f426row7_col1 {\n",
       "            background-color:  #ffffff;\n",
       "            color:  #000000;\n",
       "        }    #T_ec2eaf46_d3c0_11ea_9157_38f9d384f426row7_col2 {\n",
       "            background-color:  #ffffff;\n",
       "            color:  #000000;\n",
       "        }</style><table id=\"T_ec2eaf46_d3c0_11ea_9157_38f9d384f426\" ><thead>    <tr>        <th class=\"blank level0\" ></th>        <th class=\"col_heading level0 col0\" >sex</th>        <th class=\"col_heading level0 col1\" >thal</th>        <th class=\"col_heading level0 col2\" >target</th>    </tr></thead><tbody>\n",
       "                <tr>\n",
       "                        <th id=\"T_ec2eaf46_d3c0_11ea_9157_38f9d384f426level0_row0\" class=\"row_heading level0 row0\" >7</th>\n",
       "                        <td id=\"T_ec2eaf46_d3c0_11ea_9157_38f9d384f426row0_col0\" class=\"data row0 col0\" >1</td>\n",
       "                        <td id=\"T_ec2eaf46_d3c0_11ea_9157_38f9d384f426row0_col1\" class=\"data row0 col1\" >3</td>\n",
       "                        <td id=\"T_ec2eaf46_d3c0_11ea_9157_38f9d384f426row0_col2\" class=\"data row0 col2\" >357</td>\n",
       "            </tr>\n",
       "            <tr>\n",
       "                        <th id=\"T_ec2eaf46_d3c0_11ea_9157_38f9d384f426level0_row1\" class=\"row_heading level0 row1\" >6</th>\n",
       "                        <td id=\"T_ec2eaf46_d3c0_11ea_9157_38f9d384f426row1_col0\" class=\"data row1 col0\" >1</td>\n",
       "                        <td id=\"T_ec2eaf46_d3c0_11ea_9157_38f9d384f426row1_col1\" class=\"data row1 col1\" >2</td>\n",
       "                        <td id=\"T_ec2eaf46_d3c0_11ea_9157_38f9d384f426row1_col2\" class=\"data row1 col2\" >292</td>\n",
       "            </tr>\n",
       "            <tr>\n",
       "                        <th id=\"T_ec2eaf46_d3c0_11ea_9157_38f9d384f426level0_row2\" class=\"row_heading level0 row2\" >2</th>\n",
       "                        <td id=\"T_ec2eaf46_d3c0_11ea_9157_38f9d384f426row2_col0\" class=\"data row2 col0\" >0</td>\n",
       "                        <td id=\"T_ec2eaf46_d3c0_11ea_9157_38f9d384f426row2_col1\" class=\"data row2 col1\" >2</td>\n",
       "                        <td id=\"T_ec2eaf46_d3c0_11ea_9157_38f9d384f426row2_col2\" class=\"data row2 col2\" >252</td>\n",
       "            </tr>\n",
       "            <tr>\n",
       "                        <th id=\"T_ec2eaf46_d3c0_11ea_9157_38f9d384f426level0_row3\" class=\"row_heading level0 row3\" >5</th>\n",
       "                        <td id=\"T_ec2eaf46_d3c0_11ea_9157_38f9d384f426row3_col0\" class=\"data row3 col0\" >1</td>\n",
       "                        <td id=\"T_ec2eaf46_d3c0_11ea_9157_38f9d384f426row3_col1\" class=\"data row3 col1\" >1</td>\n",
       "                        <td id=\"T_ec2eaf46_d3c0_11ea_9157_38f9d384f426row3_col2\" class=\"data row3 col2\" >60</td>\n",
       "            </tr>\n",
       "            <tr>\n",
       "                        <th id=\"T_ec2eaf46_d3c0_11ea_9157_38f9d384f426level0_row4\" class=\"row_heading level0 row4\" >3</th>\n",
       "                        <td id=\"T_ec2eaf46_d3c0_11ea_9157_38f9d384f426row4_col0\" class=\"data row4 col0\" >0</td>\n",
       "                        <td id=\"T_ec2eaf46_d3c0_11ea_9157_38f9d384f426row4_col1\" class=\"data row4 col1\" >3</td>\n",
       "                        <td id=\"T_ec2eaf46_d3c0_11ea_9157_38f9d384f426row4_col2\" class=\"data row4 col2\" >53</td>\n",
       "            </tr>\n",
       "            <tr>\n",
       "                        <th id=\"T_ec2eaf46_d3c0_11ea_9157_38f9d384f426level0_row5\" class=\"row_heading level0 row5\" >1</th>\n",
       "                        <td id=\"T_ec2eaf46_d3c0_11ea_9157_38f9d384f426row5_col0\" class=\"data row5 col0\" >0</td>\n",
       "                        <td id=\"T_ec2eaf46_d3c0_11ea_9157_38f9d384f426row5_col1\" class=\"data row5 col1\" >1</td>\n",
       "                        <td id=\"T_ec2eaf46_d3c0_11ea_9157_38f9d384f426row5_col2\" class=\"data row5 col2\" >4</td>\n",
       "            </tr>\n",
       "            <tr>\n",
       "                        <th id=\"T_ec2eaf46_d3c0_11ea_9157_38f9d384f426level0_row6\" class=\"row_heading level0 row6\" >4</th>\n",
       "                        <td id=\"T_ec2eaf46_d3c0_11ea_9157_38f9d384f426row6_col0\" class=\"data row6 col0\" >1</td>\n",
       "                        <td id=\"T_ec2eaf46_d3c0_11ea_9157_38f9d384f426row6_col1\" class=\"data row6 col1\" >0</td>\n",
       "                        <td id=\"T_ec2eaf46_d3c0_11ea_9157_38f9d384f426row6_col2\" class=\"data row6 col2\" >4</td>\n",
       "            </tr>\n",
       "            <tr>\n",
       "                        <th id=\"T_ec2eaf46_d3c0_11ea_9157_38f9d384f426level0_row7\" class=\"row_heading level0 row7\" >0</th>\n",
       "                        <td id=\"T_ec2eaf46_d3c0_11ea_9157_38f9d384f426row7_col0\" class=\"data row7 col0\" >0</td>\n",
       "                        <td id=\"T_ec2eaf46_d3c0_11ea_9157_38f9d384f426row7_col1\" class=\"data row7 col1\" >0</td>\n",
       "                        <td id=\"T_ec2eaf46_d3c0_11ea_9157_38f9d384f426row7_col2\" class=\"data row7 col2\" >3</td>\n",
       "            </tr>\n",
       "    </tbody></table>"
      ],
      "text/plain": [
       "<pandas.io.formats.style.Styler at 0x1a20d77d10>"
      ]
     },
     "execution_count": 55,
     "metadata": {},
     "output_type": "execute_result"
    }
   ],
   "source": [
    "s= data.groupby(['sex','thal'])['target'].count().reset_index().sort_values(by='target',ascending=False)\n",
    "s.head(10).style.background_gradient(cmap='Greys')"
   ]
  },
  {
   "cell_type": "markdown",
   "metadata": {},
   "source": [
    "The higher the Thalassemia type, the higher were the cases of heart disease."
   ]
  },
  {
   "cell_type": "markdown",
   "metadata": {},
   "source": [
    "## 2. Understanding the data by summarizing their main characteristics  often plotting them visually"
   ]
  },
  {
   "cell_type": "markdown",
   "metadata": {},
   "source": [
    "Now, we can use visualizations to better understand our data and then look at any processing we might want to do."
   ]
  },
  {
   "cell_type": "markdown",
   "metadata": {},
   "source": [
    "We can do visualizations using many libraries. Here i used some libraries like  \n",
    "   1. Matplotlib: low level, provides lots of freedom \n",
    "   2. Pandas Visualization: easy to use interface, built on Matplotlib\n",
    "   3. Seaborn: high-level interface, great default styles"
   ]
  },
  {
   "cell_type": "code",
   "execution_count": 56,
   "metadata": {
    "scrolled": false
   },
   "outputs": [
    {
     "data": {
      "text/plain": [
       "<matplotlib.axes._subplots.AxesSubplot at 0x1a20d79ad0>"
      ]
     },
     "execution_count": 56,
     "metadata": {},
     "output_type": "execute_result"
    },
    {
     "data": {
      "image/png": "[encoded data removed]",
      "text/plain": [
       "<Figure size 720x720 with 2 Axes>"
      ]
     },
     "metadata": {},
     "output_type": "display_data"
    }
   ],
   "source": [
    "plt.figure(figsize=(10,10))\n",
    "sns.heatmap(data.corr(),cmap='YlGnBu')"
   ]
  },
  {
   "cell_type": "markdown",
   "metadata": {},
   "source": [
    "Taking a look above some features have negative correlation with the target value while some have positive correlation too."
   ]
  },
  {
   "cell_type": "code",
   "execution_count": 57,
   "metadata": {},
   "outputs": [
    {
     "data": {
      "text/plain": [
       "<matplotlib.axes._subplots.AxesSubplot at 0x1a20891710>"
      ]
     },
     "execution_count": 57,
     "metadata": {},
     "output_type": "execute_result"
    },
    {
     "data": {
      "image/png": "[encoded data removed]",
      "text/plain": [
       "<Figure size 1440x360 with 2 Axes>"
      ]
     },
     "metadata": {},
     "output_type": "display_data"
    }
   ],
   "source": [
    "##visualizing the missing values with heatmap\n",
    "sns.heatmap(data.isna())"
   ]
  },
  {
   "cell_type": "markdown",
   "metadata": {},
   "source": [
    "so in the above heatmap of the data we can find there are no missing values for all the attributes , that is the reason we can find the whole heatmap in pink color."
   ]
  },
  {
   "cell_type": "code",
   "execution_count": 58,
   "metadata": {},
   "outputs": [
    {
     "data": {
      "text/plain": [
       "<matplotlib.axes._subplots.AxesSubplot at 0x1a1c10cc90>"
      ]
     },
     "execution_count": 58,
     "metadata": {},
     "output_type": "execute_result"
    },
    {
     "data": {
      "image/png": "[encoded data removed]",
      "text/plain": [
       "<Figure size 1800x720 with 2 Axes>"
      ]
     },
     "metadata": {},
     "output_type": "display_data"
    }
   ],
   "source": [
    "import missingno as msno\n",
    "msno.matrix(data)"
   ]
  },
  {
   "cell_type": "markdown",
   "metadata": {},
   "source": [
    "This is the matrix plot of missing numbers where we could find no missing values for all the available features or attributes of the given data set"
   ]
  },
  {
   "cell_type": "code",
   "execution_count": 59,
   "metadata": {},
   "outputs": [
    {
     "data": {
      "text/plain": [
       "<matplotlib.axes._subplots.AxesSubplot at 0x1a1c0e0d90>"
      ]
     },
     "execution_count": 59,
     "metadata": {},
     "output_type": "execute_result"
    },
    {
     "data": {
      "image/png": "[encoded data removed]",
      "text/plain": [
       "<Figure size 1728x720 with 3 Axes>"
      ]
     },
     "metadata": {},
     "output_type": "display_data"
    }
   ],
   "source": [
    "msno.bar(data)"
   ]
  },
  {
   "cell_type": "markdown",
   "metadata": {},
   "source": [
    "The above graph we can see there are no missing values and this is a bar graph of missing data values of the dataset"
   ]
  },
  {
   "cell_type": "code",
   "execution_count": 60,
   "metadata": {},
   "outputs": [
    {
     "data": {
      "text/plain": [
       "array([[<matplotlib.axes._subplots.AxesSubplot object at 0x1a1cf653d0>,\n",
       "        <matplotlib.axes._subplots.AxesSubplot object at 0x1a1cf65750>,\n",
       "        <matplotlib.axes._subplots.AxesSubplot object at 0x1a1cfcfd50>,\n",
       "        <matplotlib.axes._subplots.AxesSubplot object at 0x1a1d010590>],\n",
       "       [<matplotlib.axes._subplots.AxesSubplot object at 0x1a1d045d90>,\n",
       "        <matplotlib.axes._subplots.AxesSubplot object at 0x1a1d0865d0>,\n",
       "        <matplotlib.axes._subplots.AxesSubplot object at 0x1a1d0b9dd0>,\n",
       "        <matplotlib.axes._subplots.AxesSubplot object at 0x1a1d0fa610>],\n",
       "       [<matplotlib.axes._subplots.AxesSubplot object at 0x1a1d106190>,\n",
       "        <matplotlib.axes._subplots.AxesSubplot object at 0x1a1d138b10>,\n",
       "        <matplotlib.axes._subplots.AxesSubplot object at 0x1a1d1a1e50>,\n",
       "        <matplotlib.axes._subplots.AxesSubplot object at 0x1a1d1e5690>],\n",
       "       [<matplotlib.axes._subplots.AxesSubplot object at 0x1a1d218e90>,\n",
       "        <matplotlib.axes._subplots.AxesSubplot object at 0x1a1d25b6d0>,\n",
       "        <matplotlib.axes._subplots.AxesSubplot object at 0x1a1d28ded0>,\n",
       "        <matplotlib.axes._subplots.AxesSubplot object at 0x1a223be710>]],\n",
       "      dtype=object)"
      ]
     },
     "execution_count": 60,
     "metadata": {},
     "output_type": "execute_result"
    },
    {
     "data": {
      "image/png": "[encoded data removed]",
      "text/plain": [
       "<Figure size 864x864 with 16 Axes>"
      ]
     },
     "metadata": {},
     "output_type": "display_data"
    }
   ],
   "source": [
    "data.hist(figsize=(12,12))"
   ]
  },
  {
   "cell_type": "markdown",
   "metadata": {},
   "source": [
    "In the above histograms i can see each feature having different distributions. Thus, using scaling before our predictions should be of great use for normalizing data within range and speeding up of calculations in an algorithm.\n",
    "\n",
    "Also, the categorical features do stand out.It's always a good practice to work with a dataset where the target classes are of approximately equal size. Thus, let's check for the same. "
   ]
  },
  {
   "cell_type": "markdown",
   "metadata": {},
   "source": [
    "## Univariate Data Analysis"
   ]
  },
  {
   "cell_type": "code",
   "execution_count": 61,
   "metadata": {},
   "outputs": [
    {
     "data": {
      "text/plain": [
       "<matplotlib.axes._subplots.AxesSubplot at 0x1a22454910>"
      ]
     },
     "execution_count": 61,
     "metadata": {},
     "output_type": "execute_result"
    },
    {
     "data": {
      "image/png": "[encoded data removed]",
      "text/plain": [
       "<Figure size 1440x360 with 1 Axes>"
      ]
     },
     "metadata": {},
     "output_type": "display_data"
    }
   ],
   "source": [
    "sns.set(rc={'figure.figsize':(20,5)})\n",
    "data['age'].plot.hist(bins = 15, color = 'skyblue')"
   ]
  },
  {
   "cell_type": "markdown",
   "metadata": {},
   "source": [
    "### Majority of people get heart attack around the age 55-65."
   ]
  },
  {
   "cell_type": "code",
   "execution_count": 62,
   "metadata": {
    "scrolled": true
   },
   "outputs": [
    {
     "data": {
      "text/plain": [
       "<matplotlib.axes._subplots.AxesSubplot at 0x1a22971350>"
      ]
     },
     "execution_count": 62,
     "metadata": {},
     "output_type": "execute_result"
    },
    {
     "data": {
      "image/png": "[encoded data removed]",
      "text/plain": [
       "<Figure size 1440x360 with 1 Axes>"
      ]
     },
     "metadata": {},
     "output_type": "display_data"
    }
   ],
   "source": [
    "sns.set(rc={'figure.figsize':(20,5)})\n",
    "data['chol'].plot.hist(bins = 15,color = 'pink')"
   ]
  },
  {
   "cell_type": "markdown",
   "metadata": {},
   "source": [
    "### The span of cholestrol in the case study , have an average value of 120-140."
   ]
  },
  {
   "cell_type": "code",
   "execution_count": 63,
   "metadata": {},
   "outputs": [
    {
     "data": {
      "text/plain": [
       "<matplotlib.axes._subplots.AxesSubplot at 0x1a22b401d0>"
      ]
     },
     "execution_count": 63,
     "metadata": {},
     "output_type": "execute_result"
    },
    {
     "data": {
      "image/png": "[encoded data removed]",
      "text/plain": [
       "<Figure size 1440x360 with 1 Axes>"
      ]
     },
     "metadata": {},
     "output_type": "display_data"
    }
   ],
   "source": [
    "data['trestbps'].plot.hist(bins = 15, color = 'grey')"
   ]
  },
  {
   "cell_type": "markdown",
   "metadata": {},
   "source": [
    "### The resting blood pressure lies between 120 - 140 at a frequency of 125 to 200 for the resting blood feature of the given data."
   ]
  },
  {
   "cell_type": "code",
   "execution_count": 64,
   "metadata": {},
   "outputs": [
    {
     "data": {
      "text/plain": [
       "<matplotlib.axes._subplots.AxesSubplot at 0x1a22d191d0>"
      ]
     },
     "execution_count": 64,
     "metadata": {},
     "output_type": "execute_result"
    },
    {
     "data": {
      "image/png": "[encoded data removed]",
      "text/plain": [
       "<Figure size 1440x360 with 1 Axes>"
      ]
     },
     "metadata": {},
     "output_type": "display_data"
    }
   ],
   "source": [
    "data['exang'].plot.hist(bins=15, color = 'purple')"
   ]
  },
  {
   "cell_type": "markdown",
   "metadata": {},
   "source": [
    "### The people who are suffering from exercise induced angina are half of the people who are not suffering from the exercise induced angina for the given dataset. As  the people who are suffering are less hence people affected with exercise induces angina may be less."
   ]
  },
  {
   "cell_type": "code",
   "execution_count": 160,
   "metadata": {},
   "outputs": [
    {
     "data": {
      "text/plain": [
       "<matplotlib.axes._subplots.AxesSubplot at 0x1a228e0b50>"
      ]
     },
     "execution_count": 160,
     "metadata": {},
     "output_type": "execute_result"
    },
    {
     "data": {
      "image/png": "[encoded data removed]",
      "text/plain": [
       "<Figure size 1080x576 with 1 Axes>"
      ]
     },
     "metadata": {},
     "output_type": "display_data"
    }
   ],
   "source": [
    "data['fbs'].plot.hist(bins=15, color = 'blue')"
   ]
  },
  {
   "cell_type": "markdown",
   "metadata": {},
   "source": [
    "People who are having fasting blood sugar less than 120 mg/dl are less than the people who are suffering from fasting blood sugar."
   ]
  },
  {
   "cell_type": "code",
   "execution_count": 65,
   "metadata": {},
   "outputs": [
    {
     "data": {
      "text/plain": [
       "<matplotlib.axes._subplots.AxesSubplot at 0x1a22f39f50>"
      ]
     },
     "execution_count": 65,
     "metadata": {},
     "output_type": "execute_result"
    },
    {
     "data": {
      "image/png": "[encoded data removed]",
      "text/plain": [
       "<Figure size 1440x360 with 1 Axes>"
      ]
     },
     "metadata": {},
     "output_type": "display_data"
    }
   ],
   "source": [
    "data['target'].plot.hist(bins = 8, color = 'lightcoral')"
   ]
  },
  {
   "cell_type": "markdown",
   "metadata": {},
   "source": [
    "### The two classes are not exactly 50% each but the ratio is good enough to continue without dropping/increasing our data. So these are told as balanced  data."
   ]
  },
  {
   "cell_type": "markdown",
   "metadata": {},
   "source": [
    "# Bivariate Analysis"
   ]
  },
  {
   "cell_type": "code",
   "execution_count": 66,
   "metadata": {},
   "outputs": [
    {
     "data": {
      "text/plain": [
       "<matplotlib.axes._subplots.AxesSubplot at 0x1a230d7250>"
      ]
     },
     "execution_count": 66,
     "metadata": {},
     "output_type": "execute_result"
    },
    {
     "data": {
      "image/png": "[encoded data removed]",
      "text/plain": [
       "<Figure size 1440x360 with 1 Axes>"
      ]
     },
     "metadata": {},
     "output_type": "display_data"
    }
   ],
   "source": [
    "sns.countplot(x = 'age',hue = 'cp', data = data, color = 'blue')"
   ]
  },
  {
   "cell_type": "markdown",
   "metadata": {},
   "source": [
    "### The type of chest pains vary from one age group to other age group . hence also varies from person to person.\n",
    "### The dependence of Chest pain on Age.\n",
    "As we can see ,\n",
    "    1. Type 0 was maximum at the age of 57 & 58.\n",
    "    2. Type 1 was maximum at an age of 41.\n",
    "    3. Type 2 was maximum at an age of 51.\n",
    "    4. Type 3 was maximum at an age of 59."
   ]
  },
  {
   "cell_type": "markdown",
   "metadata": {},
   "source": [
    "## The dependence of Fasting blood sugar on age"
   ]
  },
  {
   "cell_type": "code",
   "execution_count": 67,
   "metadata": {},
   "outputs": [
    {
     "data": {
      "text/plain": [
       "<matplotlib.axes._subplots.AxesSubplot at 0x1a23114410>"
      ]
     },
     "execution_count": 67,
     "metadata": {},
     "output_type": "execute_result"
    },
    {
     "data": {
      "image/png": "[encoded data removed]",
      "text/plain": [
       "<Figure size 1440x360 with 1 Axes>"
      ]
     },
     "metadata": {},
     "output_type": "display_data"
    }
   ],
   "source": [
    "sns.countplot(x = 'age',hue = 'fbs', data = data,palette=\"Set3\")"
   ]
  },
  {
   "cell_type": "markdown",
   "metadata": {},
   "source": [
    "In the above graph we can see that, people who are suffering from fasting blood sugar are comparatively less.\n",
    "      * People who are not suffering from fasting blood sugar will have fbs value below 120 mg/dl .\n",
    "      * People who are suffering from fasting blood sugar will have fbs value above 120 mg/dl .\n",
    "Hence, people who are between age of 51 to 60 are having fbs value above 120 mg/dl. Hence they are suffering more."
   ]
  },
  {
   "cell_type": "markdown",
   "metadata": {},
   "source": [
    "## The dependence of Exercise Induced Angina on age"
   ]
  },
  {
   "cell_type": "code",
   "execution_count": 68,
   "metadata": {},
   "outputs": [
    {
     "data": {
      "text/plain": [
       "<matplotlib.axes._subplots.AxesSubplot at 0x1a23113c10>"
      ]
     },
     "execution_count": 68,
     "metadata": {},
     "output_type": "execute_result"
    },
    {
     "data": {
      "image/png": "[encoded data removed]",
      "text/plain": [
       "<Figure size 1440x360 with 1 Axes>"
      ]
     },
     "metadata": {},
     "output_type": "display_data"
    }
   ],
   "source": [
    "sns.countplot(x = 'age',hue = 'exang', data = data ,palette=\"gray\")"
   ]
  },
  {
   "cell_type": "markdown",
   "metadata": {},
   "source": [
    "The number of people who suffered from exercise induced angina are from the early ages to declining ages . \n",
    "hence people who suffered maximum are between the age group of 51 - 60. \n",
    "\n",
    "- The people who suffered maximum exercise induced angina was at age  57 and also the people who suffered minimum exercise induced angina was at age 41,50,68,74 and 77 too.\n",
    "\n",
    "- Also,some people have not put up with exercise induced angina problem."
   ]
  },
  {
   "cell_type": "markdown",
   "metadata": {},
   "source": [
    "## The dependence of result of ST Slope on age."
   ]
  },
  {
   "cell_type": "code",
   "execution_count": 69,
   "metadata": {},
   "outputs": [
    {
     "data": {
      "text/plain": [
       "<matplotlib.axes._subplots.AxesSubplot at 0x1a23873d90>"
      ]
     },
     "execution_count": 69,
     "metadata": {},
     "output_type": "execute_result"
    },
    {
     "data": {
      "image/png": "[encoded data removed]",
      "text/plain": [
       "<Figure size 1440x360 with 1 Axes>"
      ]
     },
     "metadata": {},
     "output_type": "display_data"
    }
   ],
   "source": [
    "sns.countplot(x = 'age',hue = 'slope', data = data, color = \"green\")"
   ]
  },
  {
   "cell_type": "markdown",
   "metadata": {},
   "source": [
    "These are three types.\n",
    "     1. Upsloping = 0  better heart rate with excercise (uncommon)\n",
    "     2. flat = 1  minimal change (typical healthy heart)\n",
    "     3. Downsloping =2 signs of unhealthy heart\n",
    "- The people who are having upsloping are more between age group of 53 - 59 and minimum at age of 37,46,54,63,66.\n",
    "- the people who are suffering from flat sloping are more at a age group of 50 to 67 and minimum at an age of 76.\n",
    "- the people who are suffering from downsloping are maximum at the age of 52 and 58 and minimum was at 37,68,69,70,74,77."
   ]
  },
  {
   "cell_type": "markdown",
   "metadata": {},
   "source": [
    "### The dependence of result of Target on age."
   ]
  },
  {
   "cell_type": "code",
   "execution_count": 70,
   "metadata": {},
   "outputs": [
    {
     "data": {
      "text/plain": [
       "<matplotlib.axes._subplots.AxesSubplot at 0x1a23f0af90>"
      ]
     },
     "execution_count": 70,
     "metadata": {},
     "output_type": "execute_result"
    },
    {
     "data": {
      "image/png": "[encoded data removed]",
      "text/plain": [
       "<Figure size 1440x360 with 1 Axes>"
      ]
     },
     "metadata": {},
     "output_type": "display_data"
    }
   ],
   "source": [
    "sns.countplot(x = 'age',hue = 'target', data = data, palette = 'copper_r')"
   ]
  },
  {
   "cell_type": "markdown",
   "metadata": {},
   "source": [
    "The number of people who are not suffering are more than people who are suffering from heart diseases.\n",
    "- hence the the people who are suffering from heart diseases are more at a age group of 50 to 65.\n",
    "- The people who are not suffering from heart diseases are more at a age group of 40-66."
   ]
  },
  {
   "cell_type": "markdown",
   "metadata": {},
   "source": [
    "## 3. Visualize data to help detect relevant relationships between variables/columns "
   ]
  },
  {
   "cell_type": "code",
   "execution_count": 71,
   "metadata": {},
   "outputs": [
    {
     "data": {
      "text/plain": [
       "<matplotlib.axes._subplots.AxesSubplot at 0x1a24187510>"
      ]
     },
     "execution_count": 71,
     "metadata": {},
     "output_type": "execute_result"
    },
    {
     "data": {
      "image/png": "[encoded data removed]",
      "text/plain": [
       "<Figure size 1440x360 with 1 Axes>"
      ]
     },
     "metadata": {},
     "output_type": "display_data"
    }
   ],
   "source": [
    "sns.barplot(data[\"sex\"],data[\"target\"],palette = 'Blues')"
   ]
  },
  {
   "cell_type": "markdown",
   "metadata": {},
   "source": [
    "### We notice, that males are more likely to have heart problems than females."
   ]
  },
  {
   "cell_type": "markdown",
   "metadata": {},
   "source": [
    "## Heart Disease Frequency for male and female"
   ]
  },
  {
   "cell_type": "code",
   "execution_count": 72,
   "metadata": {},
   "outputs": [
    {
     "data": {
      "image/png": "[encoded data removed]",
      "text/plain": [
       "<Figure size 432x432 with 1 Axes>"
      ]
     },
     "metadata": {},
     "output_type": "display_data"
    }
   ],
   "source": [
    "pd.crosstab(data.sex,data.target).plot(kind=\"bar\",figsize=(6,6),color=['skyblue','pink'])\n",
    "plt.title('Heart Disease Frequency for Sex')\n",
    "plt.xlabel('Sex (0 = Female, 1 = Male)')\n",
    "plt.xticks(rotation=0)\n",
    "plt.legend([\"Haven't Disease\", \"Have Disease\"])\n",
    "plt.ylabel('Frequency')\n",
    "plt.show()"
   ]
  },
  {
   "cell_type": "markdown",
   "metadata": {},
   "source": [
    "So from the above graph we can clearly see that females are having less heart diseases than male. In female graph, no of female with heart diseases are more than no of female having no heart diseases.In male graph, no of male with heart diseases are less than no of male having no heart diseases."
   ]
  },
  {
   "cell_type": "markdown",
   "metadata": {},
   "source": [
    "## Thalassemia vs cholesterol"
   ]
  },
  {
   "cell_type": "code",
   "execution_count": 73,
   "metadata": {},
   "outputs": [
    {
     "data": {
      "image/png": "[encoded data removed]",
      "text/plain": [
       "<Figure size 576x432 with 1 Axes>"
      ]
     },
     "metadata": {},
     "output_type": "display_data"
    }
   ],
   "source": [
    "plt.figure(figsize=(8,6))\n",
    "sns.scatterplot(x='thal',y='chol',data=data,hue='target')\n",
    "plt.show()"
   ]
  },
  {
   "cell_type": "markdown",
   "metadata": {},
   "source": [
    "With the rise of the cholestrol the rate of thalasemia also increases from person to person."
   ]
  },
  {
   "cell_type": "markdown",
   "metadata": {},
   "source": [
    "# Thalassemia vs resting blood sugar"
   ]
  },
  {
   "cell_type": "code",
   "execution_count": 74,
   "metadata": {},
   "outputs": [
    {
     "data": {
      "image/png": "[encoded data removed]",
      "text/plain": [
       "<Figure size 576x432 with 1 Axes>"
      ]
     },
     "metadata": {},
     "output_type": "display_data"
    }
   ],
   "source": [
    "plt.figure(figsize=(8,6))\n",
    "sns.barplot(x='thal',y='trestbps',data=data,hue='target',palette='Blues')\n",
    "plt.show()"
   ]
  },
  {
   "cell_type": "markdown",
   "metadata": {},
   "source": [
    "Here it shows that thalassemia is of 4 types . \n",
    "- The number of people who are suffering from type 0 are equal to number of people who are not suffering.\n",
    "- The number of persons suffering type 1, type 2 and type 3 are less than the number of persons who are not suffering.\n",
    "- hence we can notice that with the rise in the trestbps the thalassemia also increases."
   ]
  },
  {
   "cell_type": "markdown",
   "metadata": {},
   "source": [
    "# Major vessels vs cholestrol"
   ]
  },
  {
   "cell_type": "code",
   "execution_count": 158,
   "metadata": {},
   "outputs": [
    {
     "data": {
      "image/png": "[encoded data removed]",
      "text/plain": [
       "<Figure size 360x360 with 1 Axes>"
      ]
     },
     "metadata": {},
     "output_type": "display_data"
    }
   ],
   "source": [
    "plt.figure(figsize=(5,5))\n",
    "sns.barplot(data[\"ca\"],data[\"chol\"],palette = 'ocean')\n",
    "plt.show()"
   ]
  },
  {
   "cell_type": "markdown",
   "metadata": {},
   "source": [
    "In the above graph we can clearly see that,if the cholestral is more then the ca(Number of major vessels (0-3) colored by Flouroscopy ) is also more"
   ]
  },
  {
   "cell_type": "markdown",
   "metadata": {},
   "source": [
    "# Target vs Cholestrol"
   ]
  },
  {
   "cell_type": "code",
   "execution_count": 76,
   "metadata": {},
   "outputs": [
    {
     "data": {
      "image/png": "[encoded data removed]",
      "text/plain": [
       "<Figure size 432x432 with 1 Axes>"
      ]
     },
     "metadata": {},
     "output_type": "display_data"
    }
   ],
   "source": [
    "plt.figure(figsize=(6,6))\n",
    "sns.barplot(data[\"target\"],data[\"chol\"],palette='Blues')\n",
    "plt.show()"
   ]
  },
  {
   "cell_type": "markdown",
   "metadata": {},
   "source": [
    "People who are not having cholestrol are more than people who are having cholestrol."
   ]
  },
  {
   "cell_type": "markdown",
   "metadata": {},
   "source": [
    "# Sex vs Cholestrol"
   ]
  },
  {
   "cell_type": "code",
   "execution_count": 157,
   "metadata": {},
   "outputs": [
    {
     "data": {
      "image/png": "[encoded data removed]",
      "text/plain": [
       "<Figure size 432x432 with 1 Axes>"
      ]
     },
     "metadata": {},
     "output_type": "display_data"
    }
   ],
   "source": [
    "plt.figure(figsize=(6,6))\n",
    "sns.barplot(data[\"sex\"],data[\"chol\"],palette='Blues')\n",
    "plt.show()"
   ]
  },
  {
   "cell_type": "markdown",
   "metadata": {},
   "source": [
    "No of Male having cholestrol are more than no of female. "
   ]
  },
  {
   "cell_type": "markdown",
   "metadata": {},
   "source": [
    "#   Target vs Exang"
   ]
  },
  {
   "cell_type": "code",
   "execution_count": 78,
   "metadata": {},
   "outputs": [
    {
     "data": {
      "image/png": "[encoded data removed]",
      "text/plain": [
       "<Figure size 432x432 with 1 Axes>"
      ]
     },
     "metadata": {},
     "output_type": "display_data"
    }
   ],
   "source": [
    "plt.figure(figsize=(6,6))\n",
    "sns.barplot(data[\"target\"],data[\"exang\"],palette='Blues')\n",
    "plt.show()"
   ]
  },
  {
   "cell_type": "markdown",
   "metadata": {},
   "source": [
    "people who are having exercise induced angina are very less."
   ]
  },
  {
   "cell_type": "markdown",
   "metadata": {},
   "source": [
    "# Target vs Oldpeak"
   ]
  },
  {
   "cell_type": "code",
   "execution_count": 79,
   "metadata": {},
   "outputs": [
    {
     "data": {
      "image/png": "[encoded data removed]",
      "text/plain": [
       "<Figure size 576x432 with 1 Axes>"
      ]
     },
     "metadata": {},
     "output_type": "display_data"
    }
   ],
   "source": [
    "plt.figure(figsize=(8,6))\n",
    "sns.barplot(data[\"target\"],data[\"oldpeak\"],palette='ocean')\n",
    "plt.show()"
   ]
  },
  {
   "cell_type": "markdown",
   "metadata": {},
   "source": [
    "People not suffering from ST depression induced by exercise relative to rest are more than people suffering from ST depression induced by exercise relative to rest"
   ]
  },
  {
   "cell_type": "markdown",
   "metadata": {},
   "source": [
    "## chol vs Old peak"
   ]
  },
  {
   "cell_type": "code",
   "execution_count": 80,
   "metadata": {},
   "outputs": [
    {
     "data": {
      "image/png": "[encoded data removed]",
      "text/plain": [
       "<Figure size 576x432 with 1 Axes>"
      ]
     },
     "metadata": {},
     "output_type": "display_data"
    }
   ],
   "source": [
    "plt.figure(figsize=(8,6))\n",
    "sns.scatterplot(x='oldpeak',y='chol',data=data,hue='target',palette='pink')\n",
    "plt.show()"
   ]
  },
  {
   "cell_type": "markdown",
   "metadata": {},
   "source": [
    "People suffering from cholestrol between 200 to 300 are also suffering from the old peak."
   ]
  },
  {
   "cell_type": "markdown",
   "metadata": {},
   "source": [
    "## Fasting Blood sugar Data"
   ]
  },
  {
   "cell_type": "code",
   "execution_count": 81,
   "metadata": {},
   "outputs": [
    {
     "data": {
      "image/png": "[encoded data removed]",
      "text/plain": [
       "<Figure size 432x432 with 1 Axes>"
      ]
     },
     "metadata": {},
     "output_type": "display_data"
    }
   ],
   "source": [
    "pd.crosstab(data.fbs,data.target).plot(kind=\"bar\",figsize=(6,6),color=['pink','skyblue'])\n",
    "plt.title(\"Heart disease according to FBS\")\n",
    "plt.xlabel('FBS- (Fasting Blood Sugar > 120 mg/dl) (1 = female; 0 = male)')\n",
    "plt.xticks(rotation=90)\n",
    "plt.legend([\"Have no Disease\", \"Have Disease\"])\n",
    "plt.ylabel('Disease or not')\n",
    "plt.show()"
   ]
  },
  {
   "cell_type": "markdown",
   "metadata": {},
   "source": [
    "The overall graphical analysis shows that females tend to suffer less from heart attack and that men have a higher chances of getting struck by a heart attack.\n",
    "Men don't have a defined age span that they are safe from heart attack. Men below 30 also suffered from heart attack which wasn't the case with women. This shows men have to be more careful with their health conditions and situations."
   ]
  },
  {
   "cell_type": "markdown",
   "metadata": {},
   "source": [
    "# Machine Learning"
   ]
  },
  {
   "cell_type": "markdown",
   "metadata": {},
   "source": [
    "Let us now import train_test_split to split our dataset into training and testing datasets. Then, I'll import all Machine Learning models I'll be using to train and test the data."
   ]
  },
  {
   "cell_type": "markdown",
   "metadata": {},
   "source": [
    "1. Split the dataset into input and output--> Train and test\n",
    "2. Train--> Building the model\n",
    "3. Test--> How well the model has learnt(Generaize on unseen data)"
   ]
  },
  {
   "cell_type": "code",
   "execution_count": 82,
   "metadata": {},
   "outputs": [
    {
     "data": {
      "text/html": [
       "<div>\n",
       "<style scoped>\n",
       "    .dataframe tbody tr th:only-of-type {\n",
       "        vertical-align: middle;\n",
       "    }\n",
       "\n",
       "    .dataframe tbody tr th {\n",
       "        vertical-align: top;\n",
       "    }\n",
       "\n",
       "    .dataframe thead th {\n",
       "        text-align: right;\n",
       "    }\n",
       "</style>\n",
       "<table border=\"1\" class=\"dataframe\">\n",
       "  <thead>\n",
       "    <tr style=\"text-align: right;\">\n",
       "      <th></th>\n",
       "      <th>age</th>\n",
       "      <th>sex</th>\n",
       "      <th>cp</th>\n",
       "      <th>trestbps</th>\n",
       "      <th>chol</th>\n",
       "      <th>fbs</th>\n",
       "      <th>restecg</th>\n",
       "      <th>thalach</th>\n",
       "      <th>exang</th>\n",
       "      <th>oldpeak</th>\n",
       "      <th>slope</th>\n",
       "      <th>ca</th>\n",
       "      <th>thal</th>\n",
       "    </tr>\n",
       "  </thead>\n",
       "  <tbody>\n",
       "    <tr>\n",
       "      <th>0</th>\n",
       "      <td>52</td>\n",
       "      <td>1</td>\n",
       "      <td>0</td>\n",
       "      <td>125</td>\n",
       "      <td>212</td>\n",
       "      <td>0</td>\n",
       "      <td>1</td>\n",
       "      <td>168</td>\n",
       "      <td>0</td>\n",
       "      <td>1.0</td>\n",
       "      <td>2</td>\n",
       "      <td>2</td>\n",
       "      <td>3</td>\n",
       "    </tr>\n",
       "    <tr>\n",
       "      <th>1</th>\n",
       "      <td>53</td>\n",
       "      <td>1</td>\n",
       "      <td>0</td>\n",
       "      <td>140</td>\n",
       "      <td>203</td>\n",
       "      <td>1</td>\n",
       "      <td>0</td>\n",
       "      <td>155</td>\n",
       "      <td>1</td>\n",
       "      <td>3.1</td>\n",
       "      <td>0</td>\n",
       "      <td>0</td>\n",
       "      <td>3</td>\n",
       "    </tr>\n",
       "    <tr>\n",
       "      <th>2</th>\n",
       "      <td>70</td>\n",
       "      <td>1</td>\n",
       "      <td>0</td>\n",
       "      <td>145</td>\n",
       "      <td>174</td>\n",
       "      <td>0</td>\n",
       "      <td>1</td>\n",
       "      <td>125</td>\n",
       "      <td>1</td>\n",
       "      <td>2.6</td>\n",
       "      <td>0</td>\n",
       "      <td>0</td>\n",
       "      <td>3</td>\n",
       "    </tr>\n",
       "    <tr>\n",
       "      <th>3</th>\n",
       "      <td>61</td>\n",
       "      <td>1</td>\n",
       "      <td>0</td>\n",
       "      <td>148</td>\n",
       "      <td>203</td>\n",
       "      <td>0</td>\n",
       "      <td>1</td>\n",
       "      <td>161</td>\n",
       "      <td>0</td>\n",
       "      <td>0.0</td>\n",
       "      <td>2</td>\n",
       "      <td>1</td>\n",
       "      <td>3</td>\n",
       "    </tr>\n",
       "    <tr>\n",
       "      <th>4</th>\n",
       "      <td>62</td>\n",
       "      <td>0</td>\n",
       "      <td>0</td>\n",
       "      <td>138</td>\n",
       "      <td>294</td>\n",
       "      <td>1</td>\n",
       "      <td>1</td>\n",
       "      <td>106</td>\n",
       "      <td>0</td>\n",
       "      <td>1.9</td>\n",
       "      <td>1</td>\n",
       "      <td>3</td>\n",
       "      <td>2</td>\n",
       "    </tr>\n",
       "  </tbody>\n",
       "</table>\n",
       "</div>"
      ],
      "text/plain": [
       "   age  sex  cp  trestbps  chol  fbs  restecg  thalach  exang  oldpeak  slope  \\\n",
       "0   52    1   0       125   212    0        1      168      0      1.0      2   \n",
       "1   53    1   0       140   203    1        0      155      1      3.1      0   \n",
       "2   70    1   0       145   174    0        1      125      1      2.6      0   \n",
       "3   61    1   0       148   203    0        1      161      0      0.0      2   \n",
       "4   62    0   0       138   294    1        1      106      0      1.9      1   \n",
       "\n",
       "   ca  thal  \n",
       "0   2     3  \n",
       "1   0     3  \n",
       "2   0     3  \n",
       "3   1     3  \n",
       "4   3     2  "
      ]
     },
     "execution_count": 82,
     "metadata": {},
     "output_type": "execute_result"
    }
   ],
   "source": [
    "# Preparing Input and Output\n",
    "X = data.drop(['target'], axis=1)\n",
    "X.head()"
   ]
  },
  {
   "cell_type": "code",
   "execution_count": 83,
   "metadata": {},
   "outputs": [],
   "source": [
    "#Now let us access the output column"
   ]
  },
  {
   "cell_type": "code",
   "execution_count": 84,
   "metadata": {},
   "outputs": [
    {
     "data": {
      "text/plain": [
       "0    0\n",
       "1    0\n",
       "2    0\n",
       "3    0\n",
       "4    0\n",
       "Name: target, dtype: int64"
      ]
     },
     "execution_count": 84,
     "metadata": {},
     "output_type": "execute_result"
    }
   ],
   "source": [
    "y = data.target\n",
    "y.head()"
   ]
  },
  {
   "cell_type": "markdown",
   "metadata": {},
   "source": [
    "### Preparing Training and Testing Data\n",
    " Storing 70% of the data into training and remaining 30% of the data into testing"
   ]
  },
  {
   "cell_type": "code",
   "execution_count": 85,
   "metadata": {},
   "outputs": [],
   "source": [
    "# Preparing Training and Testing Data\n",
    "# Storing 70% of the data into training and remaining 30% of the data into testing\n",
    "from sklearn.model_selection import train_test_split\n",
    "X_train, X_test, y_train, y_test = train_test_split(X, y, test_size=0.30, \n",
    "                                                    random_state=2)"
   ]
  },
  {
   "cell_type": "code",
   "execution_count": 86,
   "metadata": {},
   "outputs": [
    {
     "name": "stdout",
     "output_type": "stream",
     "text": [
      "(717, 13)\n",
      "(308, 13)\n",
      "(717,)\n",
      "(308,)\n"
     ]
    },
    {
     "data": {
      "text/html": [
       "<div>\n",
       "<style scoped>\n",
       "    .dataframe tbody tr th:only-of-type {\n",
       "        vertical-align: middle;\n",
       "    }\n",
       "\n",
       "    .dataframe tbody tr th {\n",
       "        vertical-align: top;\n",
       "    }\n",
       "\n",
       "    .dataframe thead th {\n",
       "        text-align: right;\n",
       "    }\n",
       "</style>\n",
       "<table border=\"1\" class=\"dataframe\">\n",
       "  <thead>\n",
       "    <tr style=\"text-align: right;\">\n",
       "      <th></th>\n",
       "      <th>age</th>\n",
       "      <th>sex</th>\n",
       "      <th>cp</th>\n",
       "      <th>trestbps</th>\n",
       "      <th>chol</th>\n",
       "      <th>fbs</th>\n",
       "      <th>restecg</th>\n",
       "      <th>thalach</th>\n",
       "      <th>exang</th>\n",
       "      <th>oldpeak</th>\n",
       "      <th>slope</th>\n",
       "      <th>ca</th>\n",
       "      <th>thal</th>\n",
       "    </tr>\n",
       "  </thead>\n",
       "  <tbody>\n",
       "    <tr>\n",
       "      <th>402</th>\n",
       "      <td>70</td>\n",
       "      <td>1</td>\n",
       "      <td>1</td>\n",
       "      <td>156</td>\n",
       "      <td>245</td>\n",
       "      <td>0</td>\n",
       "      <td>0</td>\n",
       "      <td>143</td>\n",
       "      <td>0</td>\n",
       "      <td>0.0</td>\n",
       "      <td>2</td>\n",
       "      <td>0</td>\n",
       "      <td>2</td>\n",
       "    </tr>\n",
       "    <tr>\n",
       "      <th>581</th>\n",
       "      <td>44</td>\n",
       "      <td>1</td>\n",
       "      <td>2</td>\n",
       "      <td>140</td>\n",
       "      <td>235</td>\n",
       "      <td>0</td>\n",
       "      <td>0</td>\n",
       "      <td>180</td>\n",
       "      <td>0</td>\n",
       "      <td>0.0</td>\n",
       "      <td>2</td>\n",
       "      <td>0</td>\n",
       "      <td>2</td>\n",
       "    </tr>\n",
       "    <tr>\n",
       "      <th>557</th>\n",
       "      <td>48</td>\n",
       "      <td>1</td>\n",
       "      <td>0</td>\n",
       "      <td>122</td>\n",
       "      <td>222</td>\n",
       "      <td>0</td>\n",
       "      <td>0</td>\n",
       "      <td>186</td>\n",
       "      <td>0</td>\n",
       "      <td>0.0</td>\n",
       "      <td>2</td>\n",
       "      <td>0</td>\n",
       "      <td>2</td>\n",
       "    </tr>\n",
       "    <tr>\n",
       "      <th>633</th>\n",
       "      <td>61</td>\n",
       "      <td>1</td>\n",
       "      <td>0</td>\n",
       "      <td>138</td>\n",
       "      <td>166</td>\n",
       "      <td>0</td>\n",
       "      <td>0</td>\n",
       "      <td>125</td>\n",
       "      <td>1</td>\n",
       "      <td>3.6</td>\n",
       "      <td>1</td>\n",
       "      <td>1</td>\n",
       "      <td>2</td>\n",
       "    </tr>\n",
       "    <tr>\n",
       "      <th>819</th>\n",
       "      <td>58</td>\n",
       "      <td>0</td>\n",
       "      <td>0</td>\n",
       "      <td>170</td>\n",
       "      <td>225</td>\n",
       "      <td>1</td>\n",
       "      <td>0</td>\n",
       "      <td>146</td>\n",
       "      <td>1</td>\n",
       "      <td>2.8</td>\n",
       "      <td>1</td>\n",
       "      <td>2</td>\n",
       "      <td>1</td>\n",
       "    </tr>\n",
       "    <tr>\n",
       "      <th>...</th>\n",
       "      <td>...</td>\n",
       "      <td>...</td>\n",
       "      <td>...</td>\n",
       "      <td>...</td>\n",
       "      <td>...</td>\n",
       "      <td>...</td>\n",
       "      <td>...</td>\n",
       "      <td>...</td>\n",
       "      <td>...</td>\n",
       "      <td>...</td>\n",
       "      <td>...</td>\n",
       "      <td>...</td>\n",
       "      <td>...</td>\n",
       "    </tr>\n",
       "    <tr>\n",
       "      <th>299</th>\n",
       "      <td>52</td>\n",
       "      <td>1</td>\n",
       "      <td>1</td>\n",
       "      <td>120</td>\n",
       "      <td>325</td>\n",
       "      <td>0</td>\n",
       "      <td>1</td>\n",
       "      <td>172</td>\n",
       "      <td>0</td>\n",
       "      <td>0.2</td>\n",
       "      <td>2</td>\n",
       "      <td>0</td>\n",
       "      <td>2</td>\n",
       "    </tr>\n",
       "    <tr>\n",
       "      <th>534</th>\n",
       "      <td>54</td>\n",
       "      <td>0</td>\n",
       "      <td>2</td>\n",
       "      <td>108</td>\n",
       "      <td>267</td>\n",
       "      <td>0</td>\n",
       "      <td>0</td>\n",
       "      <td>167</td>\n",
       "      <td>0</td>\n",
       "      <td>0.0</td>\n",
       "      <td>2</td>\n",
       "      <td>0</td>\n",
       "      <td>2</td>\n",
       "    </tr>\n",
       "    <tr>\n",
       "      <th>584</th>\n",
       "      <td>55</td>\n",
       "      <td>1</td>\n",
       "      <td>0</td>\n",
       "      <td>132</td>\n",
       "      <td>353</td>\n",
       "      <td>0</td>\n",
       "      <td>1</td>\n",
       "      <td>132</td>\n",
       "      <td>1</td>\n",
       "      <td>1.2</td>\n",
       "      <td>1</td>\n",
       "      <td>1</td>\n",
       "      <td>3</td>\n",
       "    </tr>\n",
       "    <tr>\n",
       "      <th>493</th>\n",
       "      <td>55</td>\n",
       "      <td>1</td>\n",
       "      <td>0</td>\n",
       "      <td>132</td>\n",
       "      <td>353</td>\n",
       "      <td>0</td>\n",
       "      <td>1</td>\n",
       "      <td>132</td>\n",
       "      <td>1</td>\n",
       "      <td>1.2</td>\n",
       "      <td>1</td>\n",
       "      <td>1</td>\n",
       "      <td>3</td>\n",
       "    </tr>\n",
       "    <tr>\n",
       "      <th>527</th>\n",
       "      <td>62</td>\n",
       "      <td>0</td>\n",
       "      <td>0</td>\n",
       "      <td>124</td>\n",
       "      <td>209</td>\n",
       "      <td>0</td>\n",
       "      <td>1</td>\n",
       "      <td>163</td>\n",
       "      <td>0</td>\n",
       "      <td>0.0</td>\n",
       "      <td>2</td>\n",
       "      <td>0</td>\n",
       "      <td>2</td>\n",
       "    </tr>\n",
       "  </tbody>\n",
       "</table>\n",
       "<p>717 rows × 13 columns</p>\n",
       "</div>"
      ],
      "text/plain": [
       "     age  sex  cp  trestbps  chol  fbs  restecg  thalach  exang  oldpeak  \\\n",
       "402   70    1   1       156   245    0        0      143      0      0.0   \n",
       "581   44    1   2       140   235    0        0      180      0      0.0   \n",
       "557   48    1   0       122   222    0        0      186      0      0.0   \n",
       "633   61    1   0       138   166    0        0      125      1      3.6   \n",
       "819   58    0   0       170   225    1        0      146      1      2.8   \n",
       "..   ...  ...  ..       ...   ...  ...      ...      ...    ...      ...   \n",
       "299   52    1   1       120   325    0        1      172      0      0.2   \n",
       "534   54    0   2       108   267    0        0      167      0      0.0   \n",
       "584   55    1   0       132   353    0        1      132      1      1.2   \n",
       "493   55    1   0       132   353    0        1      132      1      1.2   \n",
       "527   62    0   0       124   209    0        1      163      0      0.0   \n",
       "\n",
       "     slope  ca  thal  \n",
       "402      2   0     2  \n",
       "581      2   0     2  \n",
       "557      2   0     2  \n",
       "633      1   1     2  \n",
       "819      1   2     1  \n",
       "..     ...  ..   ...  \n",
       "299      2   0     2  \n",
       "534      2   0     2  \n",
       "584      1   1     3  \n",
       "493      1   1     3  \n",
       "527      2   0     2  \n",
       "\n",
       "[717 rows x 13 columns]"
      ]
     },
     "execution_count": 86,
     "metadata": {},
     "output_type": "execute_result"
    }
   ],
   "source": [
    "print(X_train.shape)\n",
    "print(X_test.shape)\n",
    "print(y_train.shape)\n",
    "print(y_test.shape)\n",
    "X_train"
   ]
  },
  {
   "cell_type": "markdown",
   "metadata": {},
   "source": [
    "# Logistic regression"
   ]
  },
  {
   "cell_type": "markdown",
   "metadata": {},
   "source": [
    "Logistic regression is used to describe data and to explain the relationship between one dependent binary variable and one or more nominal, ordinal, interval or ratio-level independent variables."
   ]
  },
  {
   "cell_type": "code",
   "execution_count": 87,
   "metadata": {},
   "outputs": [
    {
     "data": {
      "text/plain": [
       "LogisticRegression(C=1.0, class_weight=None, dual=False, fit_intercept=True,\n",
       "                   intercept_scaling=1, l1_ratio=None, max_iter=100,\n",
       "                   multi_class='auto', n_jobs=None, penalty='l2',\n",
       "                   random_state=None, solver='lbfgs', tol=0.0001, verbose=0,\n",
       "                   warm_start=False)"
      ]
     },
     "execution_count": 87,
     "metadata": {},
     "output_type": "execute_result"
    }
   ],
   "source": [
    "# Build the classifier on training data\n",
    "# Sklearn library: import, instantiate, fit\n",
    "from sklearn.linear_model import LogisticRegression\n",
    "reg = LogisticRegression()  # Creating object for Logistic Regression class\n",
    "reg.fit(X_train, y_train) # Input and Output will be passed to the fit method"
   ]
  },
  {
   "cell_type": "code",
   "execution_count": 88,
   "metadata": {},
   "outputs": [
    {
     "data": {
      "text/plain": [
       "array([1, 1, 1, 0, 0, 1, 1, 1, 0, 0, 0, 0, 1, 0, 0, 1, 0, 0, 1, 0, 0, 0,\n",
       "       1, 1, 0, 1, 1, 1, 0, 0, 1, 0, 1, 1, 1, 1, 1, 0, 1, 0, 1, 1, 0, 1,\n",
       "       0, 1, 1, 1, 0, 0, 0, 0, 1, 0, 1, 1, 0, 1, 0, 1, 1, 0, 0, 1, 1, 0,\n",
       "       0, 1, 1, 1, 0, 0, 0, 1, 0, 0, 1, 1, 1, 1, 0, 0, 0, 1, 0, 0, 1, 0,\n",
       "       0, 1, 1, 0, 0, 0, 1, 1, 1, 1, 0, 1, 1, 0, 0, 0, 1, 1, 1, 0, 1, 0,\n",
       "       0, 1, 1, 1, 1, 0, 0, 1, 0, 1, 0, 0, 1, 1, 1, 1, 1, 1, 0, 0, 0, 0,\n",
       "       1, 1, 1, 1, 1, 1, 1, 0, 1, 1, 0, 1, 1, 1, 1, 0, 0, 0, 0, 0, 0, 0,\n",
       "       1, 1, 1, 1, 0, 0, 1, 1, 0, 1, 1, 0, 0, 0, 1, 0, 0, 1, 0, 1, 1, 1,\n",
       "       1, 1, 1, 0, 1, 1, 1, 1, 0, 0, 0, 1, 1, 1, 1, 0, 1, 0, 0, 1, 1, 1,\n",
       "       0, 1, 1, 1, 0, 1, 1, 0, 0, 1, 0, 0, 0, 1, 0, 0, 0, 0, 1, 0, 1, 0,\n",
       "       0, 1, 1, 0, 0, 1, 1, 1, 1, 1, 0, 0, 1, 1, 0, 1, 1, 1, 1, 0, 0, 1,\n",
       "       1, 0, 1, 1, 0, 1, 0, 1, 1, 1, 0, 1, 1, 1, 1, 0, 1, 1, 1, 0, 1, 1,\n",
       "       1, 1, 0, 0, 1, 1, 1, 0, 1, 1, 1, 1, 0, 1, 0, 0, 1, 1, 0, 0, 0, 0,\n",
       "       0, 0, 1, 1, 1, 0, 1, 1, 0, 0, 0, 0, 0, 1, 0, 1, 1, 1, 0, 0, 1, 1,\n",
       "       0, 1, 1, 1, 1, 0, 1, 0, 1, 1, 1, 1, 0, 1, 0, 1, 1, 1, 0, 0, 0, 0,\n",
       "       1, 1, 0, 0, 0, 0, 1, 0, 0, 0, 1, 1, 1, 1, 1, 1, 1, 1, 1, 0, 1, 1,\n",
       "       1, 1, 0, 0, 0, 0, 1, 1, 0, 0, 0, 0, 1, 0, 1, 0, 1, 1, 1, 0, 0, 0,\n",
       "       1, 1, 0, 0, 1, 1, 1, 0, 0, 1, 0, 0, 0, 0, 1, 1, 1, 0, 0, 1, 0, 0,\n",
       "       0, 1, 0, 1, 1, 1, 0, 1, 0, 0, 0, 0, 1, 1, 0, 1, 1, 1, 0, 1, 1, 1,\n",
       "       0, 1, 1, 1, 0, 1, 1, 1, 1, 1, 1, 1, 0, 1, 1, 1, 0, 0, 1, 1, 1, 1,\n",
       "       0, 0, 1, 0, 0, 1, 1, 1, 1, 0, 0, 1, 0, 0, 1, 1, 1, 1, 1, 0, 1, 0,\n",
       "       0, 1, 1, 0, 1, 1, 1, 1, 1, 0, 1, 1, 0, 0, 0, 1, 1, 1, 0, 1, 1, 0,\n",
       "       1, 1, 1, 0, 1, 1, 0, 1, 1, 0, 0, 1, 1, 1, 0, 0, 1, 1, 1, 0, 1, 1,\n",
       "       1, 1, 1, 1, 1, 1, 0, 0, 0, 0, 1, 0, 1, 0, 1, 1, 1, 0, 1, 0, 1, 0,\n",
       "       0, 0, 0, 0, 1, 0, 1, 1, 0, 1, 1, 1, 1, 0, 1, 1, 1, 1, 1, 1, 1, 0,\n",
       "       0, 0, 1, 1, 0, 1, 1, 1, 1, 0, 1, 1, 0, 1, 1, 1, 1, 1, 0, 0, 0, 0,\n",
       "       1, 0, 1, 1, 1, 0, 1, 1, 1, 1, 0, 1, 1, 1, 1, 0, 1, 1, 1, 0, 1, 0,\n",
       "       0, 0, 1, 1, 0, 0, 1, 0, 1, 0, 1, 1, 1, 0, 0, 0, 1, 0, 1, 0, 1, 1,\n",
       "       1, 1, 1, 1, 0, 1, 1, 1, 1, 1, 1, 1, 1, 0, 0, 1, 1, 0, 0, 0, 1, 1,\n",
       "       1, 0, 0, 0, 1, 1, 1, 0, 0, 0, 1, 1, 1, 1, 1, 1, 1, 0, 1, 1, 1, 1,\n",
       "       1, 1, 1, 1, 1, 1, 1, 1, 0, 0, 0, 0, 1, 0, 0, 0, 0, 1, 1, 0, 1, 0,\n",
       "       1, 0, 1, 0, 0, 1, 0, 0, 0, 1, 1, 1, 0, 0, 1, 0, 0, 1, 1, 0, 0, 0,\n",
       "       0, 0, 1, 0, 1, 1, 1, 1, 1, 1, 0, 0, 1])"
      ]
     },
     "execution_count": 88,
     "metadata": {},
     "output_type": "execute_result"
    }
   ],
   "source": [
    "# Predicting on train data  \n",
    "# Syntax: objectName.predict(Input)\n",
    "y_train_pred = reg.predict(X_train)\n",
    "y_train_pred"
   ]
  },
  {
   "cell_type": "code",
   "execution_count": 89,
   "metadata": {},
   "outputs": [
    {
     "data": {
      "text/plain": [
       "402    True\n",
       "581    True\n",
       "557    True\n",
       "633    True\n",
       "819    True\n",
       "       ... \n",
       "299    True\n",
       "534    True\n",
       "584    True\n",
       "493    True\n",
       "527    True\n",
       "Name: target, Length: 717, dtype: bool"
      ]
     },
     "execution_count": 89,
     "metadata": {},
     "output_type": "execute_result"
    }
   ],
   "source": [
    "y_train== y_train_pred # Comparing actual values and predicted values"
   ]
  },
  {
   "cell_type": "markdown",
   "metadata": {},
   "source": [
    "### CONFUSION MATRIX \n",
    "\n",
    "A confusion matrix is a tabular summary of the number of correct and incorrect predictions made by a classifier. It can be used to evaluate the performance of a classification model through the calculation of performance metrics like accuracy, precision, recall, and F1-score."
   ]
  },
  {
   "cell_type": "code",
   "execution_count": 90,
   "metadata": {},
   "outputs": [
    {
     "data": {
      "text/plain": [
       "array([[266,  69],\n",
       "       [ 35, 347]])"
      ]
     },
     "execution_count": 90,
     "metadata": {},
     "output_type": "execute_result"
    }
   ],
   "source": [
    "# Confusion matrix for training data\n",
    "# Confusion matrix(Actual Values, Predicted values)\n",
    "from sklearn.metrics import confusion_matrix, accuracy_score\n",
    "conf = confusion_matrix(y_train, y_train_pred)\n",
    "conf"
   ]
  },
  {
   "cell_type": "code",
   "execution_count": 91,
   "metadata": {},
   "outputs": [
    {
     "data": {
      "image/png": "[encoded data removed]",
      "text/plain": [
       "<Figure size 432x432 with 2 Axes>"
      ]
     },
     "metadata": {},
     "output_type": "display_data"
    }
   ],
   "source": [
    "plt.figure(figsize=(6,6))\n",
    "sns.heatmap(confusion_matrix(y_train, y_train_pred))\n",
    "plt.show()"
   ]
  },
  {
   "cell_type": "code",
   "execution_count": 92,
   "metadata": {},
   "outputs": [
    {
     "data": {
      "image/png": "[encoded data removed]",
      "text/plain": [
       "<Figure size 432x432 with 2 Axes>"
      ]
     },
     "metadata": {},
     "output_type": "display_data"
    }
   ],
   "source": [
    "plt.figure(figsize=(6,6))\n",
    "sns.heatmap(confusion_matrix(y_train, y_train_pred), annot=True)\n",
    "plt.show()"
   ]
  },
  {
   "cell_type": "code",
   "execution_count": 93,
   "metadata": {},
   "outputs": [
    {
     "data": {
      "image/png": "[encoded data removed]",
      "text/plain": [
       "<Figure size 432x432 with 2 Axes>"
      ]
     },
     "metadata": {},
     "output_type": "display_data"
    }
   ],
   "source": [
    "# supported values for ha are : 'center', 'right', 'left'\n",
    "# supported values for va are : 'top', 'bottom', 'center', 'baseline', 'center_baseline\n",
    "# fmt can also be given as d(integer formatting)\n",
    "plt.figure(figsize=(6,6))\n",
    "sns.heatmap(confusion_matrix(y_train, y_train_pred), annot=True, fmt='3.0f', annot_kws={'size':'10', \"ha\": 'right',\"va\": 'baseline'})\n",
    "plt.show()"
   ]
  },
  {
   "cell_type": "code",
   "execution_count": 94,
   "metadata": {},
   "outputs": [
    {
     "data": {
      "text/plain": [
       "array([[266,  69],\n",
       "       [ 35, 347]])"
      ]
     },
     "execution_count": 94,
     "metadata": {},
     "output_type": "execute_result"
    }
   ],
   "source": [
    "conf"
   ]
  },
  {
   "cell_type": "code",
   "execution_count": 95,
   "metadata": {},
   "outputs": [
    {
     "name": "stdout",
     "output_type": "stream",
     "text": [
      "true_negative= 266\n",
      "false_positive= 69\n",
      "false_negative= 35\n",
      "true_positive= 347\n"
     ]
    }
   ],
   "source": [
    "print('true_negative=', conf[0][0])\n",
    "print('false_positive=', conf[0][1])\n",
    "print('false_negative=', conf[1][0])\n",
    "print('true_positive=',  conf[1][1])"
   ]
  },
  {
   "cell_type": "code",
   "execution_count": 96,
   "metadata": {},
   "outputs": [
    {
     "data": {
      "text/plain": [
       "0.8549511854951185"
      ]
     },
     "execution_count": 96,
     "metadata": {},
     "output_type": "execute_result"
    }
   ],
   "source": [
    "## Accuracy--> TP+TN/TP+FP+TN+FN\n",
    "## Correct Predictions/ Total Number of Predictions\n",
    "(266+347)/(347+69+35+266)"
   ]
  },
  {
   "cell_type": "code",
   "execution_count": 97,
   "metadata": {},
   "outputs": [
    {
     "data": {
      "text/plain": [
       "0.8549511854951185"
      ]
     },
     "execution_count": 97,
     "metadata": {},
     "output_type": "execute_result"
    }
   ],
   "source": [
    "# Calculating Accuracy: Syntax:- ccuracy_score(actualValues, predictedValues)\n",
    "from sklearn.metrics import accuracy_score\n",
    "accuracy_score(y_train, y_train_pred)"
   ]
  },
  {
   "cell_type": "code",
   "execution_count": 98,
   "metadata": {},
   "outputs": [
    {
     "data": {
      "text/plain": [
       "array([0, 1, 0, 0, 1, 1, 0, 0, 0, 1, 1, 0, 1, 1, 1, 1, 1, 0, 1, 1, 1, 1,\n",
       "       1, 0, 0, 1, 0, 1, 0, 0, 0, 0, 1, 0, 0, 1, 1, 1, 1, 1, 1, 0, 1, 1,\n",
       "       0, 1, 1, 1, 1, 0, 1, 0, 0, 0, 0, 1, 1, 1, 1, 1, 1, 0, 1, 1, 1, 0,\n",
       "       0, 0, 0, 1, 1, 0, 0, 1, 1, 1, 1, 1, 0, 0, 0, 0, 1, 0, 1, 1, 1, 0,\n",
       "       0, 1, 0, 0, 1, 0, 1, 1, 1, 0, 1, 0, 1, 0, 1, 1, 0, 1, 1, 1, 1, 1,\n",
       "       0, 1, 0, 0, 0, 0, 1, 0, 0, 1, 1, 1, 1, 1, 1, 1, 1, 1, 0, 1, 1, 0,\n",
       "       1, 1, 0, 1, 1, 0, 1, 0, 1, 0, 1, 1, 1, 1, 1, 0, 0, 0, 0, 0, 0, 1,\n",
       "       1, 1, 0, 1, 0, 0, 1, 1, 1, 1, 0, 0, 1, 0, 1, 0, 1, 0, 1, 0, 0, 0,\n",
       "       1, 0, 0, 1, 1, 1, 1, 1, 1, 0, 0, 1, 1, 0, 1, 0, 1, 0, 1, 0, 0, 0,\n",
       "       0, 0, 1, 1, 1, 1, 0, 1, 1, 1, 1, 1, 1, 1, 1, 0, 1, 0, 1, 1, 1, 0,\n",
       "       0, 1, 0, 0, 1, 1, 1, 1, 0, 1, 0, 0, 0, 1, 1, 0, 0, 1, 0, 0, 0, 1,\n",
       "       0, 1, 1, 1, 1, 0, 0, 0, 1, 0, 1, 0, 1, 1, 0, 1, 0, 0, 1, 0, 1, 0,\n",
       "       1, 1, 0, 1, 1, 0, 0, 1, 0, 0, 1, 0, 1, 0, 1, 0, 1, 0, 1, 1, 1, 0,\n",
       "       0, 0, 1, 0, 1, 1, 0, 0, 1, 1, 1, 0, 1, 1, 0, 0, 0, 0, 1, 1, 1, 1])"
      ]
     },
     "execution_count": 98,
     "metadata": {},
     "output_type": "execute_result"
    }
   ],
   "source": [
    "#prediction on Test data\n",
    "# Syntax: objectName.predict(Input)\n",
    "y_test_pred = reg.predict(X_test)\n",
    "y_test_pred"
   ]
  },
  {
   "cell_type": "code",
   "execution_count": 99,
   "metadata": {},
   "outputs": [
    {
     "data": {
      "text/plain": [
       "546    True\n",
       "980    True\n",
       "908    True\n",
       "577    True\n",
       "846    True\n",
       "       ... \n",
       "13     True\n",
       "248    True\n",
       "934    True\n",
       "522    True\n",
       "659    True\n",
       "Name: target, Length: 308, dtype: bool"
      ]
     },
     "execution_count": 99,
     "metadata": {},
     "output_type": "execute_result"
    }
   ],
   "source": [
    "y_test== y_test_pred # Comparing actual values and predicted values"
   ]
  },
  {
   "cell_type": "code",
   "execution_count": 100,
   "metadata": {},
   "outputs": [
    {
     "data": {
      "text/plain": [
       "array([[125,  39],\n",
       "       [  9, 135]])"
      ]
     },
     "execution_count": 100,
     "metadata": {},
     "output_type": "execute_result"
    }
   ],
   "source": [
    "# Confusion matrix for testing data\n",
    "# Confusion matrix(Actual Values, Predicted values)\n",
    "from sklearn.metrics import confusion_matrix, accuracy_score\n",
    "conf = confusion_matrix(y_test, y_test_pred)\n",
    "conf"
   ]
  },
  {
   "cell_type": "code",
   "execution_count": 101,
   "metadata": {},
   "outputs": [
    {
     "data": {
      "image/png": "[encoded data removed]",
      "text/plain": [
       "<Figure size 432x432 with 2 Axes>"
      ]
     },
     "metadata": {},
     "output_type": "display_data"
    }
   ],
   "source": [
    "plt.figure(figsize=(6,6))\n",
    "sns.heatmap(confusion_matrix(y_test, y_test_pred), annot=True)\n",
    "plt.show()"
   ]
  },
  {
   "cell_type": "code",
   "execution_count": 102,
   "metadata": {},
   "outputs": [
    {
     "data": {
      "image/png": "[encoded data removed]",
      "text/plain": [
       "<Figure size 432x432 with 2 Axes>"
      ]
     },
     "metadata": {},
     "output_type": "display_data"
    }
   ],
   "source": [
    "# supported values for ha are : 'center', 'right', 'left'\n",
    "# supported values for va are : 'top', 'bottom', 'center', 'baseline', 'center_baseline\n",
    "# fmt can also be given as d(integer formatting)\n",
    "plt.figure(figsize=(6,6))\n",
    "sns.heatmap(confusion_matrix(y_test, y_test_pred), annot=True, fmt='3.0f', annot_kws={'size':'10', \"ha\": 'right',\"va\": 'baseline'})\n",
    "plt.show()"
   ]
  },
  {
   "cell_type": "code",
   "execution_count": 103,
   "metadata": {},
   "outputs": [
    {
     "data": {
      "text/plain": [
       "array([[125,  39],\n",
       "       [  9, 135]])"
      ]
     },
     "execution_count": 103,
     "metadata": {},
     "output_type": "execute_result"
    }
   ],
   "source": [
    "conf"
   ]
  },
  {
   "cell_type": "code",
   "execution_count": 104,
   "metadata": {},
   "outputs": [
    {
     "name": "stdout",
     "output_type": "stream",
     "text": [
      "true_negative= 125\n",
      "false_positive= 39\n",
      "false_negative= 9\n",
      "true_positive= 135\n"
     ]
    }
   ],
   "source": [
    "print('true_negative=', conf[0][0])\n",
    "print('false_positive=', conf[0][1])\n",
    "print('false_negative=', conf[1][0])\n",
    "print('true_positive=',  conf[1][1])"
   ]
  },
  {
   "cell_type": "code",
   "execution_count": 105,
   "metadata": {},
   "outputs": [
    {
     "data": {
      "text/plain": [
       "0.8441558441558441"
      ]
     },
     "execution_count": 105,
     "metadata": {},
     "output_type": "execute_result"
    }
   ],
   "source": [
    "## Accuracy--> TP+TN/TP+FP+TN+FN\n",
    "## Correct Predictions/ Total Number of Predictions\n",
    "(125+135)/(125+39+9+135)"
   ]
  },
  {
   "cell_type": "code",
   "execution_count": 106,
   "metadata": {},
   "outputs": [
    {
     "data": {
      "text/plain": [
       "0.8441558441558441"
      ]
     },
     "execution_count": 106,
     "metadata": {},
     "output_type": "execute_result"
    }
   ],
   "source": [
    "# Calculating Accuracy: Syntax:- ccuracy_score(actualValues, predictedValues)\n",
    "from sklearn.metrics import accuracy_score\n",
    "accuracy_score(y_test, y_test_pred)"
   ]
  },
  {
   "cell_type": "code",
   "execution_count": 107,
   "metadata": {},
   "outputs": [],
   "source": [
    "score_lr=accuracy_score(y_test, y_test_pred)"
   ]
  },
  {
   "cell_type": "markdown",
   "metadata": {},
   "source": [
    "ROC Curve- Receiver Operating Characteristics\n",
    "ROC curves typically feature true positive rate on Y axis and false positive rate on X axis.\n",
    "The \"steepness\" of ROC curves is also important "
   ]
  },
  {
   "cell_type": "code",
   "execution_count": 109,
   "metadata": {},
   "outputs": [],
   "source": [
    "# Roc curve\n",
    "## TPR, FPR, Threshold\n",
    "from sklearn.metrics import roc_auc_score, roc_curve\n",
    "m_prob = reg.predict_proba(X_test)[:,1]\n",
    "fpr, tpr, threshold = roc_curve(y_test, m_prob)"
   ]
  },
  {
   "cell_type": "code",
   "execution_count": 110,
   "metadata": {},
   "outputs": [
    {
     "data": {
      "text/plain": [
       "[<matplotlib.lines.Line2D at 0x1a24b87850>]"
      ]
     },
     "execution_count": 110,
     "metadata": {},
     "output_type": "execute_result"
    },
    {
     "data": {
      "image/png": "[encoded data removed]",
      "text/plain": [
       "<Figure size 1440x360 with 1 Axes>"
      ]
     },
     "metadata": {},
     "output_type": "display_data"
    }
   ],
   "source": [
    "plt.plot(fpr,tpr)"
   ]
  },
  {
   "cell_type": "code",
   "execution_count": 112,
   "metadata": {},
   "outputs": [
    {
     "data": {
      "text/plain": [
       "0.8498475609756098"
      ]
     },
     "execution_count": 112,
     "metadata": {},
     "output_type": "execute_result"
    }
   ],
   "source": [
    "roc_auc_score(y_test,y_test_pred)"
   ]
  },
  {
   "cell_type": "markdown",
   "metadata": {},
   "source": [
    "# Gausian Naive Bayes Algorithm"
   ]
  },
  {
   "cell_type": "markdown",
   "metadata": {},
   "source": [
    "Naive Bayes Classifier. Naive Bayes is a kind of classifier which uses the Bayes Theorem. It predicts membership probabilities for each class such as the probability that given record or data point belongs to a particular class."
   ]
  },
  {
   "cell_type": "markdown",
   "metadata": {},
   "source": [
    "Naive Bayes is the most straightforward and fast classification algorithm, which is suitable for a large chunk of data. Naive Bayes classifier is successfully used in various applications such as \n",
    "1. spam filtering \n",
    "2. text classification \n",
    "3. sentiment analysis and recommender systems. \n",
    "\n",
    "It uses Bayes theorem of probability for prediction of unknown class."
   ]
  },
  {
   "cell_type": "markdown",
   "metadata": {},
   "source": [
    "Let us apply the Gausian Naive Bayes algorithm . "
   ]
  },
  {
   "cell_type": "code",
   "execution_count": 113,
   "metadata": {},
   "outputs": [],
   "source": [
    "#Apply the Naive Bayes Algorithm\n",
    "#Import BernNB\n",
    "from sklearn.naive_bayes import BernoulliNB\n",
    "\n",
    "# creating an object for BerNB\n",
    "model_BernNB = BernoulliNB()"
   ]
  },
  {
   "cell_type": "code",
   "execution_count": 114,
   "metadata": {},
   "outputs": [
    {
     "data": {
      "text/plain": [
       "BernoulliNB(alpha=1.0, binarize=0.0, class_prior=None, fit_prior=True)"
      ]
     },
     "execution_count": 114,
     "metadata": {},
     "output_type": "execute_result"
    }
   ],
   "source": [
    "# Applying the Algorithm to the data\n",
    "# ObjectName.fit(Input, Output)\n",
    " \n",
    "model_BernNB.fit(X_train, y_train)"
   ]
  },
  {
   "cell_type": "code",
   "execution_count": 115,
   "metadata": {},
   "outputs": [],
   "source": [
    "y_train_pred = model_BernNB.predict(X_train)"
   ]
  },
  {
   "cell_type": "markdown",
   "metadata": {},
   "source": [
    "### Confusion matrix \n",
    "A confusion matrix is a tabular summary of the number of correct and incorrect predictions made by a classifier. It can be used to evaluate the performance of a classification model through the calculation of performance metrics like accuracy, precision, recall, and F1-score."
   ]
  },
  {
   "cell_type": "code",
   "execution_count": 116,
   "metadata": {},
   "outputs": [
    {
     "data": {
      "text/plain": [
       "array([[266,  69],\n",
       "       [ 49, 333]])"
      ]
     },
     "execution_count": 116,
     "metadata": {},
     "output_type": "execute_result"
    }
   ],
   "source": [
    "# Compare the actual values(y_train) with predicted values(y_train_pred)\n",
    "from sklearn.metrics import confusion_matrix, classification_report\n",
    "confusion_matrix(y_train, y_train_pred)"
   ]
  },
  {
   "cell_type": "code",
   "execution_count": 117,
   "metadata": {},
   "outputs": [
    {
     "data": {
      "image/png": "[encoded data removed]",
      "text/plain": [
       "<Figure size 432x432 with 2 Axes>"
      ]
     },
     "metadata": {},
     "output_type": "display_data"
    }
   ],
   "source": [
    "plt.figure(figsize=(6,6))\n",
    "sns.heatmap(confusion_matrix(y_train, y_train_pred), annot=True, fmt='3.0f', annot_kws={'size':'10', \"ha\": 'right',\"va\": 'baseline'})\n",
    "plt.show()"
   ]
  },
  {
   "cell_type": "code",
   "execution_count": 118,
   "metadata": {},
   "outputs": [
    {
     "name": "stdout",
     "output_type": "stream",
     "text": [
      "              precision    recall  f1-score   support\n",
      "\n",
      "           0       0.84      0.79      0.82       335\n",
      "           1       0.83      0.87      0.85       382\n",
      "\n",
      "    accuracy                           0.84       717\n",
      "   macro avg       0.84      0.83      0.83       717\n",
      "weighted avg       0.84      0.84      0.83       717\n",
      "\n"
     ]
    }
   ],
   "source": [
    "print(classification_report(y_train,y_train_pred))"
   ]
  },
  {
   "cell_type": "code",
   "execution_count": 119,
   "metadata": {},
   "outputs": [
    {
     "data": {
      "text/plain": [
       "0.8354253835425384"
      ]
     },
     "execution_count": 119,
     "metadata": {},
     "output_type": "execute_result"
    }
   ],
   "source": [
    "from sklearn.metrics import accuracy_score\n",
    "accuracy_score(y_train,y_train_pred)"
   ]
  },
  {
   "cell_type": "code",
   "execution_count": 120,
   "metadata": {},
   "outputs": [
    {
     "data": {
      "text/plain": [
       "BernoulliNB(alpha=1.0, binarize=0.0, class_prior=None, fit_prior=True)"
      ]
     },
     "execution_count": 120,
     "metadata": {},
     "output_type": "execute_result"
    }
   ],
   "source": [
    "# Applying the Algorithm to the data\n",
    "# ObjectName.fit(Input, Output)\n",
    "\n",
    "model_BernNB.fit(X_test, y_test)"
   ]
  },
  {
   "cell_type": "code",
   "execution_count": 121,
   "metadata": {},
   "outputs": [],
   "source": [
    "# Prediction on Test Data\n",
    "# Syntax: objectname.predict(InputValues)\n",
    "y_test_pred = model_BernNB.predict(X_test)"
   ]
  },
  {
   "cell_type": "code",
   "execution_count": 122,
   "metadata": {},
   "outputs": [
    {
     "data": {
      "text/plain": [
       "array([[131,  33],\n",
       "       [ 26, 118]])"
      ]
     },
     "execution_count": 122,
     "metadata": {},
     "output_type": "execute_result"
    }
   ],
   "source": [
    "# Compare the actual values(y_test) with predicted values(y_test_pred)\n",
    "from sklearn.metrics import confusion_matrix, classification_report\n",
    "confusion_matrix(y_test, y_test_pred)"
   ]
  },
  {
   "cell_type": "code",
   "execution_count": 123,
   "metadata": {},
   "outputs": [
    {
     "data": {
      "image/png": "[encoded data removed]",
      "text/plain": [
       "<Figure size 432x432 with 2 Axes>"
      ]
     },
     "metadata": {},
     "output_type": "display_data"
    }
   ],
   "source": [
    "plt.figure(figsize=(6,6))\n",
    "sns.heatmap(confusion_matrix(y_test, y_test_pred),annot=True , fmt='3.0f', annot_kws={'size':'10', \"ha\": 'right',\"va\": 'baseline'})\n",
    "plt.show()"
   ]
  },
  {
   "cell_type": "code",
   "execution_count": 124,
   "metadata": {},
   "outputs": [
    {
     "name": "stdout",
     "output_type": "stream",
     "text": [
      "              precision    recall  f1-score   support\n",
      "\n",
      "           0       0.83      0.80      0.82       164\n",
      "           1       0.78      0.82      0.80       144\n",
      "\n",
      "    accuracy                           0.81       308\n",
      "   macro avg       0.81      0.81      0.81       308\n",
      "weighted avg       0.81      0.81      0.81       308\n",
      "\n"
     ]
    }
   ],
   "source": [
    "print(classification_report(y_test,y_test_pred))"
   ]
  },
  {
   "cell_type": "code",
   "execution_count": 125,
   "metadata": {},
   "outputs": [
    {
     "data": {
      "text/plain": [
       "0.8084415584415584"
      ]
     },
     "execution_count": 125,
     "metadata": {},
     "output_type": "execute_result"
    }
   ],
   "source": [
    "from sklearn.metrics import accuracy_score\n",
    "accuracy_score(y_test,y_test_pred)"
   ]
  },
  {
   "cell_type": "code",
   "execution_count": 126,
   "metadata": {},
   "outputs": [],
   "source": [
    "score_nb=accuracy_score(y_test,y_test_pred)"
   ]
  },
  {
   "cell_type": "code",
   "execution_count": 127,
   "metadata": {},
   "outputs": [],
   "source": [
    "# Roc curve\n",
    "## TPR, FPR, Threshold\n",
    "from sklearn.metrics import roc_auc_score, roc_curve\n",
    "prob = model_BernNB.predict_proba(X_test)[:,1]\n",
    "fpr, tpr, threshold = roc_curve(y_test, prob)"
   ]
  },
  {
   "cell_type": "code",
   "execution_count": 128,
   "metadata": {},
   "outputs": [
    {
     "data": {
      "text/plain": [
       "[<matplotlib.lines.Line2D at 0x1a24910bd0>]"
      ]
     },
     "execution_count": 128,
     "metadata": {},
     "output_type": "execute_result"
    },
    {
     "data": {
      "image/png": "[encoded data removed]",
      "text/plain": [
       "<Figure size 1440x360 with 1 Axes>"
      ]
     },
     "metadata": {},
     "output_type": "display_data"
    }
   ],
   "source": [
    "plt.plot(fpr,tpr)"
   ]
  },
  {
   "cell_type": "code",
   "execution_count": 129,
   "metadata": {},
   "outputs": [
    {
     "data": {
      "text/plain": [
       "0.8091124661246613"
      ]
     },
     "execution_count": 129,
     "metadata": {},
     "output_type": "execute_result"
    }
   ],
   "source": [
    "roc_auc_score(y_test,y_test_pred)"
   ]
  },
  {
   "cell_type": "markdown",
   "metadata": {},
   "source": [
    "## K Neighbors Classifier"
   ]
  },
  {
   "cell_type": "markdown",
   "metadata": {},
   "source": [
    "KNN also known as K-nearest neighbour is a supervised and pattern classification learning algorithm which helps us find which class the new input(test value) belongs to when k nearest neighbours are chosen and distance is calculated between them."
   ]
  },
  {
   "cell_type": "markdown",
   "metadata": {},
   "source": [
    "Before Splitting if you apply standardization--> you are considering whole you are including test data also into training data"
   ]
  },
  {
   "cell_type": "code",
   "execution_count": 130,
   "metadata": {},
   "outputs": [
    {
     "data": {
      "text/html": [
       "<div>\n",
       "<style scoped>\n",
       "    .dataframe tbody tr th:only-of-type {\n",
       "        vertical-align: middle;\n",
       "    }\n",
       "\n",
       "    .dataframe tbody tr th {\n",
       "        vertical-align: top;\n",
       "    }\n",
       "\n",
       "    .dataframe thead th {\n",
       "        text-align: right;\n",
       "    }\n",
       "</style>\n",
       "<table border=\"1\" class=\"dataframe\">\n",
       "  <thead>\n",
       "    <tr style=\"text-align: right;\">\n",
       "      <th></th>\n",
       "      <th>age</th>\n",
       "      <th>sex</th>\n",
       "      <th>cp</th>\n",
       "      <th>trestbps</th>\n",
       "      <th>chol</th>\n",
       "      <th>fbs</th>\n",
       "      <th>restecg</th>\n",
       "      <th>thalach</th>\n",
       "      <th>exang</th>\n",
       "      <th>oldpeak</th>\n",
       "      <th>slope</th>\n",
       "      <th>ca</th>\n",
       "      <th>thal</th>\n",
       "    </tr>\n",
       "  </thead>\n",
       "  <tbody>\n",
       "    <tr>\n",
       "      <th>0</th>\n",
       "      <td>1.724067</td>\n",
       "      <td>0.667506</td>\n",
       "      <td>-0.917780</td>\n",
       "      <td>-0.097631</td>\n",
       "      <td>1.578108</td>\n",
       "      <td>-0.421117</td>\n",
       "      <td>-1.020076</td>\n",
       "      <td>-1.738569</td>\n",
       "      <td>-0.698249</td>\n",
       "      <td>1.117144</td>\n",
       "      <td>-0.659898</td>\n",
       "      <td>2.194045</td>\n",
       "      <td>-0.512999</td>\n",
       "    </tr>\n",
       "    <tr>\n",
       "      <th>1</th>\n",
       "      <td>0.286805</td>\n",
       "      <td>0.667506</td>\n",
       "      <td>-0.917780</td>\n",
       "      <td>0.478989</td>\n",
       "      <td>-1.070495</td>\n",
       "      <td>-0.421117</td>\n",
       "      <td>0.855294</td>\n",
       "      <td>-0.051347</td>\n",
       "      <td>-0.698249</td>\n",
       "      <td>-0.568091</td>\n",
       "      <td>-0.659898</td>\n",
       "      <td>-0.713774</td>\n",
       "      <td>-2.126244</td>\n",
       "    </tr>\n",
       "    <tr>\n",
       "      <th>2</th>\n",
       "      <td>0.839598</td>\n",
       "      <td>0.667506</td>\n",
       "      <td>-0.917780</td>\n",
       "      <td>-0.674252</td>\n",
       "      <td>0.457545</td>\n",
       "      <td>-0.421117</td>\n",
       "      <td>0.855294</td>\n",
       "      <td>-2.171190</td>\n",
       "      <td>1.432154</td>\n",
       "      <td>0.611574</td>\n",
       "      <td>-0.659898</td>\n",
       "      <td>1.224772</td>\n",
       "      <td>1.100247</td>\n",
       "    </tr>\n",
       "    <tr>\n",
       "      <th>3</th>\n",
       "      <td>1.724067</td>\n",
       "      <td>0.667506</td>\n",
       "      <td>-0.917780</td>\n",
       "      <td>-0.097631</td>\n",
       "      <td>1.578108</td>\n",
       "      <td>-0.421117</td>\n",
       "      <td>-1.020076</td>\n",
       "      <td>-1.738569</td>\n",
       "      <td>-0.698249</td>\n",
       "      <td>1.117144</td>\n",
       "      <td>-0.659898</td>\n",
       "      <td>2.194045</td>\n",
       "      <td>-0.512999</td>\n",
       "    </tr>\n",
       "    <tr>\n",
       "      <th>4</th>\n",
       "      <td>-2.145485</td>\n",
       "      <td>-1.498113</td>\n",
       "      <td>-0.917780</td>\n",
       "      <td>0.363665</td>\n",
       "      <td>-1.253859</td>\n",
       "      <td>-0.421117</td>\n",
       "      <td>0.855294</td>\n",
       "      <td>1.419564</td>\n",
       "      <td>-0.698249</td>\n",
       "      <td>0.274526</td>\n",
       "      <td>0.960467</td>\n",
       "      <td>-0.713774</td>\n",
       "      <td>-0.512999</td>\n",
       "    </tr>\n",
       "    <tr>\n",
       "      <th>...</th>\n",
       "      <td>...</td>\n",
       "      <td>...</td>\n",
       "      <td>...</td>\n",
       "      <td>...</td>\n",
       "      <td>...</td>\n",
       "      <td>...</td>\n",
       "      <td>...</td>\n",
       "      <td>...</td>\n",
       "      <td>...</td>\n",
       "      <td>...</td>\n",
       "      <td>...</td>\n",
       "      <td>...</td>\n",
       "      <td>...</td>\n",
       "    </tr>\n",
       "    <tr>\n",
       "      <th>303</th>\n",
       "      <td>-0.376547</td>\n",
       "      <td>0.667506</td>\n",
       "      <td>-0.917780</td>\n",
       "      <td>0.478989</td>\n",
       "      <td>1.089135</td>\n",
       "      <td>-0.421117</td>\n",
       "      <td>0.855294</td>\n",
       "      <td>-1.176162</td>\n",
       "      <td>1.432154</td>\n",
       "      <td>2.633856</td>\n",
       "      <td>-0.659898</td>\n",
       "      <td>2.194045</td>\n",
       "      <td>1.100247</td>\n",
       "    </tr>\n",
       "    <tr>\n",
       "      <th>304</th>\n",
       "      <td>-1.703250</td>\n",
       "      <td>-1.498113</td>\n",
       "      <td>1.061313</td>\n",
       "      <td>0.363665</td>\n",
       "      <td>-0.500026</td>\n",
       "      <td>-0.421117</td>\n",
       "      <td>0.855294</td>\n",
       "      <td>0.121701</td>\n",
       "      <td>-0.698249</td>\n",
       "      <td>-0.905138</td>\n",
       "      <td>-0.659898</td>\n",
       "      <td>-0.713774</td>\n",
       "      <td>-0.512999</td>\n",
       "    </tr>\n",
       "    <tr>\n",
       "      <th>305</th>\n",
       "      <td>-1.371575</td>\n",
       "      <td>0.667506</td>\n",
       "      <td>1.061313</td>\n",
       "      <td>-0.097631</td>\n",
       "      <td>-1.314981</td>\n",
       "      <td>-0.421117</td>\n",
       "      <td>0.855294</td>\n",
       "      <td>0.035177</td>\n",
       "      <td>-0.698249</td>\n",
       "      <td>-0.905138</td>\n",
       "      <td>0.960467</td>\n",
       "      <td>-0.713774</td>\n",
       "      <td>-0.512999</td>\n",
       "    </tr>\n",
       "    <tr>\n",
       "      <th>306</th>\n",
       "      <td>1.392391</td>\n",
       "      <td>-1.498113</td>\n",
       "      <td>1.061313</td>\n",
       "      <td>1.170935</td>\n",
       "      <td>0.661284</td>\n",
       "      <td>-0.421117</td>\n",
       "      <td>0.855294</td>\n",
       "      <td>0.986943</td>\n",
       "      <td>-0.698249</td>\n",
       "      <td>-0.905138</td>\n",
       "      <td>0.960467</td>\n",
       "      <td>0.255499</td>\n",
       "      <td>-0.512999</td>\n",
       "    </tr>\n",
       "    <tr>\n",
       "      <th>307</th>\n",
       "      <td>0.507922</td>\n",
       "      <td>0.667506</td>\n",
       "      <td>-0.917780</td>\n",
       "      <td>0.363665</td>\n",
       "      <td>0.539041</td>\n",
       "      <td>-0.421117</td>\n",
       "      <td>-1.020076</td>\n",
       "      <td>1.419564</td>\n",
       "      <td>-0.698249</td>\n",
       "      <td>-0.905138</td>\n",
       "      <td>0.960467</td>\n",
       "      <td>-0.713774</td>\n",
       "      <td>-0.512999</td>\n",
       "    </tr>\n",
       "  </tbody>\n",
       "</table>\n",
       "<p>308 rows × 13 columns</p>\n",
       "</div>"
      ],
      "text/plain": [
       "          age       sex        cp  trestbps      chol       fbs   restecg  \\\n",
       "0    1.724067  0.667506 -0.917780 -0.097631  1.578108 -0.421117 -1.020076   \n",
       "1    0.286805  0.667506 -0.917780  0.478989 -1.070495 -0.421117  0.855294   \n",
       "2    0.839598  0.667506 -0.917780 -0.674252  0.457545 -0.421117  0.855294   \n",
       "3    1.724067  0.667506 -0.917780 -0.097631  1.578108 -0.421117 -1.020076   \n",
       "4   -2.145485 -1.498113 -0.917780  0.363665 -1.253859 -0.421117  0.855294   \n",
       "..        ...       ...       ...       ...       ...       ...       ...   \n",
       "303 -0.376547  0.667506 -0.917780  0.478989  1.089135 -0.421117  0.855294   \n",
       "304 -1.703250 -1.498113  1.061313  0.363665 -0.500026 -0.421117  0.855294   \n",
       "305 -1.371575  0.667506  1.061313 -0.097631 -1.314981 -0.421117  0.855294   \n",
       "306  1.392391 -1.498113  1.061313  1.170935  0.661284 -0.421117  0.855294   \n",
       "307  0.507922  0.667506 -0.917780  0.363665  0.539041 -0.421117 -1.020076   \n",
       "\n",
       "      thalach     exang   oldpeak     slope        ca      thal  \n",
       "0   -1.738569 -0.698249  1.117144 -0.659898  2.194045 -0.512999  \n",
       "1   -0.051347 -0.698249 -0.568091 -0.659898 -0.713774 -2.126244  \n",
       "2   -2.171190  1.432154  0.611574 -0.659898  1.224772  1.100247  \n",
       "3   -1.738569 -0.698249  1.117144 -0.659898  2.194045 -0.512999  \n",
       "4    1.419564 -0.698249  0.274526  0.960467 -0.713774 -0.512999  \n",
       "..        ...       ...       ...       ...       ...       ...  \n",
       "303 -1.176162  1.432154  2.633856 -0.659898  2.194045  1.100247  \n",
       "304  0.121701 -0.698249 -0.905138 -0.659898 -0.713774 -0.512999  \n",
       "305  0.035177 -0.698249 -0.905138  0.960467 -0.713774 -0.512999  \n",
       "306  0.986943 -0.698249 -0.905138  0.960467  0.255499 -0.512999  \n",
       "307  1.419564 -0.698249 -0.905138  0.960467 -0.713774 -0.512999  \n",
       "\n",
       "[308 rows x 13 columns]"
      ]
     },
     "execution_count": 130,
     "metadata": {},
     "output_type": "execute_result"
    }
   ],
   "source": [
    "# Scaling Data\n",
    "from sklearn.preprocessing import StandardScaler\n",
    "scaler = StandardScaler()\n",
    "\n",
    "# Scaling for training data\n",
    "scaled_X_train = pd.DataFrame(scaler.fit_transform(X_train), columns = X_train.columns)\n",
    "scaled_X_train\n",
    "\n",
    "#Scaling for test data\n",
    "#Testing the data based on training data\n",
    "scaled_X_test = pd.DataFrame(scaler.transform(X_test), columns = X_test.columns)\n",
    "scaled_X_test"
   ]
  },
  {
   "cell_type": "code",
   "execution_count": 131,
   "metadata": {},
   "outputs": [
    {
     "data": {
      "text/plain": [
       "KNeighborsClassifier(algorithm='auto', leaf_size=30, metric='euclidean',\n",
       "                     metric_params=None, n_jobs=None, n_neighbors=40, p=2,\n",
       "                     weights='uniform')"
      ]
     },
     "execution_count": 131,
     "metadata": {},
     "output_type": "execute_result"
    }
   ],
   "source": [
    "# Model Building:\n",
    "from sklearn.neighbors import KNeighborsClassifier\n",
    "knn = KNeighborsClassifier(n_neighbors=40, metric='euclidean')\n",
    "\n",
    "# Apply the knn object on the dataset(Training Phase)\n",
    "# Syntax: objectName.fit(Input, Output)\n",
    "knn.fit(scaled_X_train, y_train)"
   ]
  },
  {
   "cell_type": "code",
   "execution_count": 132,
   "metadata": {},
   "outputs": [],
   "source": [
    "# Predictions on the data\n",
    "## predict function--> gives the predicted values \n",
    "## Syntax:objectname.predict(Input)"
   ]
  },
  {
   "cell_type": "code",
   "execution_count": 133,
   "metadata": {},
   "outputs": [
    {
     "data": {
      "text/plain": [
       "array([1, 1, 1, 0, 0, 1, 1, 1, 1, 0, 1, 0, 1, 0, 0, 1, 0, 0, 1, 0, 0, 0,\n",
       "       1, 1, 0, 1, 1, 1, 0, 0, 1, 0, 1, 1, 1, 1, 1, 0, 1, 0, 1, 1, 0, 1,\n",
       "       1, 1, 1, 1, 0, 0, 0, 0, 1, 1, 1, 1, 0, 1, 0, 1, 1, 0, 0, 1, 1, 0,\n",
       "       0, 1, 1, 1, 0, 0, 0, 1, 0, 0, 0, 1, 1, 1, 1, 0, 0, 1, 0, 0, 1, 0,\n",
       "       0, 1, 1, 0, 0, 0, 1, 1, 1, 1, 0, 1, 1, 0, 0, 0, 1, 1, 1, 1, 1, 0,\n",
       "       0, 1, 1, 1, 1, 0, 0, 1, 0, 1, 0, 0, 1, 1, 1, 0, 1, 1, 0, 0, 0, 0,\n",
       "       1, 1, 1, 1, 1, 1, 1, 0, 1, 1, 0, 1, 1, 1, 1, 0, 0, 0, 0, 0, 0, 0,\n",
       "       1, 1, 1, 1, 0, 0, 1, 1, 0, 1, 1, 0, 0, 0, 1, 0, 0, 1, 0, 1, 1, 1,\n",
       "       1, 1, 1, 0, 1, 1, 1, 1, 0, 0, 0, 1, 1, 1, 1, 0, 1, 0, 0, 1, 1, 1,\n",
       "       1, 1, 0, 1, 0, 1, 1, 0, 0, 1, 0, 0, 1, 1, 0, 0, 1, 0, 1, 0, 1, 0,\n",
       "       0, 0, 1, 0, 0, 1, 1, 1, 1, 1, 1, 0, 1, 1, 0, 1, 1, 1, 1, 0, 0, 1,\n",
       "       1, 0, 0, 1, 1, 1, 0, 1, 1, 1, 0, 1, 1, 1, 1, 0, 1, 1, 1, 0, 1, 1,\n",
       "       1, 1, 0, 0, 1, 1, 1, 0, 1, 1, 0, 1, 0, 0, 0, 0, 1, 1, 0, 0, 0, 0,\n",
       "       0, 0, 1, 1, 1, 0, 1, 1, 0, 0, 0, 0, 0, 1, 0, 1, 1, 1, 0, 1, 1, 1,\n",
       "       0, 1, 1, 1, 1, 0, 0, 0, 1, 0, 1, 1, 0, 0, 0, 1, 1, 1, 0, 0, 0, 0,\n",
       "       1, 1, 0, 0, 0, 0, 1, 0, 0, 0, 1, 1, 1, 1, 1, 1, 1, 1, 1, 0, 1, 1,\n",
       "       1, 1, 0, 1, 0, 0, 1, 1, 0, 1, 0, 0, 1, 0, 1, 0, 1, 1, 1, 0, 0, 0,\n",
       "       1, 1, 0, 0, 1, 1, 0, 0, 0, 0, 0, 0, 0, 0, 1, 1, 1, 1, 0, 1, 0, 0,\n",
       "       0, 1, 0, 1, 1, 0, 0, 1, 0, 0, 1, 0, 1, 1, 0, 1, 1, 1, 0, 1, 1, 1,\n",
       "       0, 1, 0, 1, 0, 1, 0, 1, 1, 1, 1, 1, 0, 1, 0, 1, 0, 0, 1, 1, 1, 1,\n",
       "       0, 0, 1, 1, 0, 1, 1, 1, 1, 0, 1, 1, 0, 0, 1, 1, 1, 0, 1, 1, 1, 0,\n",
       "       0, 1, 0, 0, 1, 1, 1, 1, 1, 0, 1, 1, 0, 1, 0, 1, 1, 1, 0, 1, 1, 0,\n",
       "       1, 1, 1, 0, 1, 1, 0, 1, 1, 0, 0, 1, 1, 1, 0, 0, 1, 1, 1, 0, 1, 1,\n",
       "       1, 1, 1, 1, 1, 1, 0, 0, 0, 0, 1, 0, 1, 0, 1, 1, 1, 1, 1, 0, 0, 1,\n",
       "       0, 0, 0, 0, 1, 0, 1, 1, 0, 1, 1, 1, 1, 0, 1, 1, 1, 1, 1, 1, 1, 0,\n",
       "       0, 0, 1, 1, 0, 1, 1, 1, 1, 0, 1, 1, 0, 1, 1, 1, 1, 1, 0, 0, 0, 0,\n",
       "       1, 0, 1, 1, 1, 0, 1, 1, 1, 1, 0, 1, 1, 1, 1, 0, 1, 1, 0, 0, 1, 0,\n",
       "       1, 0, 1, 1, 0, 0, 1, 0, 1, 0, 1, 1, 1, 0, 0, 0, 1, 0, 1, 1, 1, 1,\n",
       "       1, 1, 0, 1, 0, 1, 1, 1, 1, 1, 1, 1, 1, 0, 0, 1, 1, 1, 0, 0, 1, 1,\n",
       "       1, 1, 0, 0, 1, 0, 1, 0, 0, 0, 1, 1, 1, 1, 1, 1, 1, 0, 1, 1, 1, 1,\n",
       "       1, 1, 1, 1, 0, 1, 1, 1, 0, 0, 0, 0, 1, 0, 0, 0, 0, 1, 1, 0, 1, 0,\n",
       "       1, 0, 1, 1, 0, 1, 0, 0, 0, 0, 1, 1, 0, 0, 1, 0, 0, 1, 1, 0, 0, 0,\n",
       "       0, 0, 1, 0, 1, 1, 1, 1, 1, 1, 0, 0, 1])"
      ]
     },
     "execution_count": 133,
     "metadata": {},
     "output_type": "execute_result"
    }
   ],
   "source": [
    "##Predictions on the data\n",
    "##predict function gives the predicted values\n",
    "y_train_pred = knn.predict(scaled_X_train)\n",
    "y_train_pred"
   ]
  },
  {
   "cell_type": "code",
   "execution_count": 134,
   "metadata": {},
   "outputs": [
    {
     "name": "stdout",
     "output_type": "stream",
     "text": [
      "              precision    recall  f1-score   support\n",
      "\n",
      "           0       0.88      0.78      0.83       335\n",
      "           1       0.83      0.91      0.86       382\n",
      "\n",
      "    accuracy                           0.85       717\n",
      "   macro avg       0.85      0.84      0.85       717\n",
      "weighted avg       0.85      0.85      0.85       717\n",
      "\n"
     ]
    }
   ],
   "source": [
    "# Check the accuracy, classification report\n",
    "from sklearn.metrics import classification_report\n",
    "print(classification_report(y_train, y_train_pred))"
   ]
  },
  {
   "cell_type": "markdown",
   "metadata": {},
   "source": [
    "### Let us Check for optimum k-value and build the models with multiple k values"
   ]
  },
  {
   "cell_type": "code",
   "execution_count": 135,
   "metadata": {},
   "outputs": [
    {
     "data": {
      "text/plain": [
       "[0.9772727272727273,\n",
       " 0.9285714285714286,\n",
       " 0.8928571428571429,\n",
       " 0.8798701298701299,\n",
       " 0.8311688311688312,\n",
       " 0.8409090909090909,\n",
       " 0.8701298701298701,\n",
       " 0.8603896103896104,\n",
       " 0.8733766233766234,\n",
       " 0.8733766233766234,\n",
       " 0.8571428571428571,\n",
       " 0.8701298701298701,\n",
       " 0.8603896103896104,\n",
       " 0.8506493506493507,\n",
       " 0.8603896103896104,\n",
       " 0.8636363636363636,\n",
       " 0.8538961038961039,\n",
       " 0.8538961038961039,\n",
       " 0.8733766233766234,\n",
       " 0.8603896103896104]"
      ]
     },
     "execution_count": 135,
     "metadata": {},
     "output_type": "execute_result"
    }
   ],
   "source": [
    "from sklearn.metrics import accuracy_score\n",
    "scores=[]\n",
    "for k in range(1, 21):\n",
    "    knn_model = KNeighborsClassifier(n_neighbors=k)\n",
    "    knn_model.fit(scaled_X_train, y_train)\n",
    "    pred_test = knn_model.predict(scaled_X_test)\n",
    "    scores.append(accuracy_score(y_test, pred_test))\n",
    "scores"
   ]
  },
  {
   "cell_type": "code",
   "execution_count": 136,
   "metadata": {},
   "outputs": [
    {
     "data": {
      "text/plain": [
       "[<matplotlib.lines.Line2D at 0x1a1da6e150>]"
      ]
     },
     "execution_count": 136,
     "metadata": {},
     "output_type": "execute_result"
    },
    {
     "data": {
      "image/png": "[encoded data removed]",
      "text/plain": [
       "<Figure size 1440x360 with 1 Axes>"
      ]
     },
     "metadata": {},
     "output_type": "display_data"
    }
   ],
   "source": [
    "# Plot of K values and Scores\n",
    "plt.plot(range(1,21), scores, marker='o', markerfacecolor='r', linestyle='--')"
   ]
  },
  {
   "cell_type": "markdown",
   "metadata": {},
   "source": [
    "In the above graph in range() function we included upto 20 values and we got the optimum value of k in the above graph as 1"
   ]
  },
  {
   "cell_type": "code",
   "execution_count": 137,
   "metadata": {},
   "outputs": [
    {
     "data": {
      "text/plain": [
       "KNeighborsClassifier(algorithm='auto', leaf_size=30, metric='euclidean',\n",
       "                     metric_params=None, n_jobs=None, n_neighbors=7, p=2,\n",
       "                     weights='uniform')"
      ]
     },
     "execution_count": 137,
     "metadata": {},
     "output_type": "execute_result"
    }
   ],
   "source": [
    "final_model = KNeighborsClassifier(n_neighbors=7, metric='euclidean')\n",
    "final_model.fit(scaled_X_train, y_train)"
   ]
  },
  {
   "cell_type": "code",
   "execution_count": 138,
   "metadata": {},
   "outputs": [
    {
     "data": {
      "text/plain": [
       "array([0, 1, 1, 0, 0, 1, 1, 1, 0, 0, 0, 0, 1, 0, 0, 1, 0, 0, 0, 0, 0, 0,\n",
       "       1, 1, 0, 1, 1, 1, 0, 0, 1, 0, 1, 1, 1, 1, 1, 0, 0, 0, 1, 1, 0, 1,\n",
       "       1, 1, 1, 1, 0, 0, 0, 0, 1, 1, 1, 1, 0, 1, 0, 0, 1, 0, 0, 1, 1, 0,\n",
       "       0, 1, 1, 1, 0, 0, 0, 1, 0, 1, 0, 1, 1, 1, 0, 0, 0, 1, 0, 0, 1, 0,\n",
       "       0, 1, 0, 0, 0, 0, 1, 1, 1, 0, 1, 1, 1, 0, 0, 0, 1, 1, 1, 0, 1, 0,\n",
       "       0, 0, 1, 1, 0, 0, 0, 1, 0, 1, 0, 0, 1, 1, 1, 0, 1, 1, 0, 0, 0, 0,\n",
       "       1, 1, 1, 0, 1, 1, 1, 0, 1, 1, 0, 1, 1, 1, 1, 0, 0, 0, 0, 0, 0, 0,\n",
       "       1, 1, 0, 1, 0, 0, 1, 1, 0, 1, 1, 0, 0, 0, 1, 0, 0, 1, 0, 1, 1, 1,\n",
       "       0, 1, 1, 0, 1, 0, 1, 1, 0, 0, 0, 0, 1, 1, 1, 0, 1, 0, 0, 1, 1, 1,\n",
       "       1, 1, 0, 1, 0, 1, 1, 0, 1, 1, 0, 0, 0, 1, 0, 0, 0, 0, 1, 0, 0, 0,\n",
       "       1, 0, 1, 0, 0, 0, 1, 1, 1, 1, 0, 0, 1, 1, 0, 1, 1, 1, 1, 0, 0, 1,\n",
       "       0, 0, 1, 1, 0, 1, 0, 1, 1, 1, 0, 1, 1, 1, 1, 0, 1, 1, 1, 0, 1, 0,\n",
       "       1, 1, 0, 0, 1, 1, 0, 0, 1, 1, 0, 1, 0, 0, 0, 0, 1, 1, 0, 1, 0, 0,\n",
       "       0, 0, 1, 1, 1, 1, 1, 1, 0, 0, 0, 0, 0, 1, 0, 1, 1, 1, 1, 1, 1, 1,\n",
       "       0, 1, 1, 1, 1, 0, 0, 0, 0, 0, 1, 1, 0, 0, 0, 1, 1, 1, 0, 0, 0, 0,\n",
       "       1, 1, 0, 0, 0, 0, 1, 0, 0, 0, 1, 1, 1, 1, 1, 1, 1, 0, 1, 0, 1, 1,\n",
       "       0, 1, 0, 0, 0, 0, 1, 1, 0, 0, 0, 0, 1, 0, 1, 0, 1, 1, 0, 0, 0, 0,\n",
       "       1, 0, 0, 0, 1, 1, 0, 0, 0, 0, 0, 0, 0, 0, 1, 1, 1, 0, 0, 1, 1, 0,\n",
       "       0, 1, 0, 1, 1, 1, 0, 1, 0, 0, 0, 0, 1, 1, 0, 1, 0, 1, 0, 1, 1, 1,\n",
       "       0, 1, 0, 1, 0, 1, 0, 1, 1, 1, 1, 1, 0, 1, 0, 1, 0, 0, 1, 1, 1, 1,\n",
       "       0, 0, 1, 1, 0, 1, 1, 1, 1, 0, 0, 1, 0, 0, 1, 0, 1, 1, 1, 1, 1, 0,\n",
       "       0, 1, 0, 0, 1, 1, 1, 1, 1, 0, 1, 1, 0, 1, 0, 1, 1, 1, 0, 1, 1, 0,\n",
       "       1, 1, 1, 0, 1, 1, 0, 0, 1, 0, 0, 1, 1, 1, 0, 0, 1, 1, 1, 0, 1, 1,\n",
       "       1, 1, 1, 0, 1, 1, 0, 0, 0, 1, 1, 0, 1, 0, 0, 1, 1, 0, 1, 0, 0, 0,\n",
       "       0, 0, 0, 0, 1, 0, 1, 1, 0, 1, 0, 1, 1, 0, 1, 1, 0, 1, 1, 1, 1, 0,\n",
       "       0, 0, 1, 1, 0, 1, 1, 1, 1, 0, 1, 1, 0, 0, 1, 1, 1, 1, 0, 0, 0, 0,\n",
       "       1, 0, 0, 0, 1, 0, 1, 1, 1, 1, 0, 1, 1, 1, 1, 0, 1, 1, 0, 0, 1, 0,\n",
       "       0, 0, 1, 1, 1, 0, 1, 0, 1, 0, 1, 1, 1, 0, 0, 0, 1, 0, 1, 0, 1, 1,\n",
       "       1, 1, 0, 1, 0, 1, 1, 1, 1, 1, 1, 1, 1, 0, 0, 1, 1, 0, 0, 0, 1, 1,\n",
       "       1, 0, 0, 0, 1, 0, 1, 0, 0, 0, 0, 1, 1, 1, 1, 1, 1, 0, 1, 1, 1, 1,\n",
       "       1, 1, 1, 1, 0, 1, 1, 1, 0, 0, 0, 0, 1, 0, 0, 0, 0, 1, 1, 0, 1, 0,\n",
       "       1, 0, 1, 0, 0, 1, 0, 0, 0, 0, 1, 1, 1, 0, 1, 0, 0, 1, 1, 1, 0, 0,\n",
       "       0, 0, 1, 0, 1, 1, 1, 1, 1, 1, 0, 0, 1])"
      ]
     },
     "execution_count": 138,
     "metadata": {},
     "output_type": "execute_result"
    }
   ],
   "source": [
    "# Prediction on  training data\n",
    "final_train_pred = final_model.predict(scaled_X_train)\n",
    "final_train_pred"
   ]
  },
  {
   "cell_type": "code",
   "execution_count": 139,
   "metadata": {},
   "outputs": [
    {
     "data": {
      "image/png": "[encoded data removed]",
      "text/plain": [
       "<Figure size 432x432 with 2 Axes>"
      ]
     },
     "metadata": {},
     "output_type": "display_data"
    }
   ],
   "source": [
    "# Confusion Matrix of Training data\n",
    "#Syntax: confusion_matrix(ActualValues, Predicted Values)\n",
    "from sklearn.metrics import confusion_matrix\n",
    "plt.figure(figsize=(6,6))\n",
    "sns.heatmap(confusion_matrix(y_train, final_train_pred), annot=True, \n",
    "            fmt='d', annot_kws={'va':'top','ha':'right'}) # d--> integer formatting\n",
    "plt.show()"
   ]
  },
  {
   "cell_type": "code",
   "execution_count": 140,
   "metadata": {},
   "outputs": [
    {
     "name": "stdout",
     "output_type": "stream",
     "text": [
      "              precision    recall  f1-score   support\n",
      "\n",
      "           0       0.88      0.88      0.88       335\n",
      "           1       0.90      0.89      0.90       382\n",
      "\n",
      "    accuracy                           0.89       717\n",
      "   macro avg       0.89      0.89      0.89       717\n",
      "weighted avg       0.89      0.89      0.89       717\n",
      "\n"
     ]
    }
   ],
   "source": [
    "# Classification report for training Data\n",
    "# Precision--> PPV--> Out of the positive predicted values, how many truely positive\n",
    "print(classification_report(y_train, final_train_pred))"
   ]
  },
  {
   "cell_type": "markdown",
   "metadata": {},
   "source": [
    "In the classification report above we got the accuracy as 0.89"
   ]
  },
  {
   "cell_type": "code",
   "execution_count": 141,
   "metadata": {},
   "outputs": [
    {
     "data": {
      "text/plain": [
       "array([0, 1, 0, 0, 1, 1, 0, 0, 0, 1, 1, 0, 0, 0, 1, 1, 1, 0, 1, 1, 0, 1,\n",
       "       1, 0, 0, 0, 0, 1, 0, 1, 0, 0, 1, 0, 0, 1, 1, 1, 1, 1, 1, 0, 0, 1,\n",
       "       0, 1, 1, 1, 1, 1, 1, 0, 0, 0, 0, 1, 1, 1, 0, 1, 1, 0, 1, 1, 0, 0,\n",
       "       1, 0, 0, 1, 1, 0, 0, 1, 1, 1, 1, 0, 0, 0, 0, 0, 1, 0, 1, 1, 0, 1,\n",
       "       0, 1, 0, 0, 1, 0, 1, 1, 1, 0, 1, 0, 1, 0, 1, 1, 0, 1, 1, 1, 1, 1,\n",
       "       0, 0, 0, 0, 0, 0, 0, 0, 0, 1, 1, 0, 0, 1, 1, 0, 0, 1, 0, 1, 1, 0,\n",
       "       1, 1, 1, 1, 1, 0, 0, 0, 1, 0, 1, 1, 1, 1, 1, 0, 0, 0, 0, 0, 0, 1,\n",
       "       1, 1, 0, 1, 0, 0, 0, 1, 0, 1, 0, 0, 1, 0, 1, 0, 1, 0, 1, 0, 0, 1,\n",
       "       1, 0, 0, 1, 1, 1, 1, 1, 0, 0, 0, 1, 0, 0, 1, 0, 1, 0, 1, 0, 0, 0,\n",
       "       0, 0, 1, 1, 1, 1, 0, 0, 1, 1, 0, 0, 1, 1, 1, 0, 1, 0, 1, 1, 1, 0,\n",
       "       0, 0, 0, 0, 1, 0, 1, 1, 0, 0, 0, 0, 1, 1, 1, 0, 0, 1, 0, 0, 0, 1,\n",
       "       0, 1, 0, 0, 1, 0, 0, 0, 1, 0, 1, 0, 1, 1, 0, 1, 0, 0, 1, 0, 1, 0,\n",
       "       1, 1, 0, 1, 1, 0, 0, 0, 0, 0, 1, 0, 1, 0, 1, 0, 0, 0, 1, 1, 1, 1,\n",
       "       0, 1, 1, 0, 1, 1, 0, 0, 1, 1, 1, 0, 0, 1, 0, 0, 0, 0, 1, 1, 1, 1])"
      ]
     },
     "execution_count": 141,
     "metadata": {},
     "output_type": "execute_result"
    }
   ],
   "source": [
    "# Predictions on Test Data\n",
    "final_test_pred = final_model.predict(scaled_X_test)  # y_test\n",
    "final_test_pred"
   ]
  },
  {
   "cell_type": "markdown",
   "metadata": {},
   "source": [
    " ### Next let us Compare actual values of test data(y_test) and final_test_pred(model predicted values)\n",
    "        Confusion_matrix(actualValues, predictedValues)"
   ]
  },
  {
   "cell_type": "code",
   "execution_count": 142,
   "metadata": {},
   "outputs": [
    {
     "data": {
      "image/png": "[encoded data removed]",
      "text/plain": [
       "<Figure size 432x432 with 2 Axes>"
      ]
     },
     "metadata": {},
     "output_type": "display_data"
    }
   ],
   "source": [
    "plt.figure(figsize=(6,6))\n",
    "sns.heatmap(confusion_matrix(y_test, final_test_pred), annot=True, fmt='d')\n",
    "plt.show()"
   ]
  },
  {
   "cell_type": "code",
   "execution_count": 143,
   "metadata": {},
   "outputs": [
    {
     "name": "stdout",
     "output_type": "stream",
     "text": [
      "              precision    recall  f1-score   support\n",
      "\n",
      "           0       0.90      0.85      0.88       164\n",
      "           1       0.84      0.89      0.86       144\n",
      "\n",
      "    accuracy                           0.87       308\n",
      "   macro avg       0.87      0.87      0.87       308\n",
      "weighted avg       0.87      0.87      0.87       308\n",
      "\n"
     ]
    }
   ],
   "source": [
    "# Classification Report for Test Data\n",
    "print(classification_report(y_test, final_test_pred))"
   ]
  },
  {
   "cell_type": "markdown",
   "metadata": {},
   "source": [
    "from the above classification report we got the values of precision ,recall ,support and accuray.\n",
    "he in the above report we got the accuracy as 0.87"
   ]
  },
  {
   "cell_type": "code",
   "execution_count": 144,
   "metadata": {},
   "outputs": [
    {
     "data": {
      "text/plain": [
       "0.8701298701298701"
      ]
     },
     "execution_count": 144,
     "metadata": {},
     "output_type": "execute_result"
    }
   ],
   "source": [
    "predicted_acc_test=accuracy_score(y_test, final_test_pred)  \n",
    "predicted_acc_test"
   ]
  },
  {
   "cell_type": "code",
   "execution_count": 145,
   "metadata": {},
   "outputs": [
    {
     "data": {
      "text/plain": [
       "0.8884239888423989"
      ]
     },
     "execution_count": 145,
     "metadata": {},
     "output_type": "execute_result"
    }
   ],
   "source": [
    "predicted_acc_test=accuracy_score(y_train, final_train_pred)  \n",
    "predicted_acc_test"
   ]
  },
  {
   "cell_type": "code",
   "execution_count": 146,
   "metadata": {},
   "outputs": [],
   "source": [
    "# Roc curve\n",
    "## TPR, FPR, Threshold\n",
    "from sklearn.metrics import roc_auc_score, roc_curve\n",
    "nprob1 = knn_model.predict_proba(scaled_X_test)[:,1]\n",
    "fpr, tpr, threshold = roc_curve(y_test,nprob1 )"
   ]
  },
  {
   "cell_type": "code",
   "execution_count": 147,
   "metadata": {},
   "outputs": [
    {
     "data": {
      "text/plain": [
       "[<matplotlib.lines.Line2D at 0x1a1df617d0>]"
      ]
     },
     "execution_count": 147,
     "metadata": {},
     "output_type": "execute_result"
    },
    {
     "data": {
      "image/png": "[encoded data removed]",
      "text/plain": [
       "<Figure size 1440x360 with 1 Axes>"
      ]
     },
     "metadata": {},
     "output_type": "display_data"
    }
   ],
   "source": [
    "plt.plot(fpr, tpr)"
   ]
  },
  {
   "cell_type": "code",
   "execution_count": 148,
   "metadata": {},
   "outputs": [
    {
     "data": {
      "text/plain": [
       "0.9418402777777778"
      ]
     },
     "execution_count": 148,
     "metadata": {},
     "output_type": "execute_result"
    }
   ],
   "source": [
    "roc_auc_score(y_test, nprob1)"
   ]
  },
  {
   "cell_type": "code",
   "execution_count": 149,
   "metadata": {},
   "outputs": [
    {
     "name": "stdout",
     "output_type": "stream",
     "text": [
      "Best Hyper Parameters:\n",
      " {'algorithm': 'auto', 'leaf_size': 1, 'n_jobs': -1, 'n_neighbors': 10, 'weights': 'distance'}\n",
      "Accuracy: 0.9772727272727273\n",
      "Confusion Metrix:\n",
      " [[160   4]\n",
      " [  3 141]]\n"
     ]
    }
   ],
   "source": [
    "#With Hyper Parameters Tuning\n",
    "#2-4,kNearestNeighbors\n",
    "#importing modules\n",
    "from sklearn.model_selection import GridSearchCV\n",
    "from sklearn.neighbors import KNeighborsClassifier\n",
    "#making the instance\n",
    "model = KNeighborsClassifier(n_jobs=-1)\n",
    "#Hyper Parameters Set\n",
    "params = {'n_neighbors':[5,6,7,8,9,10],\n",
    "          'leaf_size':[1,2,3,5],\n",
    "          'weights':['uniform', 'distance'],\n",
    "          'algorithm':['auto', 'ball_tree','kd_tree','brute'],\n",
    "          'n_jobs':[-1]}\n",
    "#Making models with hyper parameters sets\n",
    "model1 = GridSearchCV(model, param_grid=params, n_jobs=1)\n",
    "#Learning\n",
    "model1.fit(scaled_X_train,y_train)\n",
    "#The best hyper parameters set\n",
    "print(\"Best Hyper Parameters:\\n\",model1.best_params_)\n",
    "#Prediction\n",
    "final_test_pred=model1.predict(scaled_X_test)\n",
    "#importing the metrics module\n",
    "from sklearn import metrics\n",
    "#evaluation(Accuracy)\n",
    "print(\"Accuracy:\",metrics.accuracy_score(y_test,final_test_pred))\n",
    "#evaluation(Confusion Metrix)\n",
    "print(\"Confusion Metrix:\\n\",metrics.confusion_matrix(y_test,final_test_pred))"
   ]
  },
  {
   "cell_type": "code",
   "execution_count": 150,
   "metadata": {},
   "outputs": [
    {
     "data": {
      "image/png": "[encoded data removed]",
      "text/plain": [
       "<Figure size 432x432 with 2 Axes>"
      ]
     },
     "metadata": {},
     "output_type": "display_data"
    }
   ],
   "source": [
    "plt.figure(figsize=(6,6))\n",
    "sns.heatmap(confusion_matrix(y_test, final_test_pred), annot=True, fmt='d')\n",
    "plt.show()"
   ]
  },
  {
   "cell_type": "code",
   "execution_count": 151,
   "metadata": {},
   "outputs": [],
   "source": [
    "score_knn=accuracy_score(final_test_pred,y_test)"
   ]
  },
  {
   "cell_type": "code",
   "execution_count": 152,
   "metadata": {},
   "outputs": [],
   "source": [
    "# Roc curve\n",
    "## TPR, FPR, Threshold\n",
    "from sklearn.metrics import roc_auc_score, roc_curve\n",
    "m_prob1 = model1.predict_proba(scaled_X_test)[:,1]\n",
    "fpr, tpr, threshold = roc_curve(y_test,m_prob1 )"
   ]
  },
  {
   "cell_type": "code",
   "execution_count": 153,
   "metadata": {},
   "outputs": [
    {
     "data": {
      "text/plain": [
       "[<matplotlib.lines.Line2D at 0x1a1b9dced0>]"
      ]
     },
     "execution_count": 153,
     "metadata": {},
     "output_type": "execute_result"
    },
    {
     "data": {
      "image/png": "[encoded data removed]",
      "text/plain": [
       "<Figure size 1440x360 with 1 Axes>"
      ]
     },
     "metadata": {},
     "output_type": "display_data"
    }
   ],
   "source": [
    "plt.plot(fpr, tpr)"
   ]
  },
  {
   "cell_type": "code",
   "execution_count": 154,
   "metadata": {},
   "outputs": [
    {
     "data": {
      "text/plain": [
       "0.9994918699186992"
      ]
     },
     "execution_count": 154,
     "metadata": {},
     "output_type": "execute_result"
    }
   ],
   "source": [
    "roc_auc_score(y_test, m_prob1)"
   ]
  },
  {
   "cell_type": "markdown",
   "metadata": {},
   "source": [
    "### I got final accuracy for logistic regression as   84.4%\n",
    "### I got final accuracy for  as  K Neighbors Classifier 97.7%\n",
    "### I got final accuracy for logistic regression as   Gausian Naive Bayes 80.4%"
   ]
  },
  {
   "cell_type": "markdown",
   "metadata": {},
   "source": [
    "# Visualizing the models by plotting the graph to find the best one"
   ]
  },
  {
   "cell_type": "code",
   "execution_count": 155,
   "metadata": {},
   "outputs": [
    {
     "name": "stdout",
     "output_type": "stream",
     "text": [
      "The accuracy score achieved using Logistic Regression is: 0.8441558441558441 %\n",
      "The accuracy score achieved using Naive Bayes is: 0.8084415584415584 %\n",
      "The accuracy score achieved using K-Nearest Neighbors is: 0.9772727272727273 %\n"
     ]
    }
   ],
   "source": [
    "scores = [score_lr,score_nb,score_knn]\n",
    "algorithms = [\"Logistic Regression\",\"Naive Bayes\",\"K-Nearest Neighbors\"]   \n",
    "for i in range(len(algorithms)):\n",
    "    print(\"The accuracy score achieved using \"+algorithms[i]+\" is: \"+str(scores[i])+\" %\")"
   ]
  },
  {
   "cell_type": "code",
   "execution_count": 156,
   "metadata": {},
   "outputs": [
    {
     "data": {
      "image/png": "[encoded data removed]",
      "text/plain": [
       "<Figure size 360x360 with 1 Axes>"
      ]
     },
     "metadata": {},
     "output_type": "display_data"
    }
   ],
   "source": [
    "plt.figure(figsize=(5,5))\n",
    "sns.set(rc={'figure.figsize':(15,8)})\n",
    "plt.xlabel(\"Algorithms\")\n",
    "plt.ylabel(\"Accuracy score\")\n",
    "\n",
    "sns.barplot(algorithms,scores)\n",
    "plt.show()"
   ]
  },
  {
   "cell_type": "markdown",
   "metadata": {},
   "source": [
    "### Machine Learning algorithms used are:\n",
    "\n",
    "  1. Logistic Regression (Scikit-learn)\n",
    "  2. Naive Bayes (Scikit-learn)\n",
    "  3. K-Nearest Neighbours (Scikit-learn)"
   ]
  },
  {
   "cell_type": "markdown",
   "metadata": {},
   "source": [
    "Thus preventing Heart diseases has become more than necessary. Good data-driven systems for predicting heart diseases can improve the entire research and prevention process, making sure that more people can live healthy lives. This is where Machine Learning comes into play. Machine Learning helps in predicting the Heart diseases, and the predictions made are quite accurate."
   ]
  },
  {
   "cell_type": "markdown",
   "metadata": {},
   "source": [
    "The project involved analysis of the heart disease patient dataset with proper data processing. Then, different models were trained and and predictions are made with different algorithms KNN, Decision Tree, Random Forest,Logistic Regression etc This is the jupyter notebook code and dataset I've used for my Kaggle kernel."
   ]
  },
  {
   "cell_type": "markdown",
   "metadata": {},
   "source": [
    "I've used a variety of Machine Learning algorithms, implemented in Python, to predict the presence of heart disease in a patient. This is a classification problem, with input features as a variety of parameters, and the target variable as a binary variable, predicting whether heart disease is present or not."
   ]
  },
  {
   "cell_type": "markdown",
   "metadata": {},
   "source": [
    "### Highest Accuracy achieved: 97.7% (K-Nearest Neighbours)"
   ]
  },
  {
   "cell_type": "markdown",
   "metadata": {},
   "source": [
    "### Hence the Best model for this project is K-Nearest Neighbours."
   ]
  },
  {
   "cell_type": "code",
   "execution_count": null,
   "metadata": {},
   "outputs": [],
   "source": []
  }
 ],
 "metadata": {
  "kernelspec": {
   "display_name": "Python 3",
   "language": "python",
   "name": "python3"
  },
  "language_info": {
   "codemirror_mode": {
    "name": "ipython",
    "version": 3
   },
   "file_extension": ".py",
   "mimetype": "text/x-python",
   "name": "python",
   "nbconvert_exporter": "python",
   "pygments_lexer": "ipython3",
   "version": "3.7.6"
  }
 },
 "nbformat": 4,
 "nbformat_minor": 4
}
