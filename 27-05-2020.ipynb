{
  "nbformat": 4,
  "nbformat_minor": 0,
  "metadata": {
    "colab": {
      "name": "assignment.ipynb",
      "provenance": [],
      "private_outputs": true,
      "authorship_tag": "ABX9TyOy7SWaPpH0u0YTcqnSrlEx",
      "include_colab_link": true
    },
    "kernelspec": {
      "name": "python3",
      "display_name": "Python 3"
    }
  },
  "cells": [
    {
      "cell_type": "markdown",
      "metadata": {
        "id": "view-in-github",
        "colab_type": "text"
      },
      "source": [
        "<a href=\"https://colab.research.google.com/github/pravarsha21/DSP/blob/master/assignment.ipynb\" target=\"_parent\"><img src=\"https://colab.research.google.com/assets/colab-badge.svg\" alt=\"Open In Colab\"/></a>"
      ]
    },
    {
      "cell_type": "code",
      "metadata": {
        "id": "u6xhhRgwuPHC",
        "colab_type": "code",
        "colab": {}
      },
      "source": [
        "#Pattern using for loop\n",
        "rows = int(input(\"Enter number of rows \"))\n",
        "for i in range(0, rows):\n",
        "    for j in range(0, i + 1):\n",
        "        print(\"*\", end=' ')\n",
        " \n",
        "    print(\"\\r\")"
      ],
      "execution_count": 0,
      "outputs": []
    },
    {
      "cell_type": "code",
      "metadata": {
        "id": "EJkcFKOovUeV",
        "colab_type": "code",
        "colab": {}
      },
      "source": [
        "num = 7\n",
        "for k in range(1 , 11):\n",
        "    print(num , 'X', k , '=' ,num * k)"
      ],
      "execution_count": 0,
      "outputs": []
    },
    {
      "cell_type": "code",
      "metadata": {
        "id": "bNOGwfcAxv_F",
        "colab_type": "code",
        "colab": {}
      },
      "source": [
        "import cmath\n",
        "a=int(input())\n",
        "b=int(input())\n",
        "c=int(input())\n",
        "d= (b**2) - (4*a*c)\n",
        "sol1 = (-b-cmath.sqrt(d))/2*a\n",
        "sol2 = (-b+cmath.sqrt(d))/2*a\n",
        "print(\"the soln are {0} and {1}\".format(sol1,sol2))"
      ],
      "execution_count": 0,
      "outputs": []
    },
    {
      "cell_type": "code",
      "metadata": {
        "id": "sZn0HvImzpQr",
        "colab_type": "code",
        "colab": {}
      },
      "source": [
        "def decimalToBinary(num):\n",
        "    if num > 1:\n",
        "        decimalToBinary(num // 2)\n",
        "    print(num % 2, end = '')\n",
        "number = int(input(\"Enter the decimal number: \"))\n",
        "\n",
        "#main() function\n",
        "decimalToBinary(number)\n",
        "    \n"
      ],
      "execution_count": 0,
      "outputs": []
    },
    {
      "cell_type": "code",
      "metadata": {
        "id": "Kj5TG6S9BBXC",
        "colab_type": "code",
        "colab": {}
      },
      "source": [
        "#fibonacci series\n",
        "n = int(input(\"enter the value of 'n': \"))\n",
        "a = 0\n",
        "b = 1\n",
        "sum = 0\n",
        "count = 1\n",
        "print(\"Fibonacci Series: \",end = \" \")\n",
        "while (count <= n):\n",
        "  print(sum, end = \" \")\n",
        "  count += 1\n",
        "  a = b\n",
        "  b = sum\n",
        "  sum = a + b "
      ],
      "execution_count": 0,
      "outputs": []
    }
  ]
}
